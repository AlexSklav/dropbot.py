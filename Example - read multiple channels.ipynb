{
 "cells": [
  {
   "cell_type": "code",
   "execution_count": 61,
   "metadata": {
    "collapsed": false
   },
   "outputs": [],
   "source": [
    "from datetime import datetime\n",
    "\n",
    "import pandas as pd\n",
    "import arduino_helpers.hardware.teensy as teensy\n",
    "from arduino_helpers.hardware.teensy.adc import ADC_DESCRIPTIONS\n",
    "import arduino_helpers.hardware.arduino as arduino\n",
    "from arduino_rpc.protobuf import resolve_field_values\n",
    "\n",
    "from teensy_minimal_rpc import SerialProxy\n",
    "import teensy_minimal_rpc.ADC as adc\n",
    "import teensy_minimal_rpc.DMA as dma\n",
    "import teensy_minimal_rpc.SIM as sim"
   ]
  },
  {
   "cell_type": "code",
   "execution_count": 63,
   "metadata": {
    "collapsed": false
   },
   "outputs": [],
   "source": [
    "try:\n",
    "    del proxy\n",
    "except NameError:\n",
    "    pass\n",
    "\n",
    "proxy = SerialProxy(baudrate=512000)\n",
    "\n",
    "proxy.pin_mode(13, 1)\n",
    "proxy.digital_write(13, 1)\n",
    "proxy.enableDMA(teensy.ADC_0)\n",
    "proxy.enableInterrupts(teensy.ADC_0)\n",
    "proxy.dma_start(256)\n",
    "\n",
    "# Set ADC parameters\n",
    "proxy.setAveraging(4, teensy.ADC_0)\n",
    "proxy.setResolution(10, teensy.ADC_0)\n",
    "proxy.setConversionSpeed(teensy.ADC_VERY_HIGH_SPEED, teensy.ADC_0)\n",
    "proxy.setSamplingSpeed(teensy.ADC_VERY_HIGH_SPEED, teensy.ADC_0)"
   ]
  },
  {
   "cell_type": "code",
   "execution_count": 27,
   "metadata": {
    "collapsed": false
   },
   "outputs": [
    {
     "data": {
      "text/html": [
       "<div>\n",
       "<table border=\"1\" class=\"dataframe\">\n",
       "  <thead>\n",
       "    <tr style=\"text-align: right;\">\n",
       "      <th></th>\n",
       "      <th>full_name</th>\n",
       "      <th>value</th>\n",
       "    </tr>\n",
       "    <tr>\n",
       "      <th>parent_name</th>\n",
       "      <th></th>\n",
       "      <th></th>\n",
       "    </tr>\n",
       "  </thead>\n",
       "  <tbody>\n",
       "    <tr>\n",
       "      <th></th>\n",
       "      <td>DLASTSGA</td>\n",
       "      <td>0</td>\n",
       "    </tr>\n",
       "    <tr>\n",
       "      <th></th>\n",
       "      <td>SLAST</td>\n",
       "      <td>0</td>\n",
       "    </tr>\n",
       "    <tr>\n",
       "      <th></th>\n",
       "      <td>SOFF</td>\n",
       "      <td>0</td>\n",
       "    </tr>\n",
       "    <tr>\n",
       "      <th></th>\n",
       "      <td>DOFF</td>\n",
       "      <td>2</td>\n",
       "    </tr>\n",
       "    <tr>\n",
       "      <th></th>\n",
       "      <td>DADDR</td>\n",
       "      <td>536842240</td>\n",
       "    </tr>\n",
       "    <tr>\n",
       "      <th></th>\n",
       "      <td>SADDR</td>\n",
       "      <td>1073983504</td>\n",
       "    </tr>\n",
       "    <tr>\n",
       "      <th>CITER_ELINKNO</th>\n",
       "      <td>CITER_ELINKNO.ELINK</td>\n",
       "      <td>False</td>\n",
       "    </tr>\n",
       "    <tr>\n",
       "      <th>CITER_ELINKNO</th>\n",
       "      <td>CITER_ELINKNO.ITER</td>\n",
       "      <td>1</td>\n",
       "    </tr>\n",
       "    <tr>\n",
       "      <th>ATTR</th>\n",
       "      <td>ATTR.SMOD</td>\n",
       "      <td>0</td>\n",
       "    </tr>\n",
       "    <tr>\n",
       "      <th>ATTR</th>\n",
       "      <td>ATTR.DSIZE</td>\n",
       "      <td>_16_BIT</td>\n",
       "    </tr>\n",
       "    <tr>\n",
       "      <th>ATTR</th>\n",
       "      <td>ATTR.DMOD</td>\n",
       "      <td>9</td>\n",
       "    </tr>\n",
       "    <tr>\n",
       "      <th>ATTR</th>\n",
       "      <td>ATTR.SSIZE</td>\n",
       "      <td>_16_BIT</td>\n",
       "    </tr>\n",
       "    <tr>\n",
       "      <th>BITER_ELINKNO</th>\n",
       "      <td>BITER_ELINKNO.ELINK</td>\n",
       "      <td>False</td>\n",
       "    </tr>\n",
       "    <tr>\n",
       "      <th>BITER_ELINKNO</th>\n",
       "      <td>BITER_ELINKNO.ITER</td>\n",
       "      <td>1</td>\n",
       "    </tr>\n",
       "    <tr>\n",
       "      <th>NBYTES_MLOFFNO</th>\n",
       "      <td>NBYTES_MLOFFNO.SMLOE</td>\n",
       "      <td>False</td>\n",
       "    </tr>\n",
       "    <tr>\n",
       "      <th>NBYTES_MLOFFNO</th>\n",
       "      <td>NBYTES_MLOFFNO.DMLOE</td>\n",
       "      <td>False</td>\n",
       "    </tr>\n",
       "    <tr>\n",
       "      <th>NBYTES_MLOFFNO</th>\n",
       "      <td>NBYTES_MLOFFNO.NBYTES</td>\n",
       "      <td>2</td>\n",
       "    </tr>\n",
       "    <tr>\n",
       "      <th>CSR</th>\n",
       "      <td>CSR.INTHALF</td>\n",
       "      <td>False</td>\n",
       "    </tr>\n",
       "    <tr>\n",
       "      <th>CSR</th>\n",
       "      <td>CSR.DREQ</td>\n",
       "      <td>False</td>\n",
       "    </tr>\n",
       "    <tr>\n",
       "      <th>CSR</th>\n",
       "      <td>CSR.MAJORELINK</td>\n",
       "      <td>False</td>\n",
       "    </tr>\n",
       "    <tr>\n",
       "      <th>CSR</th>\n",
       "      <td>CSR.MAJORLINKCH</td>\n",
       "      <td>0</td>\n",
       "    </tr>\n",
       "    <tr>\n",
       "      <th>CSR</th>\n",
       "      <td>CSR.ESG</td>\n",
       "      <td>False</td>\n",
       "    </tr>\n",
       "    <tr>\n",
       "      <th>CSR</th>\n",
       "      <td>CSR.START</td>\n",
       "      <td>False</td>\n",
       "    </tr>\n",
       "    <tr>\n",
       "      <th>CSR</th>\n",
       "      <td>CSR.BWC</td>\n",
       "      <td>NO_STALLS</td>\n",
       "    </tr>\n",
       "    <tr>\n",
       "      <th>CSR</th>\n",
       "      <td>CSR.DONE</td>\n",
       "      <td>False</td>\n",
       "    </tr>\n",
       "    <tr>\n",
       "      <th>CSR</th>\n",
       "      <td>CSR.ACTIVE</td>\n",
       "      <td>False</td>\n",
       "    </tr>\n",
       "    <tr>\n",
       "      <th>CSR</th>\n",
       "      <td>CSR.INTMAJOR</td>\n",
       "      <td>True</td>\n",
       "    </tr>\n",
       "  </tbody>\n",
       "</table>\n",
       "</div>"
      ],
      "text/plain": [
       "                            full_name       value\n",
       "parent_name                                      \n",
       "                             DLASTSGA           0\n",
       "                                SLAST           0\n",
       "                                 SOFF           0\n",
       "                                 DOFF           2\n",
       "                                DADDR   536842240\n",
       "                                SADDR  1073983504\n",
       "CITER_ELINKNO     CITER_ELINKNO.ELINK       False\n",
       "CITER_ELINKNO      CITER_ELINKNO.ITER           1\n",
       "ATTR                        ATTR.SMOD           0\n",
       "ATTR                       ATTR.DSIZE     _16_BIT\n",
       "ATTR                        ATTR.DMOD           9\n",
       "ATTR                       ATTR.SSIZE     _16_BIT\n",
       "BITER_ELINKNO     BITER_ELINKNO.ELINK       False\n",
       "BITER_ELINKNO      BITER_ELINKNO.ITER           1\n",
       "NBYTES_MLOFFNO   NBYTES_MLOFFNO.SMLOE       False\n",
       "NBYTES_MLOFFNO   NBYTES_MLOFFNO.DMLOE       False\n",
       "NBYTES_MLOFFNO  NBYTES_MLOFFNO.NBYTES           2\n",
       "CSR                       CSR.INTHALF       False\n",
       "CSR                          CSR.DREQ       False\n",
       "CSR                    CSR.MAJORELINK       False\n",
       "CSR                   CSR.MAJORLINKCH           0\n",
       "CSR                           CSR.ESG       False\n",
       "CSR                         CSR.START       False\n",
       "CSR                           CSR.BWC   NO_STALLS\n",
       "CSR                          CSR.DONE       False\n",
       "CSR                        CSR.ACTIVE       False\n",
       "CSR                      CSR.INTMAJOR        True"
      ]
     },
     "execution_count": 27,
     "metadata": {},
     "output_type": "execute_result"
    }
   ],
   "source": [
    "tcd = dma.TCD.FromString(proxy.read_dma_TCD(0).tostring())\n",
    "\n",
    "df_tdc_fields = resolve_field_values(tcd)\n",
    "df_tdc_fields[['full_name', 'value']].dropna()"
   ]
  },
  {
   "cell_type": "code",
   "execution_count": 14,
   "metadata": {
    "collapsed": false
   },
   "outputs": [
    {
     "data": {
      "text/html": [
       "<div>\n",
       "<table border=\"1\" class=\"dataframe\">\n",
       "  <thead>\n",
       "    <tr style=\"text-align: right;\">\n",
       "      <th>parent_name</th>\n",
       "      <th></th>\n",
       "      <th></th>\n",
       "      <th></th>\n",
       "      <th></th>\n",
       "      <th></th>\n",
       "      <th></th>\n",
       "      <th></th>\n",
       "      <th></th>\n",
       "      <th></th>\n",
       "      <th></th>\n",
       "      <th></th>\n",
       "      <th></th>\n",
       "      <th></th>\n",
       "      <th></th>\n",
       "    </tr>\n",
       "  </thead>\n",
       "  <tbody>\n",
       "    <tr>\n",
       "      <th>full_name</th>\n",
       "      <td>USBDCD</td>\n",
       "      <td>SPI0</td>\n",
       "      <td>SPI1</td>\n",
       "      <td>RTC</td>\n",
       "      <td>FTM1</td>\n",
       "      <td>FTM0</td>\n",
       "      <td>I2S</td>\n",
       "      <td>DMAMUX</td>\n",
       "      <td>CRC</td>\n",
       "      <td>FTFL</td>\n",
       "      <td>ADC0</td>\n",
       "      <td>FLEXCAN0</td>\n",
       "      <td>PIT</td>\n",
       "      <td>PDB</td>\n",
       "    </tr>\n",
       "    <tr>\n",
       "      <th>value</th>\n",
       "      <td>False</td>\n",
       "      <td>False</td>\n",
       "      <td>False</td>\n",
       "      <td>False</td>\n",
       "      <td>True</td>\n",
       "      <td>True</td>\n",
       "      <td>False</td>\n",
       "      <td>True</td>\n",
       "      <td>False</td>\n",
       "      <td>True</td>\n",
       "      <td>True</td>\n",
       "      <td>False</td>\n",
       "      <td>False</td>\n",
       "      <td>False</td>\n",
       "    </tr>\n",
       "  </tbody>\n",
       "</table>\n",
       "</div>"
      ],
      "text/plain": [
       "parent_name                                                                 \\\n",
       "full_name    USBDCD   SPI0   SPI1    RTC  FTM1  FTM0    I2S  DMAMUX    CRC   \n",
       "value         False  False  False  False  True  True  False    True  False   \n",
       "\n",
       "parent_name                                      \n",
       "full_name    FTFL  ADC0  FLEXCAN0    PIT    PDB  \n",
       "value        True  True     False  False  False  "
      ]
     },
     "execution_count": 14,
     "metadata": {},
     "output_type": "execute_result"
    }
   ],
   "source": [
    "scgc6 = sim.R_SCGC6.FromString(proxy.read_sim_SCGC6().tostring())\n",
    "\n",
    "df_scgc6_fields = resolve_field_values(scgc6)\n",
    "df_scgc6_fields[['full_name', 'value']].dropna().T"
   ]
  },
  {
   "cell_type": "code",
   "execution_count": 29,
   "metadata": {
    "collapsed": false
   },
   "outputs": [
    {
     "data": {
      "text/html": [
       "<div>\n",
       "<table border=\"1\" class=\"dataframe\">\n",
       "  <thead>\n",
       "    <tr style=\"text-align: right;\">\n",
       "      <th>parent_name</th>\n",
       "      <th></th>\n",
       "    </tr>\n",
       "  </thead>\n",
       "  <tbody>\n",
       "    <tr>\n",
       "      <th>full_name</th>\n",
       "      <td>DMA</td>\n",
       "    </tr>\n",
       "    <tr>\n",
       "      <th>value</th>\n",
       "      <td>True</td>\n",
       "    </tr>\n",
       "  </tbody>\n",
       "</table>\n",
       "</div>"
      ],
      "text/plain": [
       "parent_name      \n",
       "full_name     DMA\n",
       "value        True"
      ]
     },
     "execution_count": 29,
     "metadata": {},
     "output_type": "execute_result"
    }
   ],
   "source": [
    "scgc7 = sim.R_SCGC7.FromString(proxy.read_sim_SCGC7().tostring())\n",
    "\n",
    "df_scgc7_fields = resolve_field_values(scgc7)\n",
    "df_scgc7_fields[['full_name', 'value']].dropna().T"
   ]
  },
  {
   "cell_type": "code",
   "execution_count": 43,
   "metadata": {
    "collapsed": false
   },
   "outputs": [
    {
     "data": {
      "text/plain": [
       "1"
      ]
     },
     "execution_count": 43,
     "metadata": {},
     "output_type": "execute_result"
    }
   ],
   "source": [
    "proxy.startSingleRead(teensy.A1, teensy.ADC_0)"
   ]
  },
  {
   "cell_type": "code",
   "execution_count": 58,
   "metadata": {
    "collapsed": false
   },
   "outputs": [
    {
     "data": {
      "text/plain": [
       "array([0, 0], dtype=uint16)"
      ]
     },
     "execution_count": 58,
     "metadata": {},
     "output_type": "execute_result"
    }
   ],
   "source": [
    "proxy.adc_read()"
   ]
  },
  {
   "cell_type": "code",
   "execution_count": 65,
   "metadata": {
    "collapsed": false
   },
   "outputs": [
    {
     "data": {
      "text/html": [
       "<div>\n",
       "<table border=\"1\" class=\"dataframe\">\n",
       "  <thead>\n",
       "    <tr style=\"text-align: right;\">\n",
       "      <th></th>\n",
       "      <th>full_name</th>\n",
       "      <th>value</th>\n",
       "      <th>short_description</th>\n",
       "    </tr>\n",
       "    <tr>\n",
       "      <th>parent_name</th>\n",
       "      <th></th>\n",
       "      <th></th>\n",
       "      <th></th>\n",
       "    </tr>\n",
       "  </thead>\n",
       "  <tbody>\n",
       "    <tr>\n",
       "      <th></th>\n",
       "      <td>RB</td>\n",
       "      <td>0</td>\n",
       "      <td>ADC Data Result Register</td>\n",
       "    </tr>\n",
       "    <tr>\n",
       "      <th></th>\n",
       "      <td>RA</td>\n",
       "      <td>0</td>\n",
       "      <td>ADC Data Result Register</td>\n",
       "    </tr>\n",
       "    <tr>\n",
       "      <th>CFG2</th>\n",
       "      <td>CFG2.MUXSEL</td>\n",
       "      <td>A</td>\n",
       "      <td>ADC mux select</td>\n",
       "    </tr>\n",
       "    <tr>\n",
       "      <th>CFG2</th>\n",
       "      <td>CFG2.ADLSTS</td>\n",
       "      <td>ADD_6_ADCK_CYCLES</td>\n",
       "      <td>Long sample time select</td>\n",
       "    </tr>\n",
       "    <tr>\n",
       "      <th>CFG2</th>\n",
       "      <td>CFG2.ADHSC</td>\n",
       "      <td>True</td>\n",
       "      <td>High-speed configuration</td>\n",
       "    </tr>\n",
       "    <tr>\n",
       "      <th>CFG2</th>\n",
       "      <td>CFG2.ADACKEN</td>\n",
       "      <td>False</td>\n",
       "      <td>Asynchronous clock output enable</td>\n",
       "    </tr>\n",
       "    <tr>\n",
       "      <th>CFG1</th>\n",
       "      <td>CFG1.ADLSMP</td>\n",
       "      <td>SHORT</td>\n",
       "      <td>Sample time configuration</td>\n",
       "    </tr>\n",
       "    <tr>\n",
       "      <th>CFG1</th>\n",
       "      <td>CFG1.ADICLK</td>\n",
       "      <td>BUS_CLOCK_DIV_2</td>\n",
       "      <td>Input clock select</td>\n",
       "    </tr>\n",
       "    <tr>\n",
       "      <th>CFG1</th>\n",
       "      <td>CFG1.MODE</td>\n",
       "      <td>_10_BIT</td>\n",
       "      <td>Conversion mode selection</td>\n",
       "    </tr>\n",
       "    <tr>\n",
       "      <th>CFG1</th>\n",
       "      <td>CFG1.ADIV</td>\n",
       "      <td>ONE</td>\n",
       "      <td>Clock divide select</td>\n",
       "    </tr>\n",
       "    <tr>\n",
       "      <th>CFG1</th>\n",
       "      <td>CFG1.ADLPC</td>\n",
       "      <td>False</td>\n",
       "      <td>Low-power configuration</td>\n",
       "    </tr>\n",
       "    <tr>\n",
       "      <th>SC1A</th>\n",
       "      <td>SC1A.COCO</td>\n",
       "      <td>False</td>\n",
       "      <td>Conversion complete flag</td>\n",
       "    </tr>\n",
       "    <tr>\n",
       "      <th>SC1A</th>\n",
       "      <td>SC1A.DIFF</td>\n",
       "      <td>False</td>\n",
       "      <td>Differential mode enable</td>\n",
       "    </tr>\n",
       "    <tr>\n",
       "      <th>SC1A</th>\n",
       "      <td>SC1A.AIEN</td>\n",
       "      <td>True</td>\n",
       "      <td>Interrupt enable</td>\n",
       "    </tr>\n",
       "    <tr>\n",
       "      <th>SC1A</th>\n",
       "      <td>SC1A.ADCH</td>\n",
       "      <td>31</td>\n",
       "      <td>Input channel select</td>\n",
       "    </tr>\n",
       "    <tr>\n",
       "      <th>SC1B</th>\n",
       "      <td>SC1B.COCO</td>\n",
       "      <td>False</td>\n",
       "      <td>Conversion complete flag</td>\n",
       "    </tr>\n",
       "    <tr>\n",
       "      <th>SC1B</th>\n",
       "      <td>SC1B.DIFF</td>\n",
       "      <td>False</td>\n",
       "      <td>Differential mode enable</td>\n",
       "    </tr>\n",
       "    <tr>\n",
       "      <th>SC1B</th>\n",
       "      <td>SC1B.AIEN</td>\n",
       "      <td>False</td>\n",
       "      <td>Interrupt enable</td>\n",
       "    </tr>\n",
       "    <tr>\n",
       "      <th>SC1B</th>\n",
       "      <td>SC1B.ADCH</td>\n",
       "      <td>31</td>\n",
       "      <td>Input channel select</td>\n",
       "    </tr>\n",
       "    <tr>\n",
       "      <th>PGA</th>\n",
       "      <td>PGA.PGAEN</td>\n",
       "      <td>False</td>\n",
       "      <td>PGA enable</td>\n",
       "    </tr>\n",
       "    <tr>\n",
       "      <th>PGA</th>\n",
       "      <td>PGA.PGALPb</td>\n",
       "      <td>False</td>\n",
       "      <td>PGA low-power mode control</td>\n",
       "    </tr>\n",
       "    <tr>\n",
       "      <th>PGA</th>\n",
       "      <td>PGA.PGAG</td>\n",
       "      <td>_1</td>\n",
       "      <td>PGA Gain setting, $PGA~gain = 2^{PGAG}$</td>\n",
       "    </tr>\n",
       "    <tr>\n",
       "      <th>SC3</th>\n",
       "      <td>SC3.AVGE</td>\n",
       "      <td>True</td>\n",
       "      <td>Hardware average enable</td>\n",
       "    </tr>\n",
       "    <tr>\n",
       "      <th>SC3</th>\n",
       "      <td>SC3.ADCO</td>\n",
       "      <td>False</td>\n",
       "      <td>Continuous conversion enable</td>\n",
       "    </tr>\n",
       "    <tr>\n",
       "      <th>SC3</th>\n",
       "      <td>SC3.AVGS</td>\n",
       "      <td>_4</td>\n",
       "      <td>Hardware average select</td>\n",
       "    </tr>\n",
       "    <tr>\n",
       "      <th>SC3</th>\n",
       "      <td>SC3.CALF</td>\n",
       "      <td>False</td>\n",
       "      <td>Calibration failed flag</td>\n",
       "    </tr>\n",
       "    <tr>\n",
       "      <th>SC3</th>\n",
       "      <td>SC3.CAL</td>\n",
       "      <td>False</td>\n",
       "      <td>Calibration</td>\n",
       "    </tr>\n",
       "    <tr>\n",
       "      <th>SC2</th>\n",
       "      <td>SC2.DMAEN</td>\n",
       "      <td>True</td>\n",
       "      <td>DMA enable</td>\n",
       "    </tr>\n",
       "    <tr>\n",
       "      <th>SC2</th>\n",
       "      <td>SC2.REFSEL</td>\n",
       "      <td>DEFAULT</td>\n",
       "      <td>Voltage reference selection</td>\n",
       "    </tr>\n",
       "    <tr>\n",
       "      <th>SC2</th>\n",
       "      <td>SC2.ADACT</td>\n",
       "      <td>False</td>\n",
       "      <td>Conversion active</td>\n",
       "    </tr>\n",
       "    <tr>\n",
       "      <th>SC2</th>\n",
       "      <td>SC2.ACFGT</td>\n",
       "      <td>False</td>\n",
       "      <td>Compare function greater than enable</td>\n",
       "    </tr>\n",
       "    <tr>\n",
       "      <th>SC2</th>\n",
       "      <td>SC2.ADTRG</td>\n",
       "      <td>SOFTWARE</td>\n",
       "      <td>Conversion trigger select</td>\n",
       "    </tr>\n",
       "    <tr>\n",
       "      <th>SC2</th>\n",
       "      <td>SC2.ACREN</td>\n",
       "      <td>False</td>\n",
       "      <td>Compare function range enable</td>\n",
       "    </tr>\n",
       "    <tr>\n",
       "      <th>SC2</th>\n",
       "      <td>SC2.ACFE</td>\n",
       "      <td>False</td>\n",
       "      <td>Compare function enable</td>\n",
       "    </tr>\n",
       "  </tbody>\n",
       "</table>\n",
       "</div>"
      ],
      "text/plain": [
       "                full_name              value  \\\n",
       "parent_name                                    \n",
       "                       RB                  0   \n",
       "                       RA                  0   \n",
       "CFG2          CFG2.MUXSEL                  A   \n",
       "CFG2          CFG2.ADLSTS  ADD_6_ADCK_CYCLES   \n",
       "CFG2           CFG2.ADHSC               True   \n",
       "CFG2         CFG2.ADACKEN              False   \n",
       "CFG1          CFG1.ADLSMP              SHORT   \n",
       "CFG1          CFG1.ADICLK    BUS_CLOCK_DIV_2   \n",
       "CFG1            CFG1.MODE            _10_BIT   \n",
       "CFG1            CFG1.ADIV                ONE   \n",
       "CFG1           CFG1.ADLPC              False   \n",
       "SC1A            SC1A.COCO              False   \n",
       "SC1A            SC1A.DIFF              False   \n",
       "SC1A            SC1A.AIEN               True   \n",
       "SC1A            SC1A.ADCH                 31   \n",
       "SC1B            SC1B.COCO              False   \n",
       "SC1B            SC1B.DIFF              False   \n",
       "SC1B            SC1B.AIEN              False   \n",
       "SC1B            SC1B.ADCH                 31   \n",
       "PGA             PGA.PGAEN              False   \n",
       "PGA            PGA.PGALPb              False   \n",
       "PGA              PGA.PGAG                 _1   \n",
       "SC3              SC3.AVGE               True   \n",
       "SC3              SC3.ADCO              False   \n",
       "SC3              SC3.AVGS                 _4   \n",
       "SC3              SC3.CALF              False   \n",
       "SC3               SC3.CAL              False   \n",
       "SC2             SC2.DMAEN               True   \n",
       "SC2            SC2.REFSEL            DEFAULT   \n",
       "SC2             SC2.ADACT              False   \n",
       "SC2             SC2.ACFGT              False   \n",
       "SC2             SC2.ADTRG           SOFTWARE   \n",
       "SC2             SC2.ACREN              False   \n",
       "SC2              SC2.ACFE              False   \n",
       "\n",
       "                                   short_description  \n",
       "parent_name                                           \n",
       "                            ADC Data Result Register  \n",
       "                            ADC Data Result Register  \n",
       "CFG2                                  ADC mux select  \n",
       "CFG2                         Long sample time select  \n",
       "CFG2                        High-speed configuration  \n",
       "CFG2                Asynchronous clock output enable  \n",
       "CFG1                       Sample time configuration  \n",
       "CFG1                              Input clock select  \n",
       "CFG1                       Conversion mode selection  \n",
       "CFG1                             Clock divide select  \n",
       "CFG1                         Low-power configuration  \n",
       "SC1A                        Conversion complete flag  \n",
       "SC1A                        Differential mode enable  \n",
       "SC1A                                Interrupt enable  \n",
       "SC1A                            Input channel select  \n",
       "SC1B                        Conversion complete flag  \n",
       "SC1B                        Differential mode enable  \n",
       "SC1B                                Interrupt enable  \n",
       "SC1B                            Input channel select  \n",
       "PGA                                       PGA enable  \n",
       "PGA                       PGA low-power mode control  \n",
       "PGA          PGA Gain setting, $PGA~gain = 2^{PGAG}$  \n",
       "SC3                          Hardware average enable  \n",
       "SC3                     Continuous conversion enable  \n",
       "SC3                          Hardware average select  \n",
       "SC3                          Calibration failed flag  \n",
       "SC3                                      Calibration  \n",
       "SC2                                       DMA enable  \n",
       "SC2                      Voltage reference selection  \n",
       "SC2                                Conversion active  \n",
       "SC2             Compare function greater than enable  \n",
       "SC2                        Conversion trigger select  \n",
       "SC2                    Compare function range enable  \n",
       "SC2                          Compare function enable  "
      ]
     },
     "execution_count": 65,
     "metadata": {},
     "output_type": "execute_result"
    }
   ],
   "source": [
    "adc0_registers = adc.Registers.FromString(proxy.read_adc_registers(0).tostring())\n",
    "df_fields = resolve_field_values(adc0_registers).join(ADC_DESCRIPTIONS, on='full_name') \n",
    "df_fields.loc[(df_fields.index != '') |\n",
    "              df_fields.full_name.str.startswith('R'),\n",
    "              ['full_name', 'value', 'short_description']]"
   ]
  },
  {
   "cell_type": "code",
   "execution_count": 24,
   "metadata": {
    "collapsed": false
   },
   "outputs": [
    {
     "data": {
      "text/plain": [
       "5"
      ]
     },
     "execution_count": 24,
     "metadata": {},
     "output_type": "execute_result"
    }
   ],
   "source": [
    "teensy.adc.SC1A_TO_CHANNEL_ADC0[df_fields.set_index('full_name').loc['SC1A.ADCH'].value]\n",
    "teensy.adc.CHANNEL_TO_SC1A_ADC0[teensy.A0]"
   ]
  },
  {
   "cell_type": "code",
   "execution_count": 16,
   "metadata": {
    "collapsed": false
   },
   "outputs": [
    {
     "data": {
      "text/plain": [
       "1023"
      ]
     },
     "execution_count": 16,
     "metadata": {},
     "output_type": "execute_result"
    }
   ],
   "source": [
    "proxy.analogRead(teensy.A0, teensy.ADC_0)"
   ]
  },
  {
   "cell_type": "code",
   "execution_count": 36,
   "metadata": {
    "collapsed": false
   },
   "outputs": [
    {
     "data": {
      "text/plain": [
       "[('teensy._3_1.ADC_REGISTERS.SC1A', <ADC_pb2.R_SC1 at 0xa2b6630>),\n",
       " ('teensy._3_1.ADC_REGISTERS.SC1B', <ADC_pb2.R_SC1 at 0xa2b6770>),\n",
       " ('teensy._3_1.ADC_REGISTERS.CFG1', <ADC_pb2.R_CFG1 at 0xa2b6670>),\n",
       " ('teensy._3_1.ADC_REGISTERS.CFG2', <ADC_pb2.R_CFG2 at 0xa2b66b0>),\n",
       " ('teensy._3_1.ADC_REGISTERS.RA', 0),\n",
       " ('teensy._3_1.ADC_REGISTERS.RB', 0),\n",
       " ('teensy._3_1.ADC_REGISTERS.CV1', 0),\n",
       " ('teensy._3_1.ADC_REGISTERS.CV2', 0),\n",
       " ('teensy._3_1.ADC_REGISTERS.SC2', <ADC_pb2.R_SC2 at 0xa2b67b0>),\n",
       " ('teensy._3_1.ADC_REGISTERS.SC3', <ADC_pb2.R_SC3 at 0xa2b67f0>),\n",
       " ('teensy._3_1.ADC_REGISTERS.OFS', 65535),\n",
       " ('teensy._3_1.ADC_REGISTERS.PG', 33479),\n",
       " ('teensy._3_1.ADC_REGISTERS.MG', 33444),\n",
       " ('teensy._3_1.ADC_REGISTERS.CLPD', 18),\n",
       " ('teensy._3_1.ADC_REGISTERS.CLPS', 46),\n",
       " ('teensy._3_1.ADC_REGISTERS.CLP4', 705),\n",
       " ('teensy._3_1.ADC_REGISTERS.CLP3', 356),\n",
       " ('teensy._3_1.ADC_REGISTERS.CLP2', 179),\n",
       " ('teensy._3_1.ADC_REGISTERS.CLP1', 91),\n",
       " ('teensy._3_1.ADC_REGISTERS.CLP0', 45),\n",
       " ('teensy._3_1.ADC_REGISTERS.PGA', <ADC_pb2.R_PGA at 0xa2b6830>),\n",
       " ('teensy._3_1.ADC_REGISTERS.CLMD', 17),\n",
       " ('teensy._3_1.ADC_REGISTERS.CLMS', 43),\n",
       " ('teensy._3_1.ADC_REGISTERS.CLM4', 672),\n",
       " ('teensy._3_1.ADC_REGISTERS.CLM3', 339),\n",
       " ('teensy._3_1.ADC_REGISTERS.CLM2', 170),\n",
       " ('teensy._3_1.ADC_REGISTERS.CLM1', 87),\n",
       " ('teensy._3_1.ADC_REGISTERS.CLM0', 42)]"
      ]
     },
     "execution_count": 36,
     "metadata": {},
     "output_type": "execute_result"
    }
   ],
   "source": [
    "[(k.full_name, v) for k, v in adc0_registers.ListFields()]"
   ]
  },
  {
   "cell_type": "code",
   "execution_count": 11,
   "metadata": {
    "collapsed": false
   },
   "outputs": [
    {
     "data": {
      "text/plain": [
       "True"
      ]
     },
     "execution_count": 11,
     "metadata": {},
     "output_type": "execute_result"
    }
   ],
   "source": [
    "adc0_registers.SC3."
   ]
  },
  {
   "cell_type": "code",
   "execution_count": 140,
   "metadata": {
    "collapsed": false
   },
   "outputs": [],
   "source": [
    "proxy.start_timer(20)"
   ]
  },
  {
   "cell_type": "code",
   "execution_count": 141,
   "metadata": {
    "collapsed": true
   },
   "outputs": [],
   "source": [
    "%matplotlib inline"
   ]
  },
  {
   "cell_type": "code",
   "execution_count": 219,
   "metadata": {
    "collapsed": false
   },
   "outputs": [],
   "source": [
    "frames = []\n",
    "for i in xrange(100):\n",
    "    result = proxy.adc_read()\n",
    "    adc_count = result[:2].view('uint32')[0]\n",
    "    channel_start_i = [0, 1]\n",
    "    channel_readings = result[2:]\n",
    "\n",
    "    #frame = pd.DataFrame([[adc_count[0], adc_count, channel_readings[0]]],\n",
    "                         #columns=['count', 'adc_count', 'reading'])\n",
    "    frame = pd.DataFrame(channel_readings, columns=['reading'])\n",
    "    frame.insert(0, 'adc_count', adc_count)\n",
    "    frame.insert(0, 'i', i)\n",
    "    frames.append(frame)\n",
    "    \n",
    "readings = pd.concat(frames)"
   ]
  },
  {
   "cell_type": "code",
   "execution_count": 227,
   "metadata": {
    "collapsed": false
   },
   "outputs": [
    {
     "data": {
      "text/plain": [
       "256"
      ]
     },
     "execution_count": 227,
     "metadata": {},
     "output_type": "execute_result"
    }
   ],
   "source": [
    "import numpy as np\n",
    "# print pd.Series(channel_readings[channel_start_i[0]::2]).describe()\n",
    "# print pd.Series(channel_readings[channel_start_i[1]::2]).describe()\n",
    "\n",
    "df_i = readings.reset_index(drop=True)\n",
    "df_i['offset'] = df_i.groupby('i')['adc_count'].transform(lambda v: v & 0x01)\n",
    "\n",
    "count_scan = np.zeros(df_i.i.unique().shape[0], dtype='uint')\n",
    "count_scan[1:] = df_i.groupby('i')['adc_count'].count().cumsum()[:-1]\n",
    "df_i.loc[:, 'count_exc_scan'] = count_scan[df_i['i']]\n",
    "df_i['group_i'] = np.arange(df_i.shape[0]) - df_i['count_exc_scan'] \n",
    "df_i['channel_i'] = 0\n",
    "df_i.loc[(df_i.group_i & 0x01 == 1) & (df_i.offset == 0), 'channel_i'] = 1\n",
    "df_i.loc[(df_i.group_i & 0x01 == 0) & (df_i.offset == 1), 'channel_i'] = 1\n",
    "df_i.drop('count_exc_scan', axis=1, inplace=True)\n",
    "df_i.loc[(df_i.channel_i == 0) & (df_i.reading < 1000),\n",
    "         ['group_i', 'channel_i', 'reading']].shape[0]"
   ]
  },
  {
   "cell_type": "code",
   "execution_count": 123,
   "metadata": {
    "collapsed": false
   },
   "outputs": [
    {
     "data": {
      "text/plain": [
       "256"
      ]
     },
     "execution_count": 123,
     "metadata": {},
     "output_type": "execute_result"
    }
   ],
   "source": [
    "proxy.dma_available()"
   ]
  },
  {
   "cell_type": "code",
   "execution_count": null,
   "metadata": {
    "collapsed": true
   },
   "outputs": [],
   "source": [
    "import numpy as np"
   ]
  },
  {
   "cell_type": "code",
   "execution_count": null,
   "metadata": {
    "collapsed": false
   },
   "outputs": [],
   "source": [
    "def leading_zeros(value, bits=32):\n",
    "    for i in xrange(bits, 0, -1):\n",
    "        if (value >> (bits - i)) == 1:\n",
    "            return i - 1\n",
    "    return bits\n",
    "\n",
    "\n",
    "(31 - leading_zeros(256)) << 3"
   ]
  },
  {
   "cell_type": "code",
   "execution_count": null,
   "metadata": {
    "collapsed": false
   },
   "outputs": [],
   "source": [
    "9 << 3"
   ]
  },
  {
   "cell_type": "code",
   "execution_count": null,
   "metadata": {
    "collapsed": false
   },
   "outputs": [],
   "source": [
    "import time\n",
    "\n",
    "\n",
    "N = 32\n",
    "\n",
    "# proxy.dma_start(1 << int(np.ceil(np.log2(N))))\n",
    "proxy.dma_start(256)\n",
    "for i in range(N): proxy.startSingleRead(teensy.A0, teensy.ADC_0)\n",
    "# time.sleep(0.01)\n",
    "result = proxy.adc_read()\n",
    "print result.shape[0]\n",
    "result"
   ]
  },
  {
   "cell_type": "code",
   "execution_count": null,
   "metadata": {
    "collapsed": false
   },
   "outputs": [],
   "source": [
    "result = proxy.adc_read()\n",
    "result.shape[0], result.mean()"
   ]
  },
  {
   "cell_type": "code",
   "execution_count": null,
   "metadata": {
    "collapsed": false
   },
   "outputs": [],
   "source": [
    "proxy.start_timer(5)"
   ]
  },
  {
   "cell_type": "code",
   "execution_count": null,
   "metadata": {
    "collapsed": false
   },
   "outputs": [],
   "source": [
    "1 / 100e3 / 1e-6"
   ]
  },
  {
   "cell_type": "code",
   "execution_count": null,
   "metadata": {
    "collapsed": false
   },
   "outputs": [],
   "source": [
    "proxy.adc_period_us()"
   ]
  },
  {
   "cell_type": "code",
   "execution_count": null,
   "metadata": {
    "collapsed": false
   },
   "outputs": [],
   "source": [
    "import time\n",
    "\n",
    "\n",
    "proxy.startContinuous(teensy.A0, teensy.ADC_0)\n",
    "while proxy.dma_available() < N: time.sleep(0.001)\n",
    "proxy.stopContinuous(teensy.ADC_0)\n",
    "proxy.adc_read()"
   ]
  },
  {
   "cell_type": "code",
   "execution_count": null,
   "metadata": {
    "collapsed": false
   },
   "outputs": [],
   "source": [
    "proxy.enableInterrupts(teensy.ADC_0)"
   ]
  },
  {
   "cell_type": "code",
   "execution_count": null,
   "metadata": {
    "collapsed": false
   },
   "outputs": [],
   "source": [
    "proxy.adc_timestamp_us()"
   ]
  },
  {
   "cell_type": "code",
   "execution_count": null,
   "metadata": {
    "collapsed": false
   },
   "outputs": [],
   "source": [
    "# for i in range(128): proxy.startSingleRead(teensy.A0, teensy.ADC_0)\n",
    "# proxy.startSingleRead(teensy.A0, teensy.ADC_0)\n"
   ]
  },
  {
   "cell_type": "code",
   "execution_count": null,
   "metadata": {
    "collapsed": false
   },
   "outputs": [],
   "source": [
    "from datetime import datetime, timedelta\n",
    "\n",
    "start = datetime.now()\n",
    "start_us = proxy.microseconds()\n",
    "proxy.startContinuous(teensy.A0, teensy.ADC_0)\n",
    "proxy.stopContinuous(teensy.ADC_0)\n",
    "start + timedelta(microseconds=proxy.adc_timestamp_us() - start_us), proxy.adc_read()"
   ]
  },
  {
   "cell_type": "code",
   "execution_count": null,
   "metadata": {
    "collapsed": false
   },
   "outputs": [],
   "source": [
    "import time\n",
    "\n",
    "import pandas as pd\n",
    "\n",
    "ADC_SPEEDS = pd.Series(['ADC_VERY_LOW_SPEED',\n",
    "                        'ADC_LOW_SPEED',\n",
    "                        'ADC_MED_SPEED',\n",
    "                        # 'ADC_HIGH_SPEED_16BITS',\n",
    "                        'ADC_HIGH_SPEED',\n",
    "                        'ADC_VERY_HIGH_SPEED'],\n",
    "                       index=[teensy.ADC_VERY_LOW_SPEED,\n",
    "                              teensy.ADC_LOW_SPEED,\n",
    "                              teensy.ADC_MED_SPEED,\n",
    "                              # teensy.ADC_HIGH_SPEED_16BITS,\n",
    "                              teensy.ADC_HIGH_SPEED,\n",
    "                              teensy.ADC_VERY_HIGH_SPEED])\n",
    "\n",
    "\n",
    "def benchmark_adc(proxy):\n",
    "    rows = []\n",
    "\n",
    "    for conversion_i, conversion_speed in ADC_SPEEDS.iteritems():\n",
    "        for sampling_i, sampling_speed in ADC_SPEEDS.iteritems():\n",
    "            for averaging in (0, 4, 8, 16, 32):\n",
    "                for resolution in (8, 10, 12):\n",
    "                    if [conversion_i, sampling_i, averaging] == [5, 5, 0]:\n",
    "                        continue\n",
    "                    print '.', \n",
    "                    try:\n",
    "                        proxy.setAveraging(averaging, teensy.ADC_0)\n",
    "                        proxy.setResolution(resolution, teensy.ADC_0)\n",
    "                        proxy.setConversionSpeed(conversion_i, teensy.ADC_0)\n",
    "                        proxy.setSamplingSpeed(sampling_i, teensy.ADC_0)\n",
    "\n",
    "                        proxy.startContinuous(teensy.A0, teensy.ADC_0)\n",
    "                        time.sleep(0.001)\n",
    "                        proxy.stopContinuous(teensy.ADC_0)\n",
    "                        period_us = proxy.adc_period_us()\n",
    "                    except IOError:\n",
    "                        print 'Failed for %s' % [conversion_i, sampling_i, averaging,\n",
    "                                                 resolution]\n",
    "                        raise\n",
    "                    row = [conversion_i, sampling_i, averaging,\n",
    "                           resolution, period_us]\n",
    "                    rows.append(row)\n",
    "\n",
    "    df_adc_benchmarks =  pd.DataFrame(rows, columns=['conversion_i',\n",
    "                                                     'sampling_i',\n",
    "                                                     'averaging',\n",
    "                                                     'resolution',\n",
    "                                                     'period_us'])\n",
    "    df_adc_benchmarks.loc[df_adc_benchmarks.period_us < 0, 'period_us'] += 1000\n",
    "#     df_adc_benchmarks.set_index(['conversion_speed', 'sampling_speed',\n",
    "#                                  'averaging', 'resolution'], inplace=True)\n",
    "    df_adc_benchmarks['sampling_rate_Hz'] = 1e6 / df_adc_benchmarks['period_us']\n",
    "    return df_adc_benchmarks"
   ]
  },
  {
   "cell_type": "code",
   "execution_count": null,
   "metadata": {
    "collapsed": false
   },
   "outputs": [],
   "source": [
    "df_adc_benchmarks = benchmark_adc(proxy)"
   ]
  },
  {
   "cell_type": "code",
   "execution_count": null,
   "metadata": {
    "collapsed": true
   },
   "outputs": [],
   "source": [
    "%matplotlib inline"
   ]
  },
  {
   "cell_type": "code",
   "execution_count": 365,
   "metadata": {
    "collapsed": false
   },
   "outputs": [
    {
     "data": {
      "text/plain": [
       "5"
      ]
     },
     "execution_count": 365,
     "metadata": {},
     "output_type": "execute_result"
    }
   ],
   "source": [
    "teensy.ADC_VERY_HIGH_SPEED"
   ]
  },
  {
   "cell_type": "code",
   "execution_count": null,
   "metadata": {
    "collapsed": false
   },
   "outputs": [],
   "source": [
    "from si_prefix import si_format\n",
    "\n",
    "\n",
    "df_i = (df_adc_benchmarks.loc[(df_adc_benchmarks.resolution > 8) &\n",
    "                              (df_adc_benchmarks.averaging > 0) &\n",
    "                              (df_adc_benchmarks.sampling_rate_Hz >= 100e3)]\n",
    "        .sort_values(by=['sampling_rate_Hz', 'resolution', 'conversion_i', 'sampling_i'],\n",
    "                     ascending=False))\n",
    "df_i['conversion_speed'] = ADC_SPEEDS[df_i.conversion_i].values\n",
    "df_i['sampling_speed'] = ADC_SPEEDS[df_i.sampling_i].values\n",
    "df_i['sampling_rate'] = df_i.sampling_rate_Hz.map(si_format)\n",
    "df_i[['sampling_rate', 'averaging', 'resolution', 'conversion_speed', 'sampling_speed']]"
   ]
  },
  {
   "cell_type": "code",
   "execution_count": null,
   "metadata": {
    "collapsed": false
   },
   "outputs": [],
   "source": [
    "df_i[['sampling_rate', 'averaging', 'resolution', 'conversion_speed', 'sampling_speed']]\n",
    "axis = (df_i.set_index(['averaging', 'resolution', 'conversion_speed', 'sampling_speed'])\n",
    "        ['sampling_rate_Hz']).plot(rot=90, style='o')\n",
    "axis.set_yticklabels(['%sHz' % si_format(v) for v in axis.get_yticks()])\n",
    "# axis.get_figure().savefig('test.pdf', bbox_inches='tight')\n",
    "pass"
   ]
  },
  {
   "cell_type": "code",
   "execution_count": null,
   "metadata": {
    "collapsed": true
   },
   "outputs": [],
   "source": [
    "fig.savefig"
   ]
  },
  {
   "cell_type": "code",
   "execution_count": null,
   "metadata": {
    "collapsed": false
   },
   "outputs": [],
   "source": [
    "import time\n",
    "\n",
    "import pandas as pd"
   ]
  },
  {
   "cell_type": "code",
   "execution_count": null,
   "metadata": {
    "collapsed": false
   },
   "outputs": [],
   "source": [
    "proxy.adc_period_us()"
   ]
  },
  {
   "cell_type": "code",
   "execution_count": null,
   "metadata": {
    "collapsed": true
   },
   "outputs": [],
   "source": [
    "proxy.digital_write(13, 0)"
   ]
  },
  {
   "cell_type": "code",
   "execution_count": null,
   "metadata": {
    "collapsed": false
   },
   "outputs": [],
   "source": [
    "proxy.startContinuous(teensy.A0, teensy.ADC_0)"
   ]
  },
  {
   "cell_type": "code",
   "execution_count": null,
   "metadata": {
    "collapsed": false
   },
   "outputs": [],
   "source": [
    "proxy.stopContinuous(teensy.ADC_0)"
   ]
  },
  {
   "cell_type": "code",
   "execution_count": null,
   "metadata": {
    "collapsed": false
   },
   "outputs": [],
   "source": [
    "proxy.isContinuous(teensy.ADC_0)"
   ]
  },
  {
   "cell_type": "code",
   "execution_count": null,
   "metadata": {
    "collapsed": false
   },
   "outputs": [],
   "source": [
    "if proxy.dma_available() > 0:\n",
    "    print proxy.dma_read()\n",
    "proxy.adc_buffer(), proxy.dma_available()"
   ]
  },
  {
   "cell_type": "code",
   "execution_count": null,
   "metadata": {
    "collapsed": false
   },
   "outputs": [],
   "source": [
    "proxy.startSingleRead(teensy.A0, teensy.ADC_0)"
   ]
  },
  {
   "cell_type": "code",
   "execution_count": null,
   "metadata": {
    "collapsed": false
   },
   "outputs": [],
   "source": [
    "proxy.dma_available(), proxy.dma_empty(), proxy.dma_full()"
   ]
  },
  {
   "cell_type": "code",
   "execution_count": null,
   "metadata": {
    "collapsed": false
   },
   "outputs": [],
   "source": [
    "proxy.dma_read()"
   ]
  },
  {
   "cell_type": "code",
   "execution_count": null,
   "metadata": {
    "collapsed": false
   },
   "outputs": [],
   "source": [
    "proxy.start_timer(10)"
   ]
  },
  {
   "cell_type": "code",
   "execution_count": null,
   "metadata": {
    "collapsed": true
   },
   "outputs": [],
   "source": [
    "%matplotlib inline\n",
    "import pandas as pd"
   ]
  },
  {
   "cell_type": "code",
   "execution_count": null,
   "metadata": {
    "collapsed": true
   },
   "outputs": [],
   "source": [
    "from datetime import datetime"
   ]
  },
  {
   "cell_type": "code",
   "execution_count": null,
   "metadata": {
    "collapsed": true
   },
   "outputs": [],
   "source": [
    "proxy.setAveraging(0, -1)"
   ]
  },
  {
   "cell_type": "code",
   "execution_count": null,
   "metadata": {
    "collapsed": false
   },
   "outputs": [],
   "source": [
    "data = pd.DataFrame([(proxy.analogRead(0, -1), datetime.now()) for i in xrange(200)],\n",
    "                    columns=['reading', 'timestamp'])\n",
    "data.set_index('timestamp').plot()"
   ]
  },
  {
   "cell_type": "code",
   "execution_count": null,
   "metadata": {
    "collapsed": false
   },
   "outputs": [],
   "source": [
    "proxy.adc_buffer"
   ]
  },
  {
   "cell_type": "code",
   "execution_count": null,
   "metadata": {
    "collapsed": false
   },
   "outputs": [],
   "source": [
    "40 * proxy.benchmark_flops(10e3) / 10e3"
   ]
  },
  {
   "cell_type": "code",
   "execution_count": null,
   "metadata": {
    "collapsed": false
   },
   "outputs": [],
   "source": [
    "40 * proxy.benchmark_iops(10e3) / 10e3"
   ]
  },
  {
   "cell_type": "code",
   "execution_count": null,
   "metadata": {
    "collapsed": true
   },
   "outputs": [],
   "source": [
    "import sys\n",
    "sys.path.insert(0, r'C:\\Users\\Christian\\Documents\\GitHub\\ring-buffer-testbench')"
   ]
  },
  {
   "cell_type": "code",
   "execution_count": null,
   "metadata": {
    "collapsed": true
   },
   "outputs": [],
   "source": [
    "from ring_buffer_testbench.cRingBuffer import cRingBuffer"
   ]
  },
  {
   "cell_type": "code",
   "execution_count": null,
   "metadata": {
    "collapsed": true
   },
   "outputs": [],
   "source": [
    "ring_buffer = cRingBuffer()"
   ]
  },
  {
   "cell_type": "code",
   "execution_count": null,
   "metadata": {
    "collapsed": false
   },
   "outputs": [],
   "source": [
    "ring_buffer.elems(), ring_buffer.b_start, ring_buffer.b_end"
   ]
  }
 ],
 "metadata": {
  "kernelspec": {
   "display_name": "Python 2",
   "language": "python",
   "name": "python2"
  },
  "language_info": {
   "codemirror_mode": {
    "name": "ipython",
    "version": 2
   },
   "file_extension": ".py",
   "mimetype": "text/x-python",
   "name": "python",
   "nbconvert_exporter": "python",
   "pygments_lexer": "ipython2",
   "version": "2.7.9"
  }
 },
 "nbformat": 4,
 "nbformat_minor": 0
}
