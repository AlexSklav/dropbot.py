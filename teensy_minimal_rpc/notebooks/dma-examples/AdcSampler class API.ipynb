{
 "cells": [
  {
   "cell_type": "code",
   "execution_count": 1,
   "metadata": {
    "collapsed": true
   },
   "outputs": [],
   "source": [
    "%matplotlib inline\n",
    "\n",
    "import matplotlib.pyplot as plt\n",
    "import pandas as pd\n",
    "import numpy as np\n",
    "from si_prefix import si_format"
   ]
  },
  {
   "cell_type": "markdown",
   "metadata": {},
   "source": [
    "# Overview #\n",
    "\n",
    "## TODO##\n",
    "\n",
    " 1. **[DONE]** Implement host Python class API to wrap DMA ADC scanning\n",
    "    mechanism described in [this notebook][1].\n",
    " 2. Implement device C++ class API to wrap DMA ADC scanning mechanism\n",
    "    described in [this notebook][1].\n",
    "\n",
    "[1]: Example%20-%20Periodic%20multi-channel%20ADC%20multiple%20samples%20using%20DMA.ipynb"
   ]
  },
  {
   "cell_type": "markdown",
   "metadata": {},
   "source": [
    "# Device"
   ]
  },
  {
   "cell_type": "markdown",
   "metadata": {},
   "source": [
    "### Connect to device"
   ]
  },
  {
   "cell_type": "code",
   "execution_count": 2,
   "metadata": {
    "collapsed": false
   },
   "outputs": [],
   "source": [
    "import numpy as np\n",
    "import pandas as pd\n",
    "\n",
    "import arduino_helpers.hardware.teensy as teensy\n",
    "from teensy_minimal_rpc.adc_sampler import AdcSampler, analog_reads\n",
    "from teensy_minimal_rpc import SerialProxy\n",
    "import teensy_minimal_rpc.ADC as ADC\n",
    "\n",
    "\n",
    "# Disconnect from existing proxy (if available)\n",
    "try:\n",
    "    del proxy\n",
    "except NameError:\n",
    "    pass\n",
    "\n",
    "proxy = SerialProxy()\n",
    "proxy.pin_mode(teensy.LED_BUILTIN, 1)\n",
    "proxy.digital_write(teensy.LED_BUILTIN, 1)\n",
    "proxy.free_all()"
   ]
  },
  {
   "cell_type": "markdown",
   "metadata": {},
   "source": [
    "--------------------------------------------------"
   ]
  },
  {
   "cell_type": "markdown",
   "metadata": {},
   "source": [
    "## Example: Measure `'A0'` when connected to 3.3V"
   ]
  },
  {
   "cell_type": "code",
   "execution_count": 3,
   "metadata": {
    "collapsed": false
   },
   "outputs": [
    {
     "data": {
      "image/png": "[encoded data removed]",
      "text/plain": [
       "<matplotlib.figure.Figure at 0xb9745d0>"
      ]
     },
     "metadata": {},
     "output_type": "display_data"
    }
   ],
   "source": [
    "(sampling_rate_hz, adc_settings,\n",
    " df_volts_i, df_adc_results) = analog_reads(proxy, 'A0', 20, resolution=12)\n",
    "\n",
    "fig, axes = plt.subplots(1, 2, figsize=(10, 3))\n",
    "\n",
    "df_volts_i.plot(ylim=0, ax=axes[0], style='x-')\n",
    "axes[0].set_ylabel('volts')\n",
    "\n",
    "df_adc_results.plot(style='x-', ax=axes[1],\n",
    "                    ylim=(-5, 1.1 * (1 << adc_settings['Bit-width'])))\n",
    "axes[1].set_ylabel('raw_adc')\n",
    "for ax in axes:\n",
    "    ax.set_xlabel('sample_i')"
   ]
  },
  {
   "cell_type": "markdown",
   "metadata": {},
   "source": [
    "--------------------------------------------------"
   ]
  },
  {
   "cell_type": "markdown",
   "metadata": {},
   "source": [
    "## Example: Measure `'A0'` when connected to GND"
   ]
  },
  {
   "cell_type": "code",
   "execution_count": 4,
   "metadata": {
    "collapsed": false
   },
   "outputs": [
    {
     "data": {
      "image/png": "[encoded data removed]",
      "text/plain": [
       "<matplotlib.figure.Figure at 0xb998c10>"
      ]
     },
     "metadata": {},
     "output_type": "display_data"
    }
   ],
   "source": [
    "(sampling_rate_hz, adc_settings,\n",
    " df_volts_i, df_adc_results) = analog_reads(proxy, 'A0', 20, resolution=12)\n",
    "\n",
    "fig, axes = plt.subplots(1, 2, figsize=(10, 3))\n",
    "\n",
    "df_volts_i.plot(ylim=0, ax=axes[0], style='x-')\n",
    "axes[0].set_ylabel('volts')\n",
    "\n",
    "df_adc_results.plot(style='x-', ax=axes[1],\n",
    "                    ylim=(-5, 1.1 * (1 << adc_settings['Bit-width'])))\n",
    "axes[1].set_ylabel('raw_adc')\n",
    "for ax in axes:\n",
    "    ax.set_xlabel('sample_i')"
   ]
  }
 ],
 "metadata": {
  "kernelspec": {
   "display_name": "Python 2",
   "language": "python",
   "name": "python2"
  },
  "language_info": {
   "codemirror_mode": {
    "name": "ipython",
    "version": 2
   },
   "file_extension": ".py",
   "mimetype": "text/x-python",
   "name": "python",
   "nbconvert_exporter": "python",
   "pygments_lexer": "ipython2",
   "version": "2.7.9"
  }
 },
 "nbformat": 4,
 "nbformat_minor": 0
}
