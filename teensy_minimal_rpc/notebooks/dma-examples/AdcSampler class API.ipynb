{
 "cells": [
  {
   "cell_type": "code",
   "execution_count": 1,
   "metadata": {
    "collapsed": true
   },
   "outputs": [],
   "source": [
    "%matplotlib inline\n",
    "\n",
    "import pandas as pd\n",
    "import numpy as np\n",
    "from si_prefix import si_format"
   ]
  },
  {
   "cell_type": "markdown",
   "metadata": {},
   "source": [
    "# Overview #\n",
    "\n",
    "## TODO##\n",
    "\n",
    " 1. Implement host Python class API to wrap DMA ADC scanning mechanism\n",
    "    described in [this notebook][1].\n",
    " 2. Implement device C++ class API to wrap DMA ADC scanning mechanism\n",
    "    described in [this notebook][1].\n",
    "\n",
    "[1]: Example%20-%20Periodic%20multi-channel%20ADC%20multiple%20samples%20using%20DMA.ipynb"
   ]
  },
  {
   "cell_type": "markdown",
   "metadata": {},
   "source": [
    "# Device"
   ]
  },
  {
   "cell_type": "markdown",
   "metadata": {},
   "source": [
    "### Connect to device"
   ]
  },
  {
   "cell_type": "code",
   "execution_count": 36,
   "metadata": {
    "collapsed": false,
    "scrolled": true
   },
   "outputs": [],
   "source": [
    "# df_adc_configs.to_hdf('adc_configs.h5', '/adc_configs', data_columns=True,\n",
    "#                       format='t', complib='zlib', complevel=5)"
   ]
  },
  {
   "cell_type": "code",
   "execution_count": 26,
   "metadata": {
    "collapsed": false
   },
   "outputs": [],
   "source": [
    "def get_adc_configs(F_BUS=48e6, ADC_CLK=22e6):\n",
    "    '''\n",
    "    Return `pandas.DataFrame` containing one ADC configuration per row.\n",
    "    \n",
    "    The conversion time is calculated according to the \"ConversionTime\"\n",
    "    equation (see 31.4.5.5/681) in `K20P64M72SF1RM` manual.\n",
    "    \n",
    "    **TODO** The conversion times calculated in this function seem to\n",
    "    differ from those calculated by the Kinetis ADC conversion time\n",
    "    calculator.  For now, we assume that they are close enough for\n",
    "    practical use, but there might be some edge cases where\n",
    "    inappropriate ADC settings may be chosen as a result.\n",
    "    '''\n",
    "    # df_adc_configs = pd.read_msgpack('adc_configs.msg')\n",
    "    df_adc_configs = pd.read_hdf('adc_configs.h5')\n",
    "    \n",
    "    df_adc_configs = (df_adc_configs\n",
    "                      .loc[(df_adc_configs['CFG2[ADACKEN]'] == 0) &\n",
    "                           (df_adc_configs['CFG1[ADICLK]'] == 1)])\n",
    "    df_adc_configs.insert(3, 'CFG1[ADIV]', 0)\n",
    "    df_adc_configs['ADC_CLK'] = ADC_CLK\n",
    "    \n",
    "    # Maximum ADC clock for 16-bit conversion is 11MHz.\n",
    "    df_adc_configs.loc[(df_adc_configs['Bit-width'] >= 16) &\n",
    "                       (df_adc_configs['ADC_CLK'] > 11e6),\n",
    "                       'ADC_CLK'] = 11e6\n",
    "    # If the ADC clock is 8MHz or higher, ADHSC (high-speed clock) bit\n",
    "    # must be set.\n",
    "    df_adc_configs.loc[df_adc_configs.ADC_CLK >= 8e6, 'CFG2[ADHSC]'] = 1\n",
    "\n",
    "    conversion_time = (df_adc_configs['bus clock'] / F_BUS +\n",
    "                       df_adc_configs.extra_us * 1e-6 +\n",
    "                       1 / df_adc_configs.ADC_CLK\n",
    "                       * (df_adc_configs.ADCK\n",
    "                          + df_adc_configs.AverageNum\n",
    "                          * (df_adc_configs.ADCK_bct +\n",
    "                             df_adc_configs.ADCK_lst_adder +\n",
    "                             df_adc_configs.ADCK_hsc_adder)))\n",
    "    df_adc_configs['conversion_time'] = conversion_time\n",
    "    df_adc_configs['conversion_rate'] = 1 / conversion_time\n",
    "    return df_adc_configs.reset_index(drop=True).drop_duplicates().sort_values('conversion_time')"
   ]
  },
  {
   "cell_type": "code",
   "execution_count": 27,
   "metadata": {
    "collapsed": false
   },
   "outputs": [],
   "source": [
    "import pandas as pd\n",
    "\n",
    "# pd.set_eng_float_format(accuracy=2, use_eng_prefix=True)\n",
    "# get_adc_configs()['conversion_rate']"
   ]
  },
  {
   "cell_type": "code",
   "execution_count": 33,
   "metadata": {
    "collapsed": false
   },
   "outputs": [],
   "source": [
    "import numpy as np\n",
    "import pandas as pd\n",
    "\n",
    "import arduino_helpers.hardware.teensy as teensy\n",
    "from teensy_minimal_rpc.adc_sampler import AdcSampler\n",
    "from teensy_minimal_rpc import SerialProxy\n",
    "import teensy_minimal_rpc.ADC as ADC\n",
    "\n",
    "\n",
    "ADC_CONFIGS = get_adc_configs()\n",
    "\n",
    "# Disconnect from existing proxy (if available)\n",
    "try:\n",
    "#    del adc_sampler\n",
    "    del proxy\n",
    "except NameError:\n",
    "    pass\n",
    "\n",
    "proxy = SerialProxy()\n",
    "proxy.pin_mode(teensy.LED_BUILTIN, 1)\n",
    "proxy.free_all()\n",
    "\n",
    "# Set ADC parameters\n",
    "# resolution = 12\n",
    "# proxy.setAveraging(0, teensy.ADC_0)\n",
    "# proxy.setResolution(resolution, teensy.ADC_0)\n",
    "# proxy.setConversionSpeed(teensy.ADC_VERY_HIGH_SPEED, teensy.ADC_0)\n",
    "# proxy.setSamplingSpeed(teensy.ADC_VERY_HIGH_SPEED, teensy.ADC_0)\n",
    "# proxy.update_adc_registers(\n",
    "#     teensy.ADC_0,\n",
    "#     ADC.Registers(CFG2=ADC.R_CFG2(MUXSEL=ADC.R_CFG2.B)))\n",
    "# proxy.setReference(teensy.ADC_REF_1V2, teensy.ADC_0)\n",
    "\n",
    "# channels = ['PGA0']\n",
    "# \n",
    "# adc_sampler = AdcSampler(proxy, channels, 20)\n",
    "# adc_sampler = None"
   ]
  },
  {
   "cell_type": "code",
   "execution_count": 34,
   "metadata": {
    "collapsed": false
   },
   "outputs": [],
   "source": [
    "def analog_reads(proxy, adc_channel, sample_count, resolution=None,\n",
    "                 average_count=1, sampling_rate_hz=None,\n",
    "                 differential=False, gain_power=0, adc_num=teensy.ADC_0):\n",
    "    # Select ADC settings to achieve maximum conversion rate for\n",
    "    # specified resolution, mode (i.e., single-ended or differential),\n",
    "    # and number of samples to average per conversion (i.e., average\n",
    "    # count).\n",
    "    bit_width = resolution\n",
    "    if 'PGA' in adc_channel:\n",
    "        differential = True\n",
    "    if differential:\n",
    "        if resolution < 16 and not (resolution & 0x01):\n",
    "            # An even number of bits was specified for resolution in differential mode.\n",
    "            # However, bit-widths are actually increased by one bit, where the additional\n",
    "            # bit indicates the sign of the result.\n",
    "            bit_width += 1\n",
    "    elif gain_power > 0:\n",
    "        raise ValueError('Programmable gain amplification is only valid in '\n",
    "                         'differential mode.')\n",
    "    mode = 'differential' if differential else 'single-ended' \n",
    "    query = ((ADC_CONFIGS.AverageNum == average_count)\n",
    "             & (ADC_CONFIGS.Mode == mode))\n",
    "    if resolution is not None:\n",
    "        query &= (ADC_CONFIGS['Bit-width'] == bit_width)\n",
    "    if sampling_rate_hz is not None:\n",
    "        query &= (ADC_CONFIGS.conversion_rate >= sampling_rate_hz)\n",
    "    matching_settings = ADC_CONFIGS.loc[query]\n",
    "    min_match_index = matching_settings['conversion_rate'].argmin()\n",
    "    adc_settings = matching_settings.loc[min_match_index].copy()\n",
    "    \n",
    "    if differential:\n",
    "        proxy.setReference(teensy.ADC_REF_1V2, adc_num)\n",
    "        reference_V = 1.2\n",
    "    else:\n",
    "        proxy.setReference(teensy.ADC_REF_3V3, adc_num)\n",
    "        reference_V = 3.3\n",
    "    assert(gain_power >= 0 and gain_power < 8)\n",
    "    adc_settings['gain_power'] = int(gain_power)\n",
    "        \n",
    "    adc_registers = ADC.Registers(CFG2=ADC.R_CFG2(MUXSEL=ADC.R_CFG2.B,\n",
    "                                                  ADACKEN=\n",
    "                                                  int(adc_settings['CFG2[ADACKEN]']),\n",
    "                                                  ADLSTS=\n",
    "                                                  int(adc_settings['CFG2[ADLSTS]']),\n",
    "                                                  ADHSC=\n",
    "                                                  int(adc_settings['CFG2[ADHSC]'])),\n",
    "                                  CFG1=ADC.R_CFG1(ADLSMP=\n",
    "                                                  int(adc_settings['CFG1[ADLSMP]']),\n",
    "                                                  ADICLK=\n",
    "                                                  int(adc_settings['CFG1[ADICLK]']),\n",
    "                                                  ADIV=\n",
    "                                                  int(adc_settings['CFG1[ADIV]'])))\n",
    "    if 'PGA' in adc_channel:\n",
    "        adc_registers.PGA.PGAG = adc_settings.gain_power\n",
    "        adc_registers.PGA.PGAEN = True\n",
    "            \n",
    "    proxy.update_adc_registers(adc_num, adc_registers)\n",
    "    \n",
    "    # Apply ADC settings.\n",
    "    proxy.setAveraging(average_count, adc_num)\n",
    "    proxy.setResolution(resolution, adc_num)\n",
    "    \n",
    "    # Create `AdcSampler` for:\n",
    "    #  - The specified channel.\n",
    "    #  - The specified sample count.\n",
    "    channels = [adc_channel]\n",
    "\n",
    "    if sampling_rate_hz is None:\n",
    "        sampling_rate_hz = int(.9 * adc_settings.conversion_rate) & 0xFFFFFFFE\n",
    "        \n",
    "    adc_sampler = AdcSampler(proxy, channels, sample_count)\n",
    "    adc_sampler.reset()\n",
    "    adc_sampler.start_read(sampling_rate_hz)\n",
    "    df_adc_results = adc_sampler.get_results().astype('int16')\n",
    "    df_volts = reference_V * (df_adc_results /\n",
    "                              (1 << (resolution +\n",
    "                                     adc_settings.gain_power)))\n",
    "    return sampling_rate_hz, adc_settings, df_volts, df_adc_results"
   ]
  },
  {
   "cell_type": "code",
   "execution_count": 35,
   "metadata": {
    "collapsed": false
   },
   "outputs": [
    {
     "name": "stdout",
     "output_type": "stream",
     "text": [
      "warning: no config found for [8, 8, 0]\n",
      "warning: no config found for [8, 8, 1]\n",
      "warning: no config found for [8, 8, 2]\n",
      "warning: no config found for [8, 8, 3]\n",
      "warning: no config found for [8, 8, 4]\n",
      "warning: no config found for [8, 16, 0]\n",
      "warning: no config found for [8, 16, 1]\n",
      "warning: no config found for [8, 16, 2]\n",
      "warning: no config found for [8, 16, 3]\n",
      "warning: no config found for [8, 16, 4]\n",
      "warning: no config found for [8, 32, 0]\n",
      "warning: no config found for [8, 32, 1]\n",
      "warning: no config found for [8, 32, 2]\n",
      "warning: no config found for [8, 32, 3]\n",
      "warning: no config found for [8, 32, 4]\n",
      "warning: no config found for [10, 8, 0]\n",
      "warning: no config found for [10, 8, 1]\n",
      "warning: no config found for [10, 8, 2]\n",
      "warning: no config found for [10, 8, 3]\n",
      "warning: no config found for [10, 8, 4]\n",
      "warning: no config found for [10, 16, 0]\n",
      "warning: no config found for [10, 16, 1]\n",
      "warning: no config found for [10, 16, 2]\n",
      "warning: no config found for [10, 16, 3]\n",
      "warning: no config found for [10, 16, 4]\n",
      "warning: no config found for [10, 32, 0]\n",
      "warning: no config found for [10, 32, 1]\n",
      "warning: no config found for [10, 32, 2]\n",
      "warning: no config found for [10, 32, 3]\n",
      "warning: no config found for [10, 32, 4]\n",
      "warning: no config found for [12, 8, 0]\n",
      "warning: no config found for [12, 8, 1]\n",
      "warning: no config found for [12, 8, 2]\n",
      "warning: no config found for [12, 8, 3]\n",
      "warning: no config found for [12, 8, 4]\n",
      "warning: no config found for [12, 16, 0]\n",
      "warning: no config found for [12, 16, 1]\n",
      "warning: no config found for [12, 16, 2]\n",
      "warning: no config found for [12, 16, 3]\n",
      "warning: no config found for [12, 16, 4]\n",
      "warning: no config found for [12, 32, 0]\n",
      "warning: no config found for [12, 32, 1]\n",
      "warning: no config found for [12, 32, 2]\n",
      "warning: no config found for [12, 32, 3]\n",
      "warning: no config found for [12, 32, 4]\n"
     ]
    }
   ],
   "source": [
    "def rms(x, mean_=None):\n",
    "    if mean_ is None:\n",
    "        mean_ = x.mean()\n",
    "    return np.sqrt(((x - mean_) ** 2).mean())\n",
    "\n",
    "frames = []\n",
    "\n",
    "for resolution in 8, 10, 12:\n",
    "    for average_count in (1, 4, 8, 16, 32):\n",
    "        for i in xrange(5):\n",
    "            proxy.free_all()\n",
    "            try:\n",
    "                (sampling_rate_hz, adc_settings,\n",
    "                 df_volts_i, df_adc_results) = analog_reads(proxy, 'PGA0', 80, \n",
    "                                                            resolution=resolution,\n",
    "                                                            average_count=\n",
    "                                                            average_count,\n",
    "                                                            sampling_rate_hz=100e3,\n",
    "                                                            gain_power=0)\n",
    "            except:\n",
    "                print ('warning: no config found for %s' %\n",
    "                       [resolution, average_count, i])\n",
    "                continue\n",
    "            df_volts_i.insert(0, 'resolution', resolution)\n",
    "            df_volts_i.insert(1, 'average_count', average_count)\n",
    "            df_volts_i.insert(2, 'window_i', i)\n",
    "            frames.append(df_volts_i)\n",
    "\n",
    "df_volts = pd.concat(frames)\n",
    "df_volts_pp = df_volts.groupby(['resolution',\n",
    "                                'average_count',\n",
    "                                'window_i']).agg(rms) * 2 * np.sqrt(2)\n",
    "rms_error = (df_volts_pp.groupby(axis=0, level=[0, 1])\n",
    "             .agg(lambda s: rms(s, .5))['PGA0'])\n",
    "\n",
    "# print sampling_rate_hz, adc_settings.conversion_rate, adc_settings.gain_power\n",
    "# axis = df_volts.plot(ylim=(-1.2 / (1 << adc_settings.gain_power),\n",
    "#                            1.2 / (1 << adc_settings.gain_power)))\n",
    "# print 'Vpp(sin): %sV' % si_format(rms(df_volts.PGA0) * 2 * np.sqrt(2))\n",
    "# axis2 = axis.twinx()\n",
    "# df_adc_results.plot(ylim=(-1 << (resolution), 1 << (resolution)),\n",
    "#                     style='x', ax=axis2)"
   ]
  },
  {
   "cell_type": "code",
   "execution_count": 8,
   "metadata": {
    "collapsed": false
   },
   "outputs": [
    {
     "data": {
      "text/plain": [
       "resolution  average_count\n",
       "8           1                0.488655\n",
       "            4                0.493541\n",
       "10          1                0.488079\n",
       "            4                0.494818\n",
       "12          1                0.488659\n",
       "            4                0.494976\n",
       "Name: PGA0, dtype: float64"
      ]
     },
     "execution_count": 8,
     "metadata": {},
     "output_type": "execute_result"
    }
   ],
   "source": [
    "rms_error"
   ]
  },
  {
   "cell_type": "code",
   "execution_count": 94,
   "metadata": {
    "collapsed": false
   },
   "outputs": [
    {
     "data": {
      "text/plain": [
       "PGA0    0.000811\n",
       "dtype: float64"
      ]
     },
     "execution_count": 94,
     "metadata": {},
     "output_type": "execute_result"
    }
   ],
   "source": [
    "df_rms = df_results.groupby('window_i').agg(rms) * 2 * np.sqrt(2)\n",
    "rms(df_rms, .5)"
   ]
  },
  {
   "cell_type": "code",
   "execution_count": 56,
   "metadata": {
    "collapsed": false
   },
   "outputs": [
    {
     "name": "stdout",
     "output_type": "stream",
     "text": [
      "The line_profiler extension is already loaded. To reload it, use:\n",
      "  %reload_ext line_profiler\n"
     ]
    }
   ],
   "source": [
    "%load_ext line_profiler"
   ]
  },
  {
   "cell_type": "code",
   "execution_count": 60,
   "metadata": {
    "collapsed": false
   },
   "outputs": [],
   "source": [
    "test_read()"
   ]
  },
  {
   "cell_type": "code",
   "execution_count": null,
   "metadata": {
    "collapsed": false
   },
   "outputs": [],
   "source": [
    "config = analog_reads(proxy, 'PGA0', 10, resolution=12, average_count=4,\n",
    "                      sampling_rate_hz=200e3)\n",
    "config"
   ]
  },
  {
   "cell_type": "code",
   "execution_count": null,
   "metadata": {
    "collapsed": false
   },
   "outputs": [],
   "source": [
    "data = ADC_CONFIGS['conversion_rate'].reset_index(drop=True)\n",
    "data.plot(style='x')"
   ]
  },
  {
   "cell_type": "code",
   "execution_count": null,
   "metadata": {
    "collapsed": true
   },
   "outputs": [],
   "source": [
    "from arduino_rpc.protobuf import resolve_field_values"
   ]
  },
  {
   "cell_type": "code",
   "execution_count": null,
   "metadata": {
    "collapsed": false
   },
   "outputs": [],
   "source": [
    "# proxy.update_adc_registers(teensy.ADC_0, ADC.Registers(SC1A=ADC.R_SC1(ADCH=0, DIFF=True)))\n",
    "# proxy.update_adc_registers(teensy.ADC_0, ADC.Registers(PGA=ADC.R_PGA(PGAG=ADC.R_PGA._1,\n",
    "#                                                                      PGAEN=True)))\n",
    "df_ADC = (resolve_field_values(ADC.Registers\n",
    "                               .FromString(proxy.read_adc_registers(teensy.ADC_0)\n",
    "                                           .tostring()))[['full_name', 'value']])\n",
    "# df_ADC.set_index('full_name')[['RA', 'SC1A.COCO']]\n",
    "df_ADC.loc[['PGA']]"
   ]
  },
  {
   "cell_type": "code",
   "execution_count": null,
   "metadata": {
    "collapsed": false
   },
   "outputs": [],
   "source": [
    "ADC0_PGA = 0x4003B050  # ADC Programmable Gain Amplifier\n",
    "hex(proxy.mem_cpy_device_to_host(ADC0_PGA, 4)[2])"
   ]
  },
  {
   "cell_type": "code",
   "execution_count": null,
   "metadata": {
    "collapsed": false
   },
   "outputs": [],
   "source": [
    "channels = ['PGA0']\n",
    "adc_sampler = AdcSampler(proxy, channels, 20)\n",
    "\n",
    "gain_power = 5\n",
    "resolution = 12\n",
    "proxy.update_adc_registers(teensy.ADC_0,\n",
    "                           ADC.Registers(PGA=ADC.R_PGA(PGAG=gain_power,\n",
    "                                                       PGAEN=True)))\n",
    "adc_sampler.reset()\n",
    "adc_sampler.start_read(100e3)\n",
    "\n",
    "print 'Samples by channel:'\n",
    "df_adc_results = adc_sampler.get_results().astype('int16')\n",
    "df_volts = df_adc_results / (1 << (resolution + gain_power)) * 1.2\n",
    "ylim = tuple(df_adc_results.describe().loc[['min', 'max']].PGA0.values)\n",
    "# df_adc_results.plot(ylim=(0, 1 << (resolution)))\n",
    "df_volts.plot(ylim=(-1.2 / (1 << gain_power), 1.2 / (1 << gain_power)))\n",
    "print 'Vpp(sin): %sV' % si_format(rms(df_volts.PGA0) * 2 * np.sqrt(2))\n",
    "df_volts.T"
   ]
  },
  {
   "cell_type": "code",
   "execution_count": null,
   "metadata": {
    "collapsed": false
   },
   "outputs": [],
   "source": [
    "print df_volts.describe().loc[['min', 'max']].diff()\n",
    "df_volts.describe()"
   ]
  },
  {
   "cell_type": "code",
   "execution_count": 13,
   "metadata": {
    "collapsed": false
   },
   "outputs": [
    {
     "data": {
      "text/plain": [
       "<matplotlib.axes._subplots.AxesSubplot at 0xb915090>"
      ]
     },
     "execution_count": 13,
     "metadata": {},
     "output_type": "execute_result"
    },
    {
     "data": {
      "image/png": "[encoded data removed]",
      "text/plain": [
       "<matplotlib.figure.Figure at 0xb924d30>"
      ]
     },
     "metadata": {},
     "output_type": "display_data"
    }
   ],
   "source": [
    "def rms(x):\n",
    "    return np.sqrt(((x - x.mean()) ** 2).mean())\n",
    "\n",
    "x = df_volts\n",
    "((x - x.mean()) ** 2).plot()"
   ]
  },
  {
   "cell_type": "code",
   "execution_count": null,
   "metadata": {
    "collapsed": false
   },
   "outputs": [],
   "source": [
    "proxy.\n",
    "\n",
    "\n",
    "\n",
    "\n",
    "\n",
    "\n",
    "\n",
    "\n",
    "\n",
    "\n",
    "\n",
    "\n",
    "\n",
    "\n",
    "\n",
    "\n",
    "\n",
    "\n",
    "\n",
    "\n",
    "\n",
    "\n"
   ]
  }
 ],
 "metadata": {
  "kernelspec": {
   "display_name": "Python 2",
   "language": "python",
   "name": "python2"
  },
  "language_info": {
   "codemirror_mode": {
    "name": "ipython",
    "version": 2
   },
   "file_extension": ".py",
   "mimetype": "text/x-python",
   "name": "python",
   "nbconvert_exporter": "python",
   "pygments_lexer": "ipython2",
   "version": "2.7.9"
  }
 },
 "nbformat": 4,
 "nbformat_minor": 0
}
