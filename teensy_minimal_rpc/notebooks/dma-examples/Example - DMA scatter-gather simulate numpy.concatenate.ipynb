{
 "cells": [
  {
   "cell_type": "markdown",
   "metadata": {},
   "source": [
    " - Demonstrate DMA scatter/gather functionality by concatenating multiple source arrays to\n",
    "   a single output array.\n",
    " - Each source array gets a corresponding Transfer Control Descriptor (TCD) containing:\n",
    "     * Destination address in output array to write to.\n",
    "     * `DLASTSGA` field set to the address of the next TCD in memory (except for last TCD,\n",
    "       which points back to first TCD)."
   ]
  },
  {
   "cell_type": "markdown",
   "metadata": {},
   "source": [
    "# Host"
   ]
  },
  {
   "cell_type": "markdown",
   "metadata": {},
   "source": [
    "## Define size and number of chunks"
   ]
  },
  {
   "cell_type": "code",
   "execution_count": 1,
   "metadata": {
    "collapsed": false
   },
   "outputs": [],
   "source": [
    "import numpy as np\n",
    "\n",
    "# Configurable test settings\n",
    "chunk_size = 4\n",
    "chunk_count = 3\n",
    "\n",
    "N = chunk_size * chunk_count\n",
    "src_data = np.arange(1, N + 1, dtype='uint8')"
   ]
  },
  {
   "cell_type": "markdown",
   "metadata": {},
   "source": [
    "## Simulate concatenate behaviour on *host* (i.e., using `numpy`)"
   ]
  },
  {
   "cell_type": "code",
   "execution_count": 2,
   "metadata": {
    "collapsed": false
   },
   "outputs": [
    {
     "name": "stdout",
     "output_type": "stream",
     "text": [
      "SOURCE0: [1 2 3 4]\n",
      "SOURCE1: [5 6 7 8]\n",
      "SOURCE2: [ 9 10 11 12]\n",
      "TARGET: [ 1  2  3  4  5  6  7  8  9 10 11 12]\n"
     ]
    }
   ],
   "source": [
    "src_chunks = [src_data[i * chunk_size:(i + 1) * chunk_size]\n",
    "              for i in xrange(chunk_count)]\n",
    "dst_data = np.concatenate(src_chunks)\n",
    "for i, chunk in enumerate(src_chunks):\n",
    "    print 'SOURCE%d:' % i, chunk\n",
    "# Show concatenated result\n",
    "print 'TARGET:', dst_data"
   ]
  },
  {
   "cell_type": "markdown",
   "metadata": {},
   "source": [
    "--------------------------------------------------"
   ]
  },
  {
   "cell_type": "markdown",
   "metadata": {},
   "source": [
    "# Device"
   ]
  },
  {
   "cell_type": "markdown",
   "metadata": {},
   "source": [
    "### Connect to device"
   ]
  },
  {
   "cell_type": "code",
   "execution_count": 3,
   "metadata": {
    "collapsed": false
   },
   "outputs": [],
   "source": [
    "from teensy_minimal_rpc import SerialProxy\n",
    "import teensy_minimal_rpc.DMA as dma\n",
    "\n",
    "TCD_RECORD_DTYPE = [('SADDR', 'uint32'),\n",
    "                    ('SOFF', 'uint16'),\n",
    "                    ('ATTR', 'uint16'),\n",
    "                    ('NBYTES', 'uint32'),\n",
    "                    ('SLAST', 'uint32'),\n",
    "                    ('DADDR', 'uint32'),\n",
    "                    ('DOFF', 'uint16'),\n",
    "                    ('CITER', 'uint16'),\n",
    "                    ('DLASTSGA', 'uint32'),\n",
    "                    ('CSR', 'uint16'),\n",
    "                    ('BITER', 'uint16')]\n",
    "\n",
    "# Disconnect from existing proxy (if available)\n",
    "try:\n",
    "    del proxy\n",
    "except NameError:\n",
    "    pass\n",
    "\n",
    "proxy = SerialProxy()"
   ]
  },
  {
   "cell_type": "markdown",
   "metadata": {},
   "source": [
    "### Allocate arrays ###\n",
    "\n",
    " - Source array (input chunks)\n",
    " - Destination array (space for concatenated result)\n",
    " - Array of Transfer Control Descriptor (TCD) structures (one TCD per chunk)"
   ]
  },
  {
   "cell_type": "code",
   "execution_count": 4,
   "metadata": {
    "collapsed": false
   },
   "outputs": [
    {
     "name": "stdout",
     "output_type": "stream",
     "text": [
      "SOURCE0:   [1 2 3 4]\n",
      "SOURCE1:   [5 6 7 8]\n",
      "SOURCE2:   [ 9 10 11 12]\n"
     ]
    }
   ],
   "source": [
    "proxy.free_all()\n",
    "\n",
    "# Allocate source array\n",
    "src_addr = proxy.mem_alloc(N)\n",
    "# Allocate destination array\n",
    "dst_addr = proxy.mem_alloc(N)\n",
    "src_addrs = [src_addr + i * chunk_size for i in xrange(chunk_count)]\n",
    "tcds_addr = proxy.mem_aligned_alloc(32, chunk_count * 32)\n",
    "hw_tcds_addr = 0x40009000\n",
    "tcd_addrs = [tcds_addr + 32 * i for i in xrange(chunk_count)]\n",
    "hw_tcd_addrs = [hw_tcds_addr + 32 * i for i in xrange(chunk_count)]\n",
    "\n",
    "# Fill first 16 bytes of source array with the numbers 1-N\n",
    "proxy.mem_cpy_host_to_device(src_addr, src_data)\n",
    "\n",
    "for i in xrange(chunk_count):\n",
    "    print 'SOURCE%d:  ' % i, proxy.mem_cpy_device_to_host(src_addrs[i], chunk_size)"
   ]
  },
  {
   "cell_type": "markdown",
   "metadata": {},
   "source": [
    "### Create Transfer Control Descriptor (TCD) configurations"
   ]
  },
  {
   "cell_type": "code",
   "execution_count": 5,
   "metadata": {
    "collapsed": false
   },
   "outputs": [],
   "source": [
    "# Create Transfer Control Descriptor configuration for first chunk, encoded\n",
    "# as a Protocol Buffer message.\n",
    "tcd0_msg = dma.TCD(CITER_ELINKNO=dma.R_TCD_ITER_ELINKNO(ITER=1),\n",
    "                   BITER_ELINKNO=dma.R_TCD_ITER_ELINKNO(ITER=1),\n",
    "                   ATTR=dma.R_TCD_ATTR(SSIZE=dma.R_TCD_ATTR._8_BIT,\n",
    "                                       DSIZE=dma.R_TCD_ATTR._8_BIT),\n",
    "                   NBYTES_MLNO=chunk_size,\n",
    "                   SADDR=int(src_addrs[0]),\n",
    "                   SOFF=1,\n",
    "                   SLAST=-chunk_size,\n",
    "                   DADDR=int(dst_addr),\n",
    "                   DOFF=1,\n",
    "                   DLASTSGA=int(tcd_addrs[1]),\n",
    "                   CSR=dma.R_TCD_CSR(START=0, DONE=False, ESG=True))\n",
    "\n",
    "# Copy base TCD to device so that we can extract the raw bytes from device\n",
    "# memory (raw TCD bytes are read into `tcd0`.\n",
    "#\n",
    "# __TODO__:\n",
    "#  - Modify `TeensyMinimalRpc/DMA.h::serialize_TCD` and\n",
    "#    `TeensyMinimalRpc/DMA.h::update_TCD` functions to work offline.\n",
    "#      * Operate on variable by reference, on-device use actual register.\n",
    "#  - Add `arduino_helpers.hardware.teensy` function to convert between TCD\n",
    "#    protobuf message and binary TCD struct.\n",
    "proxy.update_dma_TCD(0, tcd0_msg)\n",
    "tcd0 = proxy.mem_cpy_device_to_host(hw_tcd_addrs[0],\n",
    "                                    32).view(TCD_RECORD_DTYPE)[0]\n",
    "\n",
    "# Create binary TCD struct for each TCD protobuf message and copy to device\n",
    "# memory.\n",
    "for i, src_addr_i in enumerate(src_addrs):\n",
    "    tcd_i = tcd0.copy()\n",
    "    tcd_i['SADDR'] = src_addr_i\n",
    "    tcd_i['DADDR'] = dst_addr + i * chunk_size\n",
    "    tcd_i['DLASTSGA'] = tcd_addrs[(i + 1) % len(tcd_addrs)]\n",
    "    tcd_i['CSR'] |= (1 << 4)  # | 0x1  # Automatically start transfers 2-n\n",
    "    # __N.B.,__ Setting `START` bit causes destination bus error.\n",
    "#     if i > 0:\n",
    "#         tcd_i['CSR'] |= 0x1  # Automatically start transfers 2-n\n",
    "    proxy.mem_cpy_host_to_device(tcd_addrs[i], tcd_i.tostring())"
   ]
  },
  {
   "cell_type": "markdown",
   "metadata": {},
   "source": [
    "### Load first TCD in scatter chain and enable scatter/gather"
   ]
  },
  {
   "cell_type": "code",
   "execution_count": 6,
   "metadata": {
    "collapsed": false
   },
   "outputs": [
    {
     "name": "stdout",
     "output_type": "stream",
     "text": [
      "SOURCE0:   [1 2 3 4]\n",
      "SOURCE1:   [5 6 7 8]\n",
      "SOURCE2:   [ 9 10 11 12]\n",
      "DEST:\n",
      "   Trigger 0: [1 2 3 4 0 0 0 0 0 0 0 0]\n",
      "   Trigger 1: [1 2 3 4 5 6 7 8 0 0 0 0]\n",
      "   Trigger 2: [ 1  2  3  4  5  6  7  8  9 10 11 12]\n"
     ]
    }
   ],
   "source": [
    "# Fill the destination array with all zeros (to show transfer progress below).\n",
    "proxy.mem_fill_uint32(dst_addr, 0, N / 4)\n",
    "\n",
    "for i in xrange(chunk_count):\n",
    "    print 'SOURCE%d:  ' % i, proxy.mem_cpy_device_to_host(src_addrs[i], chunk_size)\n",
    "\n",
    "# Load initial TCD to DMA channel 0.\n",
    "# (not necessary for now, see *TODO* in previous cell)\n",
    "# proxy.mem_cpy_host_to_device(hw_tcd_addrs[0], tcd0.tostring())\n",
    "\n",
    "print 'DEST:'\n",
    "# Trigger once per chunk\n",
    "for i in xrange(chunk_count):\n",
    "    proxy.update_dma_registers(dma.Registers(SSRT=0))\n",
    "    device_dst_data = proxy.mem_cpy_device_to_host(dst_addr, N)\n",
    "    print '   Trigger %d:' % i, device_dst_data\n",
    "    \n",
    "# Verify device result matches expected result computed on host.\n",
    "assert((device_dst_data == dst_data).all())"
   ]
  },
  {
   "cell_type": "code",
   "execution_count": null,
   "metadata": {
    "collapsed": true
   },
   "outputs": [],
   "source": [
    "\n",
    "\n",
    "\n",
    "\n",
    "\n",
    "\n",
    "\n",
    "\n",
    "\n",
    "\n",
    "\n",
    "\n",
    "\n",
    "\n",
    "\n",
    "\n",
    "\n",
    "\n",
    "\n",
    "\n",
    "\n",
    "\n",
    "\n",
    "\n",
    "\n",
    "\n",
    "\n",
    "\n",
    "\n",
    "\n"
   ]
  }
 ],
 "metadata": {
  "kernelspec": {
   "display_name": "Python 2",
   "language": "python",
   "name": "python2"
  },
  "language_info": {
   "codemirror_mode": {
    "name": "ipython",
    "version": 2
   },
   "file_extension": ".py",
   "mimetype": "text/x-python",
   "name": "python",
   "nbconvert_exporter": "python",
   "pygments_lexer": "ipython2",
   "version": "2.7.9"
  }
 },
 "nbformat": 4,
 "nbformat_minor": 0
}
