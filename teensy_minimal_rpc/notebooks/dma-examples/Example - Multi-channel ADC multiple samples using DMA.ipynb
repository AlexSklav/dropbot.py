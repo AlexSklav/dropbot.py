{
 "cells": [
  {
   "cell_type": "markdown",
   "metadata": {},
   "source": [
    "# Overview #\n",
    "\n",
    "Use linked DMA channels to perform \"scan\" across multiple ADC input channels.\n",
    "\n",
    "After each scan, use DMA scatter chain to write the converted ADC values to a\n",
    "separate output array for each ADC channel.  The length of the output array to\n",
    "allocate for each ADC channel is determined by the `sample_count` in the\n",
    "example below.\n",
    "\n",
    "See diagram below.\n",
    "     \n",
    "     \n",
    "## Channel configuration ## \n",
    "\n",
    " - DMA channel $i$ copies conesecutive `SC1A` configurations to the ADC `SC1A`\n",
    "   register.  Each `SC1A` configuration selects an analog input channel.\n",
    "     * Channel $i$ is initially triggered by software trigger\n",
    "       (i.e., `DMA_SSRT = i`), starting the ADC conversion for the first ADC\n",
    "       channel configuration.\n",
    "     * Loading of subsequent ADC channel configurations is triggered through\n",
    "       minor loop linking of DMA channel $ii$ to DMA channel $i$.\n",
    " - DMA channel $ii$ is triggered by ADC conversion complete (i.e., `COCO`), and\n",
    "   copies the output result of the ADC to consecutive locations in the result\n",
    "   array.\n",
    "     * Channel $ii$ has minor loop link set to channel $i$, which triggers the\n",
    "       loading of the next channel `SC1A` configuration to be loaded immediately\n",
    "       after the current ADC result has been copied to the result array.\n",
    " - After $n$ triggers of channel $i$, the result array contains $n$ ADC results,\n",
    "   one result per channel in the `SC1A` table.\n",
    "     * **N.B.,** Only the trigger for the *first* ADC channel is an explicit\n",
    "       software trigger.  All remaining triggers occur through minor-loop DMA\n",
    "       channel linking from channel $ii$ to channel $i$.\n",
    " - After each scan through all ADC channels is complete, the ADC readings are\n",
    "   scattered using the selected \"scatter\" DMA channel through a major-loop link\n",
    "   between DMA channel $ii$ and the \"scatter\" channel.\n",
    "\n",
    "<img src=\"multi-channel_ADC_multi-samples_using_DMA.jpg\" style=\"max-height: 600px\" />"
   ]
  },
  {
   "cell_type": "markdown",
   "metadata": {},
   "source": [
    "# Device"
   ]
  },
  {
   "cell_type": "markdown",
   "metadata": {},
   "source": [
    "### Connect to device"
   ]
  },
  {
   "cell_type": "code",
   "execution_count": 1,
   "metadata": {
    "collapsed": false
   },
   "outputs": [],
   "source": [
    "from arduino_rpc.protobuf import resolve_field_values\n",
    "from teensy_minimal_rpc import SerialProxy\n",
    "import teensy_minimal_rpc.DMA as DMA\n",
    "import teensy_minimal_rpc.ADC as ADC\n",
    "\n",
    "\n",
    "# Disconnect from existing proxy (if available)\n",
    "try:\n",
    "    del proxy\n",
    "except NameError:\n",
    "    pass\n",
    "\n",
    "proxy = SerialProxy()"
   ]
  },
  {
   "cell_type": "code",
   "execution_count": 2,
   "metadata": {
    "collapsed": true
   },
   "outputs": [],
   "source": [
    "dma_channel_scatter = 0\n",
    "dma_channel_i = 1\n",
    "dma_channel_ii = 2"
   ]
  },
  {
   "cell_type": "markdown",
   "metadata": {},
   "source": [
    "### Configure ADC sample rate, etc. ###"
   ]
  },
  {
   "cell_type": "code",
   "execution_count": 3,
   "metadata": {
    "collapsed": false
   },
   "outputs": [
    {
     "data": {
      "text/plain": [
       "0"
      ]
     },
     "execution_count": 3,
     "metadata": {},
     "output_type": "execute_result"
    }
   ],
   "source": [
    "import arduino_helpers.hardware.teensy as teensy\n",
    "\n",
    "# Set ADC parameters\n",
    "proxy.setAveraging(16, teensy.ADC_0)\n",
    "proxy.setResolution(16, teensy.ADC_0)\n",
    "proxy.setConversionSpeed(teensy.ADC_MED_SPEED, teensy.ADC_0)\n",
    "proxy.setSamplingSpeed(teensy.ADC_MED_SPEED, teensy.ADC_0)\n",
    "proxy.update_adc_registers(\n",
    "    teensy.ADC_0,\n",
    "    ADC.Registers(CFG2=ADC.R_CFG2(MUXSEL=ADC.R_CFG2.B)))"
   ]
  },
  {
   "cell_type": "markdown",
   "metadata": {},
   "source": [
    "Pseudo-code to set DMA channel $i$ to be triggered by ADC0 conversion complete.\n",
    "\n",
    "    DMAMUX0_CFGi[SOURCE] = DMAMUX_SOURCE_ADC0  // Route ADC0 as DMA channel source.\n",
    "    DMAMUX0_CFGi[TRIG] = 0  // Disable periodic trigger.\n",
    "    DMAMUX0_CFGi[ENBL] = 1  // Enable the DMAMUX configuration for channel.\n",
    "    \n",
    "    DMA_ERQ[i] = 1  // DMA request input signals and this enable request flag\n",
    "                    // must be asserted before a channel’s hardware service\n",
    "                    // request is accepted (21.3.3/394).\n",
    "    DMA_SERQ = i  // Can use memory mapped convenience register to set instead.\n",
    "\n"
   ]
  },
  {
   "cell_type": "markdown",
   "metadata": {},
   "source": [
    "### Set DMA mux source for channel 0 to ADC0 ###"
   ]
  },
  {
   "cell_type": "code",
   "execution_count": 4,
   "metadata": {
    "collapsed": false
   },
   "outputs": [],
   "source": [
    "DMAMUX_SOURCE_ADC0 = 40  # from `kinetis.h`\n",
    "DMAMUX_SOURCE_ADC1 = 41  # from `kinetis.h`\n",
    "\n",
    "#    DMAMUX0_CFGi[SOURCE] = DMAMUX_SOURCE_ADC0  // Route ADC0 as DMA channel source.\n",
    "#    DMAMUX0_CFGi[TRIG] = 0  // Disable periodic trigger.\n",
    "#    DMAMUX0_CFGi[ENBL] = 1  // Enable the DMAMUX configuration for channel.\n",
    "proxy.update_dma_mux_chcfg(dma_channel_ii,\n",
    "                           DMA.MUX_CHCFG(SOURCE=DMAMUX_SOURCE_ADC0,\n",
    "                                         TRIG=False,\n",
    "                                         ENBL=True))\n",
    "\n",
    "# DMA request input signals and this enable request flag\n",
    "# must be asserted before a channel’s hardware service\n",
    "# request is accepted (21.3.3/394).\n",
    "#    DMA_SERQ = i\n",
    "proxy.update_dma_registers(DMA.Registers(SERQ=dma_channel_ii))\n",
    "proxy.enableDMA(teensy.ADC_0)"
   ]
  },
  {
   "cell_type": "code",
   "execution_count": 5,
   "metadata": {
    "collapsed": false
   },
   "outputs": [
    {
     "data": {
      "text/html": [
       "<div>\n",
       "<table border=\"1\" class=\"dataframe\">\n",
       "  <thead>\n",
       "    <tr style=\"text-align: right;\">\n",
       "      <th></th>\n",
       "      <th>full_name</th>\n",
       "      <th>value</th>\n",
       "      <th>short_description</th>\n",
       "      <th>page</th>\n",
       "    </tr>\n",
       "    <tr>\n",
       "      <th>parent_name</th>\n",
       "      <th></th>\n",
       "      <th></th>\n",
       "      <th></th>\n",
       "      <th></th>\n",
       "    </tr>\n",
       "  </thead>\n",
       "  <tbody>\n",
       "    <tr>\n",
       "      <th></th>\n",
       "      <td>ERQ</td>\n",
       "      <td>4</td>\n",
       "      <td>Enable Request Register</td>\n",
       "      <td>21.3.3/394</td>\n",
       "    </tr>\n",
       "    <tr>\n",
       "      <th></th>\n",
       "      <td>ERR</td>\n",
       "      <td>5</td>\n",
       "      <td>Error Register</td>\n",
       "      <td>21.3.14/409</td>\n",
       "    </tr>\n",
       "    <tr>\n",
       "      <th></th>\n",
       "      <td>INT</td>\n",
       "      <td>0</td>\n",
       "      <td>Interrupt Request Register</td>\n",
       "      <td>21.3.13/406</td>\n",
       "    </tr>\n",
       "    <tr>\n",
       "      <th></th>\n",
       "      <td>EEI</td>\n",
       "      <td>0</td>\n",
       "      <td>Enable Error Interrupt Register</td>\n",
       "      <td>21.3.4/397</td>\n",
       "    </tr>\n",
       "    <tr>\n",
       "      <th></th>\n",
       "      <td>HRS</td>\n",
       "      <td>0</td>\n",
       "      <td>Hardware Request Status Register</td>\n",
       "      <td>21.3.15/411</td>\n",
       "    </tr>\n",
       "  </tbody>\n",
       "</table>\n",
       "</div>"
      ],
      "text/plain": [
       "            full_name value                 short_description         page\n",
       "parent_name                                                               \n",
       "                  ERQ     4           Enable Request Register   21.3.3/394\n",
       "                  ERR     5                    Error Register  21.3.14/409\n",
       "                  INT     0        Interrupt Request Register  21.3.13/406\n",
       "                  EEI     0   Enable Error Interrupt Register   21.3.4/397\n",
       "                  HRS     0  Hardware Request Status Register  21.3.15/411"
      ]
     },
     "execution_count": 5,
     "metadata": {},
     "output_type": "execute_result"
    }
   ],
   "source": [
    "proxy.DMA_registers().loc['']"
   ]
  },
  {
   "cell_type": "code",
   "execution_count": 6,
   "metadata": {
    "collapsed": false,
    "scrolled": true
   },
   "outputs": [
    {
     "data": {
      "text/html": [
       "<div>\n",
       "<table border=\"1\" class=\"dataframe\">\n",
       "  <thead>\n",
       "    <tr style=\"text-align: right;\">\n",
       "      <th></th>\n",
       "      <th>full_name</th>\n",
       "      <th>value</th>\n",
       "    </tr>\n",
       "    <tr>\n",
       "      <th>parent_name</th>\n",
       "      <th></th>\n",
       "      <th></th>\n",
       "    </tr>\n",
       "  </thead>\n",
       "  <tbody>\n",
       "    <tr>\n",
       "      <th></th>\n",
       "      <td>SOURCE</td>\n",
       "      <td>40</td>\n",
       "    </tr>\n",
       "    <tr>\n",
       "      <th></th>\n",
       "      <td>TRIG</td>\n",
       "      <td>False</td>\n",
       "    </tr>\n",
       "    <tr>\n",
       "      <th></th>\n",
       "      <td>ENBL</td>\n",
       "      <td>True</td>\n",
       "    </tr>\n",
       "  </tbody>\n",
       "</table>\n",
       "</div>"
      ],
      "text/plain": [
       "            full_name  value\n",
       "parent_name                 \n",
       "               SOURCE     40\n",
       "                 TRIG  False\n",
       "                 ENBL   True"
      ]
     },
     "execution_count": 6,
     "metadata": {},
     "output_type": "execute_result"
    }
   ],
   "source": [
    "dmamux = DMA.MUX_CHCFG.FromString(proxy.read_dma_mux_chcfg(dma_channel_ii).tostring())\n",
    "resolve_field_values(dmamux)[['full_name', 'value']]"
   ]
  },
  {
   "cell_type": "code",
   "execution_count": 7,
   "metadata": {
    "collapsed": false
   },
   "outputs": [
    {
     "data": {
      "text/html": [
       "<div>\n",
       "<table border=\"1\" class=\"dataframe\">\n",
       "  <thead>\n",
       "    <tr style=\"text-align: right;\">\n",
       "      <th></th>\n",
       "      <th>full_name</th>\n",
       "      <th>value</th>\n",
       "    </tr>\n",
       "    <tr>\n",
       "      <th>parent_name</th>\n",
       "      <th></th>\n",
       "      <th></th>\n",
       "    </tr>\n",
       "  </thead>\n",
       "  <tbody>\n",
       "    <tr>\n",
       "      <th>CFG2</th>\n",
       "      <td>CFG2.MUXSEL</td>\n",
       "      <td>B</td>\n",
       "    </tr>\n",
       "    <tr>\n",
       "      <th>CFG2</th>\n",
       "      <td>CFG2.ADLSTS</td>\n",
       "      <td>ADD_6_ADCK_CYCLES</td>\n",
       "    </tr>\n",
       "    <tr>\n",
       "      <th>CFG2</th>\n",
       "      <td>CFG2.ADHSC</td>\n",
       "      <td>False</td>\n",
       "    </tr>\n",
       "    <tr>\n",
       "      <th>CFG2</th>\n",
       "      <td>CFG2.ADACKEN</td>\n",
       "      <td>False</td>\n",
       "    </tr>\n",
       "    <tr>\n",
       "      <th>SC1A</th>\n",
       "      <td>SC1A.COCO</td>\n",
       "      <td>False</td>\n",
       "    </tr>\n",
       "    <tr>\n",
       "      <th>SC1A</th>\n",
       "      <td>SC1A.DIFF</td>\n",
       "      <td>False</td>\n",
       "    </tr>\n",
       "    <tr>\n",
       "      <th>SC1A</th>\n",
       "      <td>SC1A.AIEN</td>\n",
       "      <td>False</td>\n",
       "    </tr>\n",
       "    <tr>\n",
       "      <th>SC1A</th>\n",
       "      <td>SC1A.ADCH</td>\n",
       "      <td>5</td>\n",
       "    </tr>\n",
       "    <tr>\n",
       "      <th>SC3</th>\n",
       "      <td>SC3.AVGE</td>\n",
       "      <td>True</td>\n",
       "    </tr>\n",
       "    <tr>\n",
       "      <th>SC3</th>\n",
       "      <td>SC3.ADCO</td>\n",
       "      <td>False</td>\n",
       "    </tr>\n",
       "    <tr>\n",
       "      <th>SC3</th>\n",
       "      <td>SC3.AVGS</td>\n",
       "      <td>_8</td>\n",
       "    </tr>\n",
       "    <tr>\n",
       "      <th>SC3</th>\n",
       "      <td>SC3.CALF</td>\n",
       "      <td>False</td>\n",
       "    </tr>\n",
       "    <tr>\n",
       "      <th>SC3</th>\n",
       "      <td>SC3.CAL</td>\n",
       "      <td>False</td>\n",
       "    </tr>\n",
       "  </tbody>\n",
       "</table>\n",
       "</div>"
      ],
      "text/plain": [
       "                full_name              value\n",
       "parent_name                                 \n",
       "CFG2          CFG2.MUXSEL                  B\n",
       "CFG2          CFG2.ADLSTS  ADD_6_ADCK_CYCLES\n",
       "CFG2           CFG2.ADHSC              False\n",
       "CFG2         CFG2.ADACKEN              False\n",
       "SC1A            SC1A.COCO              False\n",
       "SC1A            SC1A.DIFF              False\n",
       "SC1A            SC1A.AIEN              False\n",
       "SC1A            SC1A.ADCH                  5\n",
       "SC3              SC3.AVGE               True\n",
       "SC3              SC3.ADCO              False\n",
       "SC3              SC3.AVGS                 _8\n",
       "SC3              SC3.CALF              False\n",
       "SC3               SC3.CAL              False"
      ]
     },
     "execution_count": 7,
     "metadata": {},
     "output_type": "execute_result"
    }
   ],
   "source": [
    "adc0 = ADC.Registers.FromString(proxy.read_adc_registers(teensy.ADC_0).tostring())\n",
    "resolve_field_values(adc0)[['full_name', 'value']].loc[['CFG2', 'SC1A', 'SC3']]"
   ]
  },
  {
   "cell_type": "markdown",
   "metadata": {},
   "source": [
    "### Analog channel list ###\n",
    "\n",
    " - List of channels to sample.\n",
    " - Map channels from Teensy references (e.g., `A0`, `A1`, etc.) to the Kinetis analog\n",
    "   pin numbers using the `adc.CHANNEL_TO_SC1A_ADC0` mapping."
   ]
  },
  {
   "cell_type": "code",
   "execution_count": 8,
   "metadata": {
    "collapsed": false
   },
   "outputs": [],
   "source": [
    "import re\n",
    "\n",
    "import numpy as np\n",
    "import pandas as pd\n",
    "import arduino_helpers.hardware.teensy.adc as adc\n",
    "\n",
    "# The number of samples to record for each ADC channel.\n",
    "sample_count = 10\n",
    "\n",
    "teensy_analog_channels = ['A0', 'A1', 'A0', 'A3', 'A0']\n",
    "sc1a_pins = pd.Series(dict([(v, adc.CHANNEL_TO_SC1A_ADC0[getattr(teensy, v)])\n",
    "                            for v in dir(teensy) if re.search(r'^A\\d+', v)]))\n",
    "channel_sc1as = np.array(sc1a_pins[teensy_analog_channels].tolist(), dtype='uint32')"
   ]
  },
  {
   "cell_type": "markdown",
   "metadata": {},
   "source": [
    "### Allocate and initialize device arrays ###\n",
    "\n",
    " - `SD1A` register configuration for each ADC channel in the `channel_sc1as` list.\n",
    "     * Copy `channel_sc1as` list to device.\n",
    " - ADC result array\n",
    "     * Initialize to zero."
   ]
  },
  {
   "cell_type": "code",
   "execution_count": 9,
   "metadata": {
    "collapsed": false
   },
   "outputs": [
    {
     "name": "stdout",
     "output_type": "stream",
     "text": [
      "ADC results: [0 0 0 0 0]\n",
      "Analog pins: [ 5 14  5  9  5]\n"
     ]
    }
   ],
   "source": [
    "proxy.free_all()\n",
    "\n",
    "N = np.dtype('uint16').itemsize * channel_sc1as.size\n",
    "\n",
    "# Allocate source array\n",
    "adc_result_addr = proxy.mem_alloc(N)\n",
    "\n",
    "# Fill result array with zeros\n",
    "proxy.mem_fill_uint8(adc_result_addr, 0, N)\n",
    "\n",
    "# Copy channel SC1A configurations to device memory\n",
    "adc_sda1s_addr = proxy.mem_aligned_alloc_and_set(4, channel_sc1as.view('uint8'))\n",
    "\n",
    "# Allocate source array\n",
    "samples_addr = proxy.mem_alloc(sample_count * N)\n",
    "\n",
    "tcds_addr = proxy.mem_aligned_alloc(32, sample_count * 32)\n",
    "hw_tcds_addr = 0x40009000\n",
    "tcd_addrs = [tcds_addr + 32 * i for i in xrange(sample_count)]\n",
    "hw_tcd_addrs = [hw_tcds_addr + 32 * i for i in xrange(sample_count)]\n",
    "\n",
    "# Fill result array with zeros\n",
    "proxy.mem_fill_uint8(samples_addr, 0, sample_count * N)\n",
    "\n",
    "# Create Transfer Control Descriptor configuration for first chunk, encoded\n",
    "# as a Protocol Buffer message.\n",
    "tcd0_msg = DMA.TCD(CITER_ELINKNO=DMA.R_TCD_ITER_ELINKNO(ITER=1),\n",
    "                   BITER_ELINKNO=DMA.R_TCD_ITER_ELINKNO(ITER=1),\n",
    "                   ATTR=DMA.R_TCD_ATTR(SSIZE=DMA.R_TCD_ATTR._16_BIT,\n",
    "                                       DSIZE=DMA.R_TCD_ATTR._16_BIT),\n",
    "                   NBYTES_MLNO=channel_sc1as.size * 2,\n",
    "                   SADDR=int(adc_result_addr),\n",
    "                   SOFF=2,\n",
    "                   SLAST=-channel_sc1as.size * 2,\n",
    "                   DADDR=int(samples_addr),\n",
    "                   DOFF=2 * sample_count,\n",
    "                   DLASTSGA=int(tcd_addrs[1]),\n",
    "                   CSR=DMA.R_TCD_CSR(START=0, DONE=False, ESG=True))\n",
    "\n",
    "# Convert Protocol Buffer encoded TCD to bytes structure.\n",
    "tcd0 = proxy.tcd_msg_to_struct(tcd0_msg)\n",
    "\n",
    "# Create binary TCD struct for each TCD protobuf message and copy to device\n",
    "# memory.\n",
    "for i in xrange(sample_count):\n",
    "    tcd_i = tcd0.copy()\n",
    "    tcd_i['SADDR'] = adc_result_addr\n",
    "    tcd_i['DADDR'] = samples_addr + 2 * i\n",
    "    tcd_i['DLASTSGA'] = tcd_addrs[(i + 1) % len(tcd_addrs)]\n",
    "    tcd_i['CSR'] |= (1 << 4)\n",
    "    proxy.mem_cpy_host_to_device(tcd_addrs[i], tcd_i.tostring())\n",
    "\n",
    "# Load initial TCD in scatter chain to DMA channel chosen to handle scattering.\n",
    "proxy.mem_cpy_host_to_device(hw_tcd_addrs[dma_channel_scatter],\n",
    "                             tcd0.tostring())\n",
    "\n",
    "print 'ADC results:', proxy.mem_cpy_device_to_host(adc_result_addr, N).view('uint16')\n",
    "print 'Analog pins:', proxy.mem_cpy_device_to_host(adc_sda1s_addr, len(channel_sc1as) *\n",
    "                                                   channel_sc1as.dtype.itemsize).view('uint32')"
   ]
  },
  {
   "cell_type": "markdown",
   "metadata": {},
   "source": [
    "### Configure DMA channel $i$ ###"
   ]
  },
  {
   "cell_type": "code",
   "execution_count": 10,
   "metadata": {
    "collapsed": false
   },
   "outputs": [
    {
     "data": {
      "text/plain": [
       "0"
      ]
     },
     "execution_count": 10,
     "metadata": {},
     "output_type": "execute_result"
    }
   ],
   "source": [
    "ADC0_SC1A = 0x4003B000  # ADC status and control registers 1\n",
    "\n",
    "sda1_tcd_msg = DMA.TCD(CITER_ELINKNO=DMA.R_TCD_ITER_ELINKNO(ELINK=False, ITER=channel_sc1as.size),\n",
    "                       BITER_ELINKNO=DMA.R_TCD_ITER_ELINKNO(ELINK=False, ITER=channel_sc1as.size),\n",
    "                       ATTR=DMA.R_TCD_ATTR(SSIZE=DMA.R_TCD_ATTR._32_BIT,\n",
    "                                           DSIZE=DMA.R_TCD_ATTR._32_BIT),\n",
    "                       NBYTES_MLNO=4,\n",
    "                       SADDR=int(adc_sda1s_addr),\n",
    "                       SOFF=4,\n",
    "                       SLAST=-channel_sc1as.size * 4,\n",
    "                       DADDR=int(ADC0_SC1A),\n",
    "                       DOFF=0,\n",
    "                       DLASTSGA=0,\n",
    "                       CSR=DMA.R_TCD_CSR(START=0, DONE=False))\n",
    "\n",
    "proxy.update_dma_TCD(dma_channel_i, sda1_tcd_msg)"
   ]
  },
  {
   "cell_type": "markdown",
   "metadata": {},
   "source": [
    "### Configure DMA channel $ii$ ###"
   ]
  },
  {
   "cell_type": "code",
   "execution_count": 11,
   "metadata": {
    "collapsed": false
   },
   "outputs": [
    {
     "data": {
      "text/plain": [
       "0"
      ]
     },
     "execution_count": 11,
     "metadata": {},
     "output_type": "execute_result"
    }
   ],
   "source": [
    "ADC0_RA = 0x4003B010  # ADC data result register\n",
    "ADC0_RB = 0x4003B014  # ADC data result register\n",
    "\n",
    "\n",
    "tcd_msg = DMA.TCD(CITER_ELINKYES=DMA.R_TCD_ITER_ELINKYES(ELINK=True, LINKCH=1, ITER=channel_sc1as.size),\n",
    "                  BITER_ELINKYES=DMA.R_TCD_ITER_ELINKYES(ELINK=True, LINKCH=1, ITER=channel_sc1as.size),\n",
    "                  ATTR=DMA.R_TCD_ATTR(SSIZE=DMA.R_TCD_ATTR._16_BIT,\n",
    "                                      DSIZE=DMA.R_TCD_ATTR._16_BIT),\n",
    "                  NBYTES_MLNO=2,\n",
    "                  SADDR=ADC0_RA,\n",
    "                  SOFF=0,\n",
    "                  SLAST=0,\n",
    "                  DADDR=int(adc_result_addr),\n",
    "                  DOFF=2,\n",
    "                  DLASTSGA=-channel_sc1as.size * 2,\n",
    "                  CSR=DMA.R_TCD_CSR(START=0, DONE=False,\n",
    "                                    MAJORELINK=True,\n",
    "                                    MAJORLINKCH=dma_channel_scatter))\n",
    "\n",
    "proxy.update_dma_TCD(dma_channel_ii, tcd_msg)"
   ]
  },
  {
   "cell_type": "markdown",
   "metadata": {},
   "source": [
    "### Trigger sample scan across selected ADC channels ###"
   ]
  },
  {
   "cell_type": "code",
   "execution_count": 12,
   "metadata": {
    "collapsed": false
   },
   "outputs": [
    {
     "name": "stdout",
     "output_type": "stream",
     "text": [
      "ADC results:\n",
      "  Iteration 0: [65535     2 65535 36365 65535]\n",
      "  Iteration 1: [65532     2 65535 35941 65535]\n",
      "  Iteration 2: [65532     2 65535 39189 65535]\n",
      "  Iteration 3: [65532     2 65535 32148 65535]\n",
      "  Iteration 4: [65527     2 65535 32701 65535]\n",
      "  Iteration 5: [65528     2 65535 29713 65535]\n",
      "  Iteration 6: [65532     2 65535 27901 65535]\n",
      "  Iteration 7: [65531     2 65535 33160 65535]\n",
      "  Iteration 8: [65524     2 65535 28725 65535]\n",
      "  Iteration 9: [65533     2 65535 38502 65535]\n",
      "\n",
      "Samples by channel:\n"
     ]
    },
    {
     "data": {
      "text/html": [
       "<div>\n",
       "<table border=\"1\" class=\"dataframe\">\n",
       "  <thead>\n",
       "    <tr style=\"text-align: right;\">\n",
       "      <th></th>\n",
       "      <th>A0</th>\n",
       "      <th>A1</th>\n",
       "      <th>A0</th>\n",
       "      <th>A3</th>\n",
       "      <th>A0</th>\n",
       "    </tr>\n",
       "  </thead>\n",
       "  <tbody>\n",
       "    <tr>\n",
       "      <th>0</th>\n",
       "      <td>65535</td>\n",
       "      <td>2</td>\n",
       "      <td>65535</td>\n",
       "      <td>36365</td>\n",
       "      <td>65535</td>\n",
       "    </tr>\n",
       "    <tr>\n",
       "      <th>1</th>\n",
       "      <td>65532</td>\n",
       "      <td>2</td>\n",
       "      <td>65535</td>\n",
       "      <td>35941</td>\n",
       "      <td>65535</td>\n",
       "    </tr>\n",
       "    <tr>\n",
       "      <th>2</th>\n",
       "      <td>65532</td>\n",
       "      <td>2</td>\n",
       "      <td>65535</td>\n",
       "      <td>39189</td>\n",
       "      <td>65535</td>\n",
       "    </tr>\n",
       "    <tr>\n",
       "      <th>3</th>\n",
       "      <td>65532</td>\n",
       "      <td>2</td>\n",
       "      <td>65535</td>\n",
       "      <td>32148</td>\n",
       "      <td>65535</td>\n",
       "    </tr>\n",
       "    <tr>\n",
       "      <th>4</th>\n",
       "      <td>65527</td>\n",
       "      <td>2</td>\n",
       "      <td>65535</td>\n",
       "      <td>32701</td>\n",
       "      <td>65535</td>\n",
       "    </tr>\n",
       "    <tr>\n",
       "      <th>5</th>\n",
       "      <td>65528</td>\n",
       "      <td>2</td>\n",
       "      <td>65535</td>\n",
       "      <td>29713</td>\n",
       "      <td>65535</td>\n",
       "    </tr>\n",
       "    <tr>\n",
       "      <th>6</th>\n",
       "      <td>65532</td>\n",
       "      <td>2</td>\n",
       "      <td>65535</td>\n",
       "      <td>27901</td>\n",
       "      <td>65535</td>\n",
       "    </tr>\n",
       "    <tr>\n",
       "      <th>7</th>\n",
       "      <td>65531</td>\n",
       "      <td>2</td>\n",
       "      <td>65535</td>\n",
       "      <td>33160</td>\n",
       "      <td>65535</td>\n",
       "    </tr>\n",
       "    <tr>\n",
       "      <th>8</th>\n",
       "      <td>65524</td>\n",
       "      <td>2</td>\n",
       "      <td>65535</td>\n",
       "      <td>28725</td>\n",
       "      <td>65535</td>\n",
       "    </tr>\n",
       "    <tr>\n",
       "      <th>9</th>\n",
       "      <td>65533</td>\n",
       "      <td>2</td>\n",
       "      <td>65535</td>\n",
       "      <td>38502</td>\n",
       "      <td>65535</td>\n",
       "    </tr>\n",
       "  </tbody>\n",
       "</table>\n",
       "</div>"
      ],
      "text/plain": [
       "      A0  A1     A0     A3     A0\n",
       "0  65535   2  65535  36365  65535\n",
       "1  65532   2  65535  35941  65535\n",
       "2  65532   2  65535  39189  65535\n",
       "3  65532   2  65535  32148  65535\n",
       "4  65527   2  65535  32701  65535\n",
       "5  65528   2  65535  29713  65535\n",
       "6  65532   2  65535  27901  65535\n",
       "7  65531   2  65535  33160  65535\n",
       "8  65524   2  65535  28725  65535\n",
       "9  65533   2  65535  38502  65535"
      ]
     },
     "execution_count": 12,
     "metadata": {},
     "output_type": "execute_result"
    }
   ],
   "source": [
    "# Clear output array to zero.\n",
    "proxy.mem_fill_uint8(adc_result_addr, 0, N)\n",
    "proxy.mem_fill_uint8(samples_addr, 0, sample_count * N)\n",
    "\n",
    "# Software trigger channel $i$ to copy *first* SC1A configuration, which\n",
    "# starts ADC conversion for the first channel.\n",
    "#\n",
    "# Conversions for subsequent ADC channels are triggered through minor-loop\n",
    "# linking from DMA channel $ii$ to DMA channel $i$ (*not* through explicit\n",
    "# software trigger).\n",
    "print 'ADC results:'\n",
    "for i in xrange(sample_count):\n",
    "    proxy.update_dma_registers(DMA.Registers(SSRT=dma_channel_i))\n",
    "\n",
    "    # Display converted ADC values (one value per channel in `channel_sd1as` list).\n",
    "    print '  Iteration %s:' % i, proxy.mem_cpy_device_to_host(adc_result_addr, N).view('uint16')\n",
    "\n",
    "print ''\n",
    "print 'Samples by channel:'\n",
    "# Trigger once per chunk\n",
    "# for i in xrange(sample_count):\n",
    "# proxy.update_dma_registers(DMA.Registers(SSRT=0))\n",
    "device_dst_data = proxy.mem_cpy_device_to_host(samples_addr, sample_count * N)\n",
    "pd.DataFrame(device_dst_data.view('uint16').reshape(-1, sample_count).T,\n",
    "             columns=teensy_analog_channels)"
   ]
  },
  {
   "cell_type": "code",
   "execution_count": null,
   "metadata": {
    "collapsed": true
   },
   "outputs": [],
   "source": [
    "\n",
    "\n",
    "\n",
    "\n",
    "\n",
    "\n",
    "\n",
    "\n",
    "\n",
    "\n",
    "\n",
    "\n",
    "\n",
    "\n",
    "\n",
    "\n",
    "\n",
    "\n",
    "\n",
    "\n",
    "\n",
    "\n",
    "\n",
    "\n",
    "\n",
    "\n",
    "\n",
    "\n",
    "\n",
    "\n",
    "\n"
   ]
  }
 ],
 "metadata": {
  "kernelspec": {
   "display_name": "Python 2",
   "language": "python",
   "name": "python2"
  },
  "language_info": {
   "codemirror_mode": {
    "name": "ipython",
    "version": 2
   },
   "file_extension": ".py",
   "mimetype": "text/x-python",
   "name": "python",
   "nbconvert_exporter": "python",
   "pygments_lexer": "ipython2",
   "version": "2.7.9"
  }
 },
 "nbformat": 4,
 "nbformat_minor": 0
}
