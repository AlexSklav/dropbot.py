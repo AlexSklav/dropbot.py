{
 "cells": [
  {
   "cell_type": "markdown",
   "metadata": {},
   "source": [
    "__N.B.,__ Cannot use 32-bit programmable interrupt timer (PIT) to trigger periodic DMA due to hardware bug.\n",
    "\n",
    "See [here][1].\n",
    "\n",
    "The solution shown below uses the 16-bit programmable delay block (PDB).\n",
    "\n",
    "Disadvantages to using PDB:\n",
    "\n",
    " - Lower resolution counter compared to PIT (16-bit vs 32-bit).\n",
    "     * In practice, this limits the *maximum* timer period to about 1.5 seconds.\n",
    " - There is only one PDB.  Using it for ADC means it cannot be used for\n",
    "   another task.  Note that there are four different programmable interrupt\n",
    "   timers.\n",
    " \n",
    "Advantages to using PDB:\n",
    "\n",
    " - **It works!**\n",
    "\n",
    "[1]: https://community.freescale.com/thread/102320#112176"
   ]
  },
  {
   "cell_type": "code",
   "execution_count": null,
   "metadata": {
    "collapsed": false
   },
   "outputs": [],
   "source": [
    "import pandas as pd\n",
    "\n",
    "\n",
    "def get_pdb_divide_params(frequency, F_BUS=int(48e6)):\n",
    "    mult_factor = np.array([1, 10, 20, 40])\n",
    "    prescaler = np.arange(8)\n",
    "\n",
    "    clock_divide = (pd.DataFrame([[i, m, p, m * (1 << p)]\n",
    "                                  for i, m in enumerate(mult_factor)\n",
    "                                  for p in prescaler],\n",
    "                                 columns=['mult_', 'mult_factor',\n",
    "                                          'prescaler', 'combined'])\n",
    "                    .drop_duplicates(subset=['combined'])\n",
    "                    .sort_values('combined', ascending=True))\n",
    "    clock_divide['clock_mod'] = (F_BUS / frequency\n",
    "                                 / clock_divide.combined).astype(int)\n",
    "    return clock_divide.loc[clock_divide.clock_mod <= 0xffff]"
   ]
  },
  {
   "cell_type": "markdown",
   "metadata": {},
   "source": [
    "# Overview #\n",
    "\n",
    "Use linked DMA channels to perform \"scan\" across multiple ADC input channels.\n",
    "\n",
    "After each scan, use DMA scatter chain to write the converted ADC values to a\n",
    "separate output array for each ADC channel.  The length of the output array to\n",
    "allocate for each ADC channel is determined by the `sample_count` in the\n",
    "example below.\n",
    "\n",
    "See diagram below.\n",
    "     \n",
    "     \n",
    "## Channel configuration ## \n",
    "\n",
    " - DMA channel $i$ copies conesecutive `SC1A` configurations to the ADC `SC1A`\n",
    "   register.  Each `SC1A` configuration selects an analog input channel.\n",
    "     * Channel $i$ is initially triggered by software trigger\n",
    "       (i.e., `DMA_SSRT = i`), starting the ADC conversion for the first ADC\n",
    "       channel configuration.\n",
    "     * Loading of subsequent ADC channel configurations is triggered through\n",
    "       minor loop linking of DMA channel $ii$ to DMA channel $i$.\n",
    " - DMA channel $ii$ is triggered by ADC conversion complete (i.e., `COCO`), and\n",
    "   copies the output result of the ADC to consecutive locations in the result\n",
    "   array.\n",
    "     * Channel $ii$ has minor loop link set to channel $i$, which triggers the\n",
    "       loading of the next channel `SC1A` configuration to be loaded immediately\n",
    "       after the current ADC result has been copied to the result array.\n",
    " - After $n$ triggers of channel $i$, the result array contains $n$ ADC results,\n",
    "   one result per channel in the `SC1A` table.\n",
    "     * **N.B.,** Only the trigger for the *first* ADC channel is an explicit\n",
    "       software trigger.  All remaining triggers occur through minor-loop DMA\n",
    "       channel linking from channel $ii$ to channel $i$.\n",
    " - After each scan through all ADC channels is complete, the ADC readings are\n",
    "   scattered using the selected \"scatter\" DMA channel through a major-loop link\n",
    "   between DMA channel $ii$ and the \"scatter\" channel.\n",
    "\n",
    "<img src=\"multi-channel_ADC_multi-samples_using_DMA.jpg\" style=\"max-height: 600px\" />"
   ]
  },
  {
   "cell_type": "markdown",
   "metadata": {},
   "source": [
    "# Device"
   ]
  },
  {
   "cell_type": "markdown",
   "metadata": {},
   "source": [
    "### Connect to device"
   ]
  },
  {
   "cell_type": "code",
   "execution_count": null,
   "metadata": {
    "collapsed": false
   },
   "outputs": [],
   "source": [
    "import arduino_helpers.hardware.teensy as teensy\n",
    "from arduino_rpc.protobuf import resolve_field_values\n",
    "from teensy_minimal_rpc import SerialProxy\n",
    "import teensy_minimal_rpc.DMA as DMA\n",
    "import teensy_minimal_rpc.ADC as ADC\n",
    "import teensy_minimal_rpc.SIM as SIM\n",
    "import teensy_minimal_rpc.PIT as PIT\n",
    "\n",
    "\n",
    "# Disconnect from existing proxy (if available)\n",
    "try:\n",
    "    del proxy\n",
    "except NameError:\n",
    "    pass\n",
    "\n",
    "proxy = SerialProxy()\n",
    "proxy.pin_mode(teensy.LED_BUILTIN, 1)"
   ]
  },
  {
   "cell_type": "code",
   "execution_count": null,
   "metadata": {
    "collapsed": false
   },
   "outputs": [],
   "source": [
    "from IPython.display import display\n",
    "\n",
    "proxy.update_sim_SCGC6(SIM.R_SCGC6(PDB=True))\n",
    "sim_scgc6 = SIM.R_SCGC6.FromString(proxy.read_sim_SCGC6().tostring())\n",
    "display(resolve_field_values(sim_scgc6)[['full_name', 'value']].T)"
   ]
  },
  {
   "cell_type": "markdown",
   "metadata": {},
   "source": [
    "--------------------------------------------------"
   ]
  },
  {
   "cell_type": "markdown",
   "metadata": {},
   "source": [
    "## Test periodic ADC scan using PDB"
   ]
  },
  {
   "cell_type": "code",
   "execution_count": null,
   "metadata": {
    "collapsed": true
   },
   "outputs": [],
   "source": [
    "dma_channel_scatter = 0\n",
    "dma_channel_i = 1\n",
    "dma_channel_ii = 2"
   ]
  },
  {
   "cell_type": "code",
   "execution_count": null,
   "metadata": {
    "collapsed": false
   },
   "outputs": [],
   "source": [
    "import numpy as np\n",
    "\n",
    "\n",
    "PDB0_IDLY = 0x4003600C  # Interrupt Delay Register\n",
    "PDB0_SC = 0x40036000  # Status and Control Register\n",
    "PDB0_MOD = 0x40036004  # Modulus Register\n",
    "\n",
    "PDB_SC_PDBEIE = 0x00020000  # Sequence Error Interrupt Enable\n",
    "PDB_SC_SWTRIG = 0x00010000  # Software Trigger\n",
    "PDB_SC_DMAEN = 0x00008000  # DMA Enable\n",
    "PDB_SC_PDBEN = 0x00000080  # PDB Enable\n",
    "PDB_SC_PDBIF = 0x00000040  # PDB Interrupt Flag\n",
    "PDB_SC_PDBIE = 0x00000020  # PDB Interrupt Enable.\n",
    "PDB_SC_CONT = 0x00000002  # Continuous Mode Enable\n",
    "PDB_SC_LDOK = 0x00000001  # Load OK\n",
    "\n",
    "\n",
    "def PDB_SC_TRGSEL(n): return (((n) & 15) << 8)  # Trigger Input Source Select\n",
    "def PDB_SC_PRESCALER(n): return (((n) & 7) << 12)  # Prescaler Divider Select\n",
    "def PDB_SC_MULT(n): return (((n) & 3) << 2)  # Multiplication Factor\n",
    "def PDB_SC_LDMOD(n): return (((n) & 3) << 18)  # Load Mode Select\n",
    "\n",
    "\n",
    "# PDB0_IDLY = 1; // the pdb interrupt happens when IDLY is equal to CNT+1\n",
    "proxy.mem_cpy_host_to_device(PDB0_IDLY, np.uint32(1).tostring())\n",
    "\n",
    "#             software trigger    enable PDB     continuous\n",
    "PDB_CONFIG = (PDB_SC_TRGSEL(15) | PDB_SC_PDBEN | PDB_SC_CONT |  PDB_SC_LDMOD(0))\n",
    "\n",
    "clock_divide = get_pdb_divide_params(1).iloc[0]\n",
    "PDB0_SC_ = (PDB_CONFIG | PDB_SC_PRESCALER(clock_divide.prescaler) |\n",
    "            PDB_SC_MULT(clock_divide.mult_) | \n",
    "            PDB_SC_DMAEN | PDB_SC_LDOK)  # load all new values\n",
    "proxy.mem_cpy_host_to_device(PDB0_SC, np.uint32(PDB0_SC_).tostring())\n",
    "\n",
    "# PDB0_MOD = (uint16_t)(mod-1);\n",
    "proxy.mem_cpy_host_to_device(PDB0_MOD, np.uint32(clock_divide.clock_mod).tostring())"
   ]
  },
  {
   "cell_type": "markdown",
   "metadata": {},
   "source": [
    "### Configure ADC sample rate, etc. ###"
   ]
  },
  {
   "cell_type": "code",
   "execution_count": null,
   "metadata": {
    "collapsed": false
   },
   "outputs": [],
   "source": [
    "# Set ADC parameters\n",
    "proxy.setAveraging(4, teensy.ADC_0)\n",
    "proxy.setResolution(10, teensy.ADC_0)\n",
    "proxy.setConversionSpeed(teensy.ADC_MED_SPEED, teensy.ADC_0)\n",
    "proxy.setSamplingSpeed(teensy.ADC_MED_SPEED, teensy.ADC_0)\n",
    "proxy.update_adc_registers(\n",
    "    teensy.ADC_0,\n",
    "    ADC.Registers(CFG2=ADC.R_CFG2(MUXSEL=ADC.R_CFG2.B)))"
   ]
  },
  {
   "cell_type": "markdown",
   "metadata": {},
   "source": [
    "Pseudo-code to set DMA channel $i$ to be triggered by ADC0 conversion complete.\n",
    "\n",
    "    DMAMUX0_CFGi[SOURCE] = DMAMUX_SOURCE_ADC0  // Route ADC0 as DMA channel source.\n",
    "    DMAMUX0_CFGi[TRIG] = 0  // Disable periodic trigger.\n",
    "    DMAMUX0_CFGi[ENBL] = 1  // Enable the DMAMUX configuration for channel.\n",
    "    \n",
    "    DMA_ERQ[i] = 1  // DMA request input signals and this enable request flag\n",
    "                    // must be asserted before a channel’s hardware service\n",
    "                    // request is accepted (21.3.3/394).\n",
    "    DMA_SERQ = i  // Can use memory mapped convenience register to set instead.\n",
    "\n"
   ]
  },
  {
   "cell_type": "markdown",
   "metadata": {},
   "source": [
    "### Set DMA mux source for channel 0 to ADC0 ###"
   ]
  },
  {
   "cell_type": "code",
   "execution_count": null,
   "metadata": {
    "collapsed": true
   },
   "outputs": [],
   "source": [
    "DMAMUX_SOURCE_ADC0 = 40  # from `kinetis.h`\n",
    "DMAMUX_SOURCE_ADC1 = 41  # from `kinetis.h`\n",
    "\n",
    "#    DMAMUX0_CFGi[SOURCE] = DMAMUX_SOURCE_ADC0  // Route ADC0 as DMA channel source.\n",
    "#    DMAMUX0_CFGi[TRIG] = 0  // Disable periodic trigger.\n",
    "#    DMAMUX0_CFGi[ENBL] = 1  // Enable the DMAMUX configuration for channel.\n",
    "proxy.update_dma_mux_chcfg(dma_channel_ii,\n",
    "                           DMA.MUX_CHCFG(SOURCE=DMAMUX_SOURCE_ADC0,\n",
    "                                         TRIG=False,\n",
    "                                         ENBL=True))\n",
    "proxy.enableDMA(teensy.ADC_0)"
   ]
  },
  {
   "cell_type": "code",
   "execution_count": null,
   "metadata": {
    "collapsed": false
   },
   "outputs": [],
   "source": [
    "proxy.DMA_registers().loc['']"
   ]
  },
  {
   "cell_type": "markdown",
   "metadata": {},
   "source": [
    "### Analog channel list ###\n",
    "\n",
    " - List of channels to sample.\n",
    " - Map channels from Teensy references (e.g., `A0`, `A1`, etc.) to the Kinetis analog\n",
    "   pin numbers using the `adc.CHANNEL_TO_SC1A_ADC0` mapping."
   ]
  },
  {
   "cell_type": "code",
   "execution_count": null,
   "metadata": {
    "collapsed": false
   },
   "outputs": [],
   "source": [
    "import re\n",
    "\n",
    "import numpy as np\n",
    "import pandas as pd\n",
    "import arduino_helpers.hardware.teensy.adc as adc\n",
    "\n",
    "# The number of samples to record for each ADC channel.\n",
    "sample_count = 32\n",
    "\n",
    "teensy_analog_channels = ['A0', 'A1', 'A0', 'A3', 'A0']\n",
    "sc1a_pins = pd.Series(dict([(v, adc.CHANNEL_TO_SC1A_ADC0[getattr(teensy, v)])\n",
    "                            for v in dir(teensy) if re.search(r'^A\\d+', v)]))\n",
    "channel_sc1as = np.array(sc1a_pins[teensy_analog_channels].tolist(), dtype='uint32')"
   ]
  },
  {
   "cell_type": "markdown",
   "metadata": {},
   "source": [
    "### Allocate and initialize device arrays ###\n",
    "\n",
    " - `SD1A` register configuration for each ADC channel in the `channel_sc1as` list.\n",
    "     * Copy `channel_sc1as` list to device.\n",
    " - ADC result array\n",
    "     * Initialize to zero."
   ]
  },
  {
   "cell_type": "code",
   "execution_count": null,
   "metadata": {
    "collapsed": false
   },
   "outputs": [],
   "source": [
    "proxy.free_all()\n",
    "\n",
    "N = np.dtype('uint16').itemsize * channel_sc1as.size\n",
    "\n",
    "# Allocate source array\n",
    "adc_result_addr = proxy.mem_alloc(N)\n",
    "\n",
    "# Fill result array with zeros\n",
    "proxy.mem_fill_uint8(adc_result_addr, 0, N)\n",
    "\n",
    "# Copy channel SC1A configurations to device memory\n",
    "adc_sda1s_addr = proxy.mem_aligned_alloc_and_set(4, channel_sc1as.view('uint8'))\n",
    "\n",
    "# Allocate source array\n",
    "samples_addr = proxy.mem_alloc(sample_count * N)\n",
    "\n",
    "tcds_addr = proxy.mem_aligned_alloc(32, sample_count * 32)\n",
    "hw_tcds_addr = 0x40009000\n",
    "tcd_addrs = [tcds_addr + 32 * i for i in xrange(sample_count)]\n",
    "hw_tcd_addrs = [hw_tcds_addr + 32 * i for i in xrange(sample_count)]\n",
    "\n",
    "# Fill result array with zeros\n",
    "proxy.mem_fill_uint8(samples_addr, 0, sample_count * N)\n",
    "\n",
    "# Create Transfer Control Descriptor configuration for first chunk, encoded\n",
    "# as a Protocol Buffer message.\n",
    "tcd0_msg = DMA.TCD(CITER_ELINKNO=DMA.R_TCD_ITER_ELINKNO(ITER=1),\n",
    "                   BITER_ELINKNO=DMA.R_TCD_ITER_ELINKNO(ITER=1),\n",
    "                   ATTR=DMA.R_TCD_ATTR(SSIZE=DMA.R_TCD_ATTR._16_BIT,\n",
    "                                       DSIZE=DMA.R_TCD_ATTR._16_BIT),\n",
    "                   NBYTES_MLNO=channel_sc1as.size * 2,\n",
    "                   SADDR=int(adc_result_addr),\n",
    "                   SOFF=2,\n",
    "                   SLAST=-channel_sc1as.size * 2,\n",
    "                   DADDR=int(samples_addr),\n",
    "                   DOFF=2 * sample_count,\n",
    "                   DLASTSGA=int(tcd_addrs[1]),\n",
    "                   CSR=DMA.R_TCD_CSR(START=0, DONE=False, ESG=True))\n",
    "\n",
    "# Convert Protocol Buffer encoded TCD to bytes structure.\n",
    "tcd0 = proxy.tcd_msg_to_struct(tcd0_msg)\n",
    "\n",
    "# Create binary TCD struct for each TCD protobuf message and copy to device\n",
    "# memory.\n",
    "for i in xrange(sample_count):\n",
    "    tcd_i = tcd0.copy()\n",
    "    tcd_i['SADDR'] = adc_result_addr\n",
    "    tcd_i['DADDR'] = samples_addr + 2 * i\n",
    "    tcd_i['DLASTSGA'] = tcd_addrs[(i + 1) % len(tcd_addrs)]\n",
    "    tcd_i['CSR'] |= (1 << 4)\n",
    "    if i == (sample_count - 1):  # Last sample, so trigger major loop interrupt\n",
    "        print 'Enable major loop interrupt for sample %d' % i\n",
    "        tcd_i['CSR'] |= (1 << 1)  # Set `INTMAJOR` (21.3.29/426)\n",
    "    proxy.mem_cpy_host_to_device(tcd_addrs[i], tcd_i.tostring())\n",
    "\n",
    "# Load initial TCD in scatter chain to DMA channel chosen to handle scattering.\n",
    "proxy.mem_cpy_host_to_device(hw_tcd_addrs[dma_channel_scatter],\n",
    "                             tcd0.tostring())\n",
    "proxy.attach_dma_interrupt(dma_channel_scatter)\n",
    "\n",
    "print 'ADC results:', proxy.mem_cpy_device_to_host(adc_result_addr, N).view('uint16')\n",
    "print 'Analog pins:', proxy.mem_cpy_device_to_host(adc_sda1s_addr, len(channel_sc1as) *\n",
    "                                                   channel_sc1as.dtype.itemsize).view('uint32')"
   ]
  },
  {
   "cell_type": "markdown",
   "metadata": {},
   "source": [
    "### Configure DMA channel $i$ ###"
   ]
  },
  {
   "cell_type": "code",
   "execution_count": null,
   "metadata": {
    "collapsed": false
   },
   "outputs": [],
   "source": [
    "ADC0_SC1A = 0x4003B000  # ADC status and control registers 1\n",
    "\n",
    "sda1_tcd_msg = DMA.TCD(CITER_ELINKNO=DMA.R_TCD_ITER_ELINKNO(ELINK=False, ITER=channel_sc1as.size),\n",
    "                       BITER_ELINKNO=DMA.R_TCD_ITER_ELINKNO(ELINK=False, ITER=channel_sc1as.size),\n",
    "                       ATTR=DMA.R_TCD_ATTR(SSIZE=DMA.R_TCD_ATTR._32_BIT,\n",
    "                                           DSIZE=DMA.R_TCD_ATTR._32_BIT),\n",
    "                       NBYTES_MLNO=4,\n",
    "                       SADDR=int(adc_sda1s_addr),\n",
    "                       SOFF=4,\n",
    "                       SLAST=-channel_sc1as.size * 4,\n",
    "                       DADDR=int(ADC0_SC1A),\n",
    "                       DOFF=0,\n",
    "                       DLASTSGA=0,\n",
    "                       CSR=DMA.R_TCD_CSR(START=0, DONE=False))\n",
    "\n",
    "proxy.update_dma_TCD(dma_channel_i, sda1_tcd_msg)"
   ]
  },
  {
   "cell_type": "markdown",
   "metadata": {},
   "source": [
    "### Configure DMA channel $ii$ ###"
   ]
  },
  {
   "cell_type": "code",
   "execution_count": null,
   "metadata": {
    "collapsed": false
   },
   "outputs": [],
   "source": [
    "ADC0_RA = 0x4003B010  # ADC data result register\n",
    "ADC0_RB = 0x4003B014  # ADC data result register\n",
    "\n",
    "\n",
    "tcd_msg = DMA.TCD(CITER_ELINKYES=DMA.R_TCD_ITER_ELINKYES(ELINK=True, LINKCH=1, ITER=channel_sc1as.size),\n",
    "                  BITER_ELINKYES=DMA.R_TCD_ITER_ELINKYES(ELINK=True, LINKCH=1, ITER=channel_sc1as.size),\n",
    "                  ATTR=DMA.R_TCD_ATTR(SSIZE=DMA.R_TCD_ATTR._16_BIT,\n",
    "                                      DSIZE=DMA.R_TCD_ATTR._16_BIT),\n",
    "                  NBYTES_MLNO=2,\n",
    "                  SADDR=ADC0_RA,\n",
    "                  SOFF=0,\n",
    "                  SLAST=0,\n",
    "                  DADDR=int(adc_result_addr),\n",
    "                  DOFF=2,\n",
    "                  DLASTSGA=-channel_sc1as.size * 2,\n",
    "                  CSR=DMA.R_TCD_CSR(START=0, DONE=False,\n",
    "                                    MAJORELINK=True,\n",
    "                                    MAJORLINKCH=dma_channel_scatter))\n",
    "\n",
    "proxy.update_dma_TCD(dma_channel_ii, tcd_msg)\n",
    "\n",
    "# DMA request input signals and this enable request flag\n",
    "# must be asserted before a channel’s hardware service\n",
    "# request is accepted (21.3.3/394).\n",
    "#    DMA_SERQ = i\n",
    "proxy.update_dma_registers(DMA.Registers(SERQ=dma_channel_ii))"
   ]
  },
  {
   "cell_type": "markdown",
   "metadata": {},
   "source": [
    "### Trigger sample scan across selected ADC channels ###"
   ]
  },
  {
   "cell_type": "code",
   "execution_count": null,
   "metadata": {
    "collapsed": true
   },
   "outputs": [],
   "source": [
    "# Clear output array to zero.\n",
    "proxy.mem_fill_uint8(adc_result_addr, 0, N)\n",
    "proxy.mem_fill_uint8(samples_addr, 0, sample_count * N)"
   ]
  },
  {
   "cell_type": "code",
   "execution_count": null,
   "metadata": {
    "collapsed": false,
    "scrolled": true
   },
   "outputs": [],
   "source": [
    "# Software trigger channel $i$ to copy *first* SC1A configuration, which\n",
    "# starts ADC conversion for the first channel.\n",
    "#\n",
    "# Conversions for subsequent ADC channels are triggered through minor-loop\n",
    "# linking from DMA channel $ii$ to DMA channel $i$ (*not* through explicit\n",
    "# software trigger).\n",
    "print 'ADC results:'\n",
    "for i in xrange(sample_count):\n",
    "    proxy.update_dma_registers(DMA.Registers(SSRT=dma_channel_i))\n",
    "\n",
    "    # Display converted ADC values (one value per channel in `channel_sd1as` list).\n",
    "    print '  Iteration %s:' % i, proxy.mem_cpy_device_to_host(adc_result_addr, N).view('uint16')\n",
    "\n",
    "print ''"
   ]
  },
  {
   "cell_type": "markdown",
   "metadata": {},
   "source": [
    "### Set DMA channel $i$ to be triggered by PDB (when PDB enabled)"
   ]
  },
  {
   "cell_type": "code",
   "execution_count": null,
   "metadata": {
    "collapsed": false
   },
   "outputs": [],
   "source": [
    "proxy.update_dma_mux_chcfg(dma_channel_i,\n",
    "                           DMA.MUX_CHCFG(SOURCE=48,\n",
    "                                         TRIG=False,\n",
    "                                         ENBL=True))\n",
    "proxy.update_dma_registers(DMA.Registers(SERQ=dma_channel_i))"
   ]
  },
  {
   "cell_type": "code",
   "execution_count": null,
   "metadata": {
    "collapsed": true
   },
   "outputs": [],
   "source": [
    "%matplotlib inline"
   ]
  },
  {
   "cell_type": "code",
   "execution_count": null,
   "metadata": {
    "collapsed": false
   },
   "outputs": [],
   "source": [
    "PDB0_SC_ = 0\n",
    "proxy.mem_cpy_host_to_device(PDB0_SC, np.uint32(PDB0_SC_).tostring())"
   ]
  },
  {
   "cell_type": "code",
   "execution_count": null,
   "metadata": {
    "collapsed": false
   },
   "outputs": [],
   "source": [
    "proxy.mem_cpy_device_to_host(PDB0_SC, 4)"
   ]
  },
  {
   "cell_type": "markdown",
   "metadata": {},
   "source": [
    "## Seems to work at 100kHz....."
   ]
  },
  {
   "cell_type": "code",
   "execution_count": null,
   "metadata": {
    "collapsed": true
   },
   "outputs": [],
   "source": [
    "# Set sampling frequency\n",
    "f_sample = 150e3\n",
    "\n",
    "# Determine timing parameters to meet specified sampling frequency.\n",
    "clock_divide = get_pdb_divide_params(f_sample).iloc[0]\n",
    "\n",
    "# Configure Programmable Delay Block (PDB) register state for sampling frequency.\n",
    "PDB0_SC_ = (PDB_CONFIG | PDB_SC_PRESCALER(clock_divide.prescaler) |\n",
    "            PDB_SC_MULT(clock_divide.mult_) | \n",
    "            PDB_SC_DMAEN | PDB_SC_LDOK)  # load all new values\n",
    "proxy.mem_cpy_host_to_device(PDB0_SC, np.uint32(PDB0_SC_).tostring())\n",
    "PDB0_SC_ = (PDB_CONFIG | PDB_SC_PRESCALER(clock_divide.prescaler) |\n",
    "            PDB_SC_DMAEN | PDB_SC_MULT(clock_divide.mult_) |\n",
    "            PDB_SC_SWTRIG)  # start the counter!\n",
    "# Copy configured PDB register state to device hardware register.\n",
    "proxy.mem_cpy_host_to_device(PDB0_SC, np.uint32(PDB0_SC_).tostring())\n",
    "\n",
    "# **N.B.,** Timer will be stopped by the scatter DMA channel major loop interrupt\n",
    "# handler after `sample_count` samples have been collected."
   ]
  },
  {
   "cell_type": "code",
   "execution_count": null,
   "metadata": {
    "collapsed": false
   },
   "outputs": [],
   "source": [
    "print 'Samples by channel:'\n",
    "device_dst_data = proxy.mem_cpy_device_to_host(samples_addr, sample_count * N)\n",
    "df_adc_results = pd.DataFrame(device_dst_data.view('uint16').reshape(-1, sample_count).T,\n",
    "                              columns=teensy_analog_channels)\n",
    "df_adc_results.plot(ylim=(-5, 1030))\n",
    "# df_adc_results"
   ]
  },
  {
   "cell_type": "code",
   "execution_count": null,
   "metadata": {
    "collapsed": false
   },
   "outputs": [],
   "source": [
    "proxy.last_dma_channel_done()"
   ]
  },
  {
   "cell_type": "code",
   "execution_count": null,
   "metadata": {
    "collapsed": false
   },
   "outputs": [],
   "source": [
    "proxy.DMA_registers().loc['']"
   ]
  },
  {
   "cell_type": "code",
   "execution_count": null,
   "metadata": {
    "collapsed": true
   },
   "outputs": [],
   "source": [
    "\n",
    "\n",
    "\n",
    "\n",
    "\n",
    "\n",
    "\n",
    "\n",
    "\n",
    "\n",
    "\n",
    "\n",
    "\n",
    "\n",
    "\n",
    "\n",
    "\n",
    "\n",
    "\n",
    "\n",
    "\n",
    "\n",
    "\n",
    "\n",
    "\n",
    "\n",
    "\n",
    "\n",
    "\n",
    "\n",
    "\n"
   ]
  }
 ],
 "metadata": {
  "kernelspec": {
   "display_name": "Python 2",
   "language": "python",
   "name": "python2"
  },
  "language_info": {
   "codemirror_mode": {
    "name": "ipython",
    "version": 2
   },
   "file_extension": ".py",
   "mimetype": "text/x-python",
   "name": "python",
   "nbconvert_exporter": "python",
   "pygments_lexer": "ipython2",
   "version": "2.7.9"
  }
 },
 "nbformat": 4,
 "nbformat_minor": 0
}
