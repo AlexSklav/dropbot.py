{
 "cells": [
  {
   "cell_type": "markdown",
   "metadata": {},
   "source": [
    " - Demonstrate interleaving source arrays using DMA scatter/gather.\n",
    " - Each source array gets a corresponding Transfer Control Descriptor (TCD) containing:\n",
    "     * Destination address in output array to write to.\n",
    "     * Stride set through `DOFF` field to achieve interleaved writing pattern.\n",
    "     * `DLASTSGA` field set to the address of the next TCD in memory (except for last TCD,\n",
    "       which points back to first TCD)."
   ]
  },
  {
   "cell_type": "markdown",
   "metadata": {},
   "source": [
    "# Host"
   ]
  },
  {
   "cell_type": "markdown",
   "metadata": {},
   "source": [
    "## Define size and number of chunks"
   ]
  },
  {
   "cell_type": "code",
   "execution_count": 1,
   "metadata": {
    "collapsed": false
   },
   "outputs": [],
   "source": [
    "import numpy as np\n",
    "\n",
    "# Configurable test settings\n",
    "channel_count = 3  # Simulate sampling from multiple channels.\n",
    "sample_count = 8  # Number of samples (each sample -> one value per channel).\n",
    "\n",
    "N = channel_count * sample_count\n",
    "src_data = np.arange(1, N + 1, dtype='uint8')"
   ]
  },
  {
   "cell_type": "markdown",
   "metadata": {},
   "source": [
    "## Simulate concatenate behaviour on *host* (i.e., using `numpy`)"
   ]
  },
  {
   "cell_type": "code",
   "execution_count": 2,
   "metadata": {
    "collapsed": false
   },
   "outputs": [
    {
     "name": "stdout",
     "output_type": "stream",
     "text": [
      "SOURCE0: [1 2 3]\n",
      "SOURCE1: [4 5 6]\n",
      "SOURCE2: [7 8 9]\n",
      "SOURCE3: [10 11 12]\n",
      "SOURCE4: [13 14 15]\n",
      "SOURCE5: [16 17 18]\n",
      "SOURCE6: [19 20 21]\n",
      "SOURCE7: [22 23 24]\n",
      "TARGET: [ 1  4  7 10 13 16 19 22  2  5  8 11 14 17 20 23  3  6  9 12 15 18 21 24]\n"
     ]
    }
   ],
   "source": [
    "src_chunks = [src_data[i * channel_count:(i + 1) * channel_count]\n",
    "              for i in xrange(sample_count)]\n",
    "\n",
    "dst_data = np.column_stack(src_chunks).ravel()\n",
    "\n",
    "for i, chunk in enumerate(src_chunks):\n",
    "    print 'SOURCE%d:' % i, chunk\n",
    "# Show interleaved result\n",
    "print 'TARGET:', dst_data"
   ]
  },
  {
   "cell_type": "markdown",
   "metadata": {},
   "source": [
    "--------------------------------------------------"
   ]
  },
  {
   "cell_type": "markdown",
   "metadata": {},
   "source": [
    "# Device"
   ]
  },
  {
   "cell_type": "markdown",
   "metadata": {},
   "source": [
    "### Connect to device"
   ]
  },
  {
   "cell_type": "code",
   "execution_count": 3,
   "metadata": {
    "collapsed": false
   },
   "outputs": [],
   "source": [
    "from teensy_minimal_rpc import SerialProxy\n",
    "import teensy_minimal_rpc.DMA as dma\n",
    "\n",
    "\n",
    "# Disconnect from existing proxy (if available)\n",
    "try:\n",
    "    del proxy\n",
    "except NameError:\n",
    "    pass\n",
    "\n",
    "proxy = SerialProxy()"
   ]
  },
  {
   "cell_type": "markdown",
   "metadata": {},
   "source": [
    "### Allocate arrays ###\n",
    "\n",
    " - Source array (input chunks)\n",
    " - Destination array (space for concatenated result)\n",
    " - Array of Transfer Control Descriptor (TCD) structures (one TCD per chunk)"
   ]
  },
  {
   "cell_type": "code",
   "execution_count": 4,
   "metadata": {
    "collapsed": false
   },
   "outputs": [
    {
     "name": "stdout",
     "output_type": "stream",
     "text": [
      "SOURCE0:   [1 2 3]\n",
      "SOURCE1:   [4 5 6]\n",
      "SOURCE2:   [7 8 9]\n",
      "SOURCE3:   [10 11 12]\n",
      "SOURCE4:   [13 14 15]\n",
      "SOURCE5:   [16 17 18]\n",
      "SOURCE6:   [19 20 21]\n",
      "SOURCE7:   [22 23 24]\n"
     ]
    }
   ],
   "source": [
    "proxy.free_all()\n",
    "\n",
    "# Allocate source array\n",
    "src_addr = proxy.mem_alloc(N)\n",
    "# Allocate destination array\n",
    "dst_addr = proxy.mem_alloc(N)\n",
    "src_addrs = [src_addr + i * channel_count for i in xrange(sample_count)]\n",
    "tcds_addr = proxy.mem_aligned_alloc(32, sample_count * 32)\n",
    "hw_tcds_addr = 0x40009000\n",
    "tcd_addrs = [tcds_addr + 32 * i for i in xrange(sample_count)]\n",
    "hw_tcd_addrs = [hw_tcds_addr + 32 * i for i in xrange(sample_count)]\n",
    "\n",
    "# Fill first 16 bytes of source array with the numbers 1-N\n",
    "proxy.mem_cpy_host_to_device(src_addr, src_data)\n",
    "\n",
    "for i in xrange(sample_count):\n",
    "    print 'SOURCE%d:  ' % i, proxy.mem_cpy_device_to_host(src_addrs[i], channel_count)"
   ]
  },
  {
   "cell_type": "markdown",
   "metadata": {},
   "source": [
    "### Create Transfer Control Descriptor (TCD) configurations"
   ]
  },
  {
   "cell_type": "code",
   "execution_count": 5,
   "metadata": {
    "collapsed": false
   },
   "outputs": [],
   "source": [
    "# Create Transfer Control Descriptor configuration for first chunk, encoded\n",
    "# as a Protocol Buffer message.\n",
    "tcd0_msg = dma.TCD(CITER_ELINKNO=dma.R_TCD_ITER_ELINKNO(ITER=1),\n",
    "                   BITER_ELINKNO=dma.R_TCD_ITER_ELINKNO(ITER=1),\n",
    "                   ATTR=dma.R_TCD_ATTR(SSIZE=dma.R_TCD_ATTR._8_BIT,\n",
    "                                       DSIZE=dma.R_TCD_ATTR._8_BIT),\n",
    "                   NBYTES_MLNO=channel_count,\n",
    "                   SADDR=int(src_addrs[0]),\n",
    "                   SOFF=1,\n",
    "                   SLAST=-channel_count,\n",
    "                   DADDR=int(dst_addr),\n",
    "                   DOFF=sample_count,\n",
    "                   DLASTSGA=int(tcd_addrs[1]),\n",
    "                   CSR=dma.R_TCD_CSR(START=0, DONE=False, ESG=True))\n",
    "\n",
    "# Convert Protocol Buffer encoded TCD to bytes structure.\n",
    "tcd0 = proxy.tcd_msg_to_struct(tcd0_msg)\n",
    "\n",
    "# Create binary TCD struct for each TCD protobuf message and copy to device\n",
    "# memory.\n",
    "for i, src_addr_i in enumerate(src_addrs):\n",
    "    tcd_i = tcd0.copy()\n",
    "    tcd_i['SADDR'] = src_addr_i\n",
    "    tcd_i['DADDR'] = dst_addr + i\n",
    "    tcd_i['DLASTSGA'] = tcd_addrs[(i + 1) % len(tcd_addrs)]\n",
    "    tcd_i['CSR'] |= (1 << 4)  # | 0x1  # Automatically start transfers 2-n\n",
    "    # __N.B.,__ Setting `START` bit causes destination bus error.\n",
    "#     if i > 0:\n",
    "#         tcd_i['CSR'] |= 0x1  # Automatically start transfers 2-n\n",
    "    proxy.mem_cpy_host_to_device(tcd_addrs[i], tcd_i.tostring())"
   ]
  },
  {
   "cell_type": "markdown",
   "metadata": {},
   "source": [
    "### Load first TCD in scatter chain and enable scatter/gather"
   ]
  },
  {
   "cell_type": "code",
   "execution_count": 6,
   "metadata": {
    "collapsed": false
   },
   "outputs": [
    {
     "name": "stdout",
     "output_type": "stream",
     "text": [
      "SOURCE0:   [1 2 3]\n",
      "SOURCE1:   [4 5 6]\n",
      "SOURCE2:   [7 8 9]\n",
      "SOURCE3:   [10 11 12]\n",
      "SOURCE4:   [13 14 15]\n",
      "SOURCE5:   [16 17 18]\n",
      "SOURCE6:   [19 20 21]\n",
      "SOURCE7:   [22 23 24]\n",
      "DEST:\n",
      "   Trigger 0: [1 0 0 0 0 0 0 0 2 0 0 0 0 0 0 0 3 0 0 0 0 0 0 0]\n",
      "   Trigger 1: [1 4 0 0 0 0 0 0 2 5 0 0 0 0 0 0 3 6 0 0 0 0 0 0]\n",
      "   Trigger 2: [1 4 7 0 0 0 0 0 2 5 8 0 0 0 0 0 3 6 9 0 0 0 0 0]\n",
      "   Trigger 3: [ 1  4  7 10  0  0  0  0  2  5  8 11  0  0  0  0  3  6  9 12  0  0  0  0]\n",
      "   Trigger 4: [ 1  4  7 10 13  0  0  0  2  5  8 11 14  0  0  0  3  6  9 12 15  0  0  0]\n",
      "   Trigger 5: [ 1  4  7 10 13 16  0  0  2  5  8 11 14 17  0  0  3  6  9 12 15 18  0  0]\n",
      "   Trigger 6: [ 1  4  7 10 13 16 19  0  2  5  8 11 14 17 20  0  3  6  9 12 15 18 21  0]\n",
      "   Trigger 7: [ 1  4  7 10 13 16 19 22  2  5  8 11 14 17 20 23  3  6  9 12 15 18 21 24]\n"
     ]
    }
   ],
   "source": [
    "# Fill the destination array with all zeros (to show transfer progress below).\n",
    "proxy.mem_fill_uint32(dst_addr, 0, N / 4)\n",
    "\n",
    "for i in xrange(sample_count):\n",
    "    print 'SOURCE%d:  ' % i, proxy.mem_cpy_device_to_host(src_addrs[i], channel_count)\n",
    "\n",
    "# Load initial TCD to DMA channel 0.\n",
    "proxy.mem_cpy_host_to_device(hw_tcd_addrs[0], tcd0.tostring())\n",
    "\n",
    "print 'DEST:'\n",
    "# Trigger once per chunk\n",
    "for i in xrange(sample_count):\n",
    "    proxy.update_dma_registers(dma.Registers(SSRT=0))\n",
    "    device_dst_data = proxy.mem_cpy_device_to_host(dst_addr, N)\n",
    "    print '   Trigger %d:' % i, device_dst_data\n",
    "    \n",
    "# Verify device result matches expected result computed on host.\n",
    "assert((device_dst_data == dst_data).all())"
   ]
  },
  {
   "cell_type": "code",
   "execution_count": null,
   "metadata": {
    "collapsed": true
   },
   "outputs": [],
   "source": [
    "\n",
    "\n",
    "\n",
    "\n",
    "\n",
    "\n",
    "\n",
    "\n",
    "\n",
    "\n",
    "\n",
    "\n",
    "\n",
    "\n",
    "\n",
    "\n",
    "\n",
    "\n",
    "\n",
    "\n",
    "\n",
    "\n",
    "\n",
    "\n",
    "\n",
    "\n",
    "\n",
    "\n",
    "\n",
    "\n"
   ]
  }
 ],
 "metadata": {
  "kernelspec": {
   "display_name": "Python 2",
   "language": "python",
   "name": "python2"
  },
  "language_info": {
   "codemirror_mode": {
    "name": "ipython",
    "version": 2
   },
   "file_extension": ".py",
   "mimetype": "text/x-python",
   "name": "python",
   "nbconvert_exporter": "python",
   "pygments_lexer": "ipython2",
   "version": "2.7.9"
  }
 },
 "nbformat": 4,
 "nbformat_minor": 0
}
