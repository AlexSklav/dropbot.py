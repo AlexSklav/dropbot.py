{
 "cells": [
  {
   "cell_type": "markdown",
   "metadata": {},
   "source": [
    "This example demonstrates how to scatter values from a source array to\n",
    "implement the equivalent of the `numpy.repeat` function.\n",
    "\n",
    "## TODO ##\n",
    "\n",
    "The method here uses one DMA channel per \"source\".  However, this should be\n",
    "able to be accomplished using the DMA scatter/gather functionality and use\n",
    "at most 2 DMA channels"
   ]
  },
  {
   "cell_type": "code",
   "execution_count": 1,
   "metadata": {
    "collapsed": false
   },
   "outputs": [
    {
     "name": "stdout",
     "output_type": "stream",
     "text": [
      "[1 2 3 4]\n",
      "[1 1 1 1 1 2 2 2 2 2 3 3 3 3 3 4 4 4 4 4]\n"
     ]
    }
   ],
   "source": [
    "import numpy as np\n",
    "\n",
    "num_sources = 4\n",
    "src_array = np.arange(1, num_sources + 1)\n",
    "samples_per_source = 5\n",
    "\n",
    "print src_array\n",
    "print np.repeat(src_array, samples_per_source)"
   ]
  },
  {
   "cell_type": "markdown",
   "metadata": {},
   "source": [
    "--------------------------------------------------"
   ]
  },
  {
   "cell_type": "markdown",
   "metadata": {},
   "source": [
    "### Connect to device"
   ]
  },
  {
   "cell_type": "code",
   "execution_count": 2,
   "metadata": {
    "collapsed": false
   },
   "outputs": [],
   "source": [
    "import numpy as np\n",
    "from teensy_minimal_rpc import SerialProxy\n",
    "import teensy_minimal_rpc.DMA as dma\n",
    "\n",
    "# Disconnect from existing proxy (if available)\n",
    "try:\n",
    "    del proxy\n",
    "except NameError:\n",
    "    pass\n",
    "\n",
    "proxy = SerialProxy()"
   ]
  },
  {
   "cell_type": "markdown",
   "metadata": {},
   "source": [
    "### Allocate two arrays: source and destination"
   ]
  },
  {
   "cell_type": "code",
   "execution_count": 3,
   "metadata": {
    "collapsed": false
   },
   "outputs": [
    {
     "name": "stdout",
     "output_type": "stream",
     "text": [
      "SOURCE:   [ 1  2  3  4  5  6  7  8  9 10 11 12 13 14 15 16]\n",
      "TARGET:   [0 0 0 0 0 0 0 0 0 0 0 0 0 0 0 0]\n"
     ]
    }
   ],
   "source": [
    "N = 512\n",
    "proxy.free_all()\n",
    "\n",
    "# Allocate source array\n",
    "src_addr = proxy.mem_alloc(N)\n",
    "# Allocate destination array\n",
    "dst_addr = proxy.mem_alloc(N)\n",
    "\n",
    "# Fill first 16 bytes of source array with the numbers 1-16\n",
    "proxy.mem_cpy_host_to_device(src_addr, np.arange(1, 17, dtype='uint8'))\n",
    "\n",
    "# Fill the destination array with all zeros\n",
    "proxy.mem_fill_uint32(dst_addr, 0, N / 4)\n",
    "\n",
    "print 'SOURCE:  ', proxy.mem_cpy_device_to_host(src_addr, 16)\n",
    "print 'TARGET:  ', proxy.mem_cpy_device_to_host(dst_addr, 16)"
   ]
  },
  {
   "cell_type": "markdown",
   "metadata": {},
   "source": [
    "### Create Transfer Control Descriptor (TCD) configurations"
   ]
  },
  {
   "cell_type": "code",
   "execution_count": 4,
   "metadata": {
    "collapsed": false
   },
   "outputs": [],
   "source": [
    "# Create Transfer Control Descriptor configuration to match the settings\n",
    "# shown in the example from the manual.\n",
    "num_sources = 4\n",
    "samples_per_source = 5\n",
    "\n",
    "tcds = [dma.TCD(CITER_ELINKNO=dma.R_TCD_ITER_ELINKNO(ITER=1),\n",
    "                BITER_ELINKNO=dma.R_TCD_ITER_ELINKNO(ITER=1),\n",
    "                ATTR=dma.R_TCD_ATTR(SSIZE=dma.R_TCD_ATTR._8_BIT,\n",
    "                                    DSIZE=dma.R_TCD_ATTR._8_BIT),\n",
    "                NBYTES_MLNO=num_sources,\n",
    "                SADDR=int(src_addr),\n",
    "                SOFF=1,\n",
    "                SLAST=-num_sources,\n",
    "                DADDR=int(dst_addr + i),\n",
    "                DOFF=samples_per_source,\n",
    "                DLASTSGA=-samples_per_source * num_sources,\n",
    "                CSR=dma.R_TCD_CSR(START=0, DONE=False,\n",
    "                                  MAJORELINK=(True\n",
    "                                              if i < samples_per_source - 1\n",
    "                                              else False),\n",
    "                                  MAJORLINKCH=i + 1))\n",
    "       for i in xrange(samples_per_source)]\n",
    "\n",
    "for i, tcd in enumerate(tcds):\n",
    "    proxy.update_dma_TCD(i, tcd)"
   ]
  },
  {
   "cell_type": "markdown",
   "metadata": {},
   "source": [
    "### Apply Transfer Control Descriptor configuration to start transfer"
   ]
  },
  {
   "cell_type": "code",
   "execution_count": 5,
   "metadata": {
    "collapsed": false
   },
   "outputs": [
    {
     "name": "stdout",
     "output_type": "stream",
     "text": [
      "SOURCE:   [ 1  2  3  4  5  6  7  8  9 10 11 12 13 14 15 16]\n",
      "TARGET:\n",
      "  Before: [0 0 0 0 0 0 0 0 0 0 0 0 0 0 0 0]\n",
      "   After: [1 1 1 1 1 2 2 2 2 2 3 3 3 3 3 4 4 4 4 4]\n"
     ]
    }
   ],
   "source": [
    "print 'SOURCE:  ', proxy.mem_cpy_device_to_host(src_addr, 16)\n",
    "\n",
    "# Fill the destination array with all zeros\n",
    "proxy.mem_fill_uint32(dst_addr, 0, N / 4)\n",
    "print 'TARGET:'\n",
    "print '  Before:', proxy.mem_cpy_device_to_host(dst_addr, 16)\n",
    "\n",
    "# Apply TCD configuration to DMA channel 0 to conduct transfer.\n",
    "proxy.update_dma_registers(dma.Registers(SSRT=0))\n",
    "\n",
    "print '   After:', proxy.mem_cpy_device_to_host(dst_addr, num_sources * samples_per_source)\n",
    "\n",
    "# Confirm that output array matches expected values.\n",
    "assert((proxy.mem_cpy_device_to_host(dst_addr, num_sources * samples_per_source)\n",
    "        == np.repeat(src_array, samples_per_source)).all())"
   ]
  }
 ],
 "metadata": {
  "kernelspec": {
   "display_name": "Python 2",
   "language": "python",
   "name": "python2"
  },
  "language_info": {
   "codemirror_mode": {
    "name": "ipython",
    "version": 2
   },
   "file_extension": ".py",
   "mimetype": "text/x-python",
   "name": "python",
   "nbconvert_exporter": "python",
   "pygments_lexer": "ipython2",
   "version": "2.7.9"
  }
 },
 "nbformat": 4,
 "nbformat_minor": 0
}
