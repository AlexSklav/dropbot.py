{
 "cells": [
  {
   "cell_type": "code",
   "execution_count": 1,
   "metadata": {},
   "outputs": [
    {
     "name": "stdout",
     "output_type": "stream",
     "text": [
      "Overwriting ../pogo-pin-config.proto\n"
     ]
    }
   ],
   "source": [
    "%%writefile ../pogo-pin-config.proto\n",
    "syntax=\"proto2\";\n",
    "package pogo_pin_board;\n",
    "\n",
    "message PogoPinBoard {\n",
    "  /* # Identity structure #\n",
    "   *\n",
    "   * This structure contains fields are stored in\n",
    "   * persistent memory (i.e., EEPROM) on each pogo pin board.\n",
    "   */\n",
    "  optional bytes uuid = 1;\n",
    "  optional string version = 2;\n",
    "  optional string name = 3;\n",
    "}\n"
   ]
  },
  {
   "cell_type": "code",
   "execution_count": 2,
   "metadata": {},
   "outputs": [],
   "source": [
    "import nanopb_helpers as pbh\n",
    "import path_helpers as ph\n",
    "\n",
    "code = pbh.compile_pb(ph.path('pogo-pin-config.proto').realpath())\n",
    "\n",
    "with ph.path('../pogo_pin.py').open('wb') as output:\n",
    "    output.write(code['python'])"
   ]
  },
  {
   "cell_type": "code",
   "execution_count": 3,
   "metadata": {},
   "outputs": [
    {
     "name": "stdout",
     "output_type": "stream",
     "text": [
      "c6873241-9c99-45d4-a334-dd491953624d\n"
     ]
    }
   ],
   "source": [
    "import pogo_pin\n",
    "import uuid\n",
    "\n",
    "reload(pogo_pin)\n",
    "\n",
    "\n",
    "uuid_ = uuid.uuid4()\n",
    "print uuid_\n",
    "\n",
    "board = pogo_pin.PogoPinBoard(uuid=uuid_.bytes,\n",
    "                              name='120-channel-pogo-pin-board',\n",
    "                              version='3.3')"
   ]
  }
 ],
 "metadata": {
  "kernelspec": {
   "display_name": "Python 2",
   "language": "python",
   "name": "python2"
  },
  "language_info": {
   "codemirror_mode": {
    "name": "ipython",
    "version": 2
   },
   "file_extension": ".py",
   "mimetype": "text/x-python",
   "name": "python",
   "nbconvert_exporter": "python",
   "pygments_lexer": "ipython2",
   "version": "2.7.12"
  }
 },
 "nbformat": 4,
 "nbformat_minor": 2
}
