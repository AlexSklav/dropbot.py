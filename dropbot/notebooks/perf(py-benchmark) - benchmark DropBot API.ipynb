{
 "cells": [
  {
   "cell_type": "code",
   "execution_count": 1,
   "metadata": {
    "ExecuteTime": {
     "end_time": "2018-04-13T17:56:50.052000Z",
     "start_time": "2018-04-13T17:56:46.011000Z"
    }
   },
   "outputs": [],
   "source": [
    "from __future__ import (absolute_import, print_function, unicode_literals,\n",
    "                        division)\n",
    "\n",
    "import logging\n",
    "logging.basicConfig(level=logging.DEBUG)\n",
    "\n",
    "import joblib\n",
    "import dropbot as db\n",
    "import dropbot.chip\n",
    "import matplotlib as mpl\n",
    "import matplotlib.cm as cm\n",
    "import matplotlib.ticker\n",
    "import numpy as np\n",
    "import pandas as pd\n",
    "import si_prefix as si\n",
    "\n",
    "# %matplotlib inline\n",
    "\n",
    "F_formatter = mpl.ticker.FuncFormatter(lambda x, *args: si.si_format(x) + 'F')\n",
    "\n",
    "# Load Sci-Bots device file and extract neighbouring channels info.\n",
    "svg_path = dropbot.DATA_DIR.joinpath('SCI-BOTS 90-pin array', 'device.svg')\n",
    "\n",
    "# Used cached neighbours result (if available).  Otherwise, cache neighbours.\n",
    "memcache = joblib.memory.Memory('.')\n",
    "get_channel_neighbours = memcache.cache(db.chip.get_channel_neighbours)\n",
    "neighbours = get_channel_neighbours(svg_path)"
   ]
  },
  {
   "cell_type": "markdown",
   "metadata": {},
   "source": [
    "# Open DropBot connection"
   ]
  },
  {
   "cell_type": "code",
   "execution_count": 2,
   "metadata": {
    "ExecuteTime": {
     "end_time": "2018-04-13T17:56:50.971000Z",
     "start_time": "2018-04-13T17:56:50.057000Z"
    }
   },
   "outputs": [
    {
     "name": "stderr",
     "output_type": "stream",
     "text": [
      "DEBUG:trollius:Using selector: SelectSelector\n",
      "DEBUG:base_node_rpc.async:`ProactorEventLoop` required, not `<class 'trollius.windows_events._WindowsSelectorEventLoop'>`loop in background thread.\n",
      "DEBUG:base_node_rpc.async:Execute new loop in background thread.\n",
      "DEBUG:trollius:Using proactor: IocpProactor\n",
      "DEBUG:base_node_rpc.async:`ProactorEventLoop` required, not `<class 'trollius.windows_events._WindowsSelectorEventLoop'>`loop in background thread.\n",
      "DEBUG:base_node_rpc.async:Execute new loop in background thread.\n",
      "DEBUG:trollius:Using proactor: IocpProactor\n",
      "DEBUG:base_node_rpc.proxy:Attempt to connect to device on port COM15 (baudrate=115200)\n",
      "DEBUG:serial_device.threaded:Open `COM15` and monitor connection status\n",
      "DEBUG:serial_device.threaded:connection_made: `COM15` `<ReaderThread(Thread-13, started daemon 8588)>`\n",
      "DEBUG:base_node_rpc.proxy:Wait for connection to port COM15\n",
      "INFO:base_node_rpc.proxy:Successfully connected to dropbot on port COM15\n"
     ]
    }
   ],
   "source": [
    "import base_node_rpc as bnr\n",
    "import base_node_rpc.proxy\n",
    "\n",
    "try:\n",
    "    proxy.terminate()\n",
    "except:\n",
    "    pass\n",
    "proxy = db.SerialProxy(ignore=[bnr.proxy.DeviceVersionMismatch])\n",
    "proxy.neighbours = neighbours\n",
    "\n",
    "proxy.enable_events()\n",
    "\n",
    "proxy.update_state(hv_output_enabled=True, hv_output_selected=True,\n",
    "                   voltage=100, frequency=10e3)\n",
    "\n",
    "# Disable channels in contact with copper tape.\n",
    "disabled_channels_mask_i = proxy.disabled_channels_mask\n",
    "disabled_channels_mask_i[[89, 30]] = 1\n",
    "proxy.disabled_channels_mask = disabled_channels_mask_i"
   ]
  },
  {
   "cell_type": "markdown",
   "metadata": {},
   "source": [
    "# Serial communication overhead\n",
    "\n",
    "The `ram_free` method is nearly instant, so can be used to measure\n",
    "communication overhead."
   ]
  },
  {
   "cell_type": "code",
   "execution_count": 3,
   "metadata": {
    "ExecuteTime": {
     "end_time": "2018-04-13T17:56:53.801000Z",
     "start_time": "2018-04-13T17:56:50.974000Z"
    }
   },
   "outputs": [
    {
     "name": "stdout",
     "output_type": "stream",
     "text": [
      "100 loops, best of 3: 6.78 ms per loop\n"
     ]
    }
   ],
   "source": [
    "%timeit proxy.ram_free()"
   ]
  },
  {
   "cell_type": "markdown",
   "metadata": {},
   "source": [
    "# `channel_capacitances`\n",
    "\n",
    "The `channel_capacitances` method performs:\n",
    "\n",
    " 1. For each specified **channel**:\n",
    "   1. **Set channel as only enabled bit** in `state_of_channels_`.\n",
    "   2. **Update channels** by pushing new state to switching boards **(~5.5 ms)**\n",
    " 2. **Restore original state** by pushing original channel states to switching boards **(~5.5 ms)**\n",
    "\n",
    "The total time for each request is:\n",
    "\n",
    "$T_{TOTAL} = T_{SERIAL} + T_{RESTORE} + kT_{CHANNEL}$ \n",
    "\n",
    "where:\n",
    "\n",
    "$\n",
    "\\begin{array}{}\n",
    "T_{SERIAL} &\\approx 7~ms \\\\\n",
    "T_{RESTORE} &\\approx 5.5~ms \\\\\n",
    "T_{CHANNEL} &\\approx T_{RESTORE}\n",
    "\\end{array}\n",
    "$\n",
    "\n",
    "Note that $T_{CHANNEL}$ and $T_{RESTORE}$ are both dominated by the I2C communication time to the switching boards.\n",
    "\n",
    "## Proposed performance improvements\n",
    "\n",
    " 1. Reduce $T_{CHANNEL}$ and $T_{RESTORE}$ by **_only pushing updates to boards where channel states have changed_**."
   ]
  },
  {
   "cell_type": "code",
   "execution_count": 4,
   "metadata": {
    "ExecuteTime": {
     "end_time": "2018-04-13T17:57:11.851000Z",
     "start_time": "2018-04-13T17:56:53.808000Z"
    }
   },
   "outputs": [
    {
     "name": "stdout",
     "output_type": "stream",
     "text": [
      "additional time per channel: 5.5 ms                                                                 \n"
     ]
    },
    {
     "data": {
      "image/png": "[encoded data removed]",
      "text/plain": [
       "<matplotlib.figure.Figure at 0xbec1b50>"
      ]
     },
     "metadata": {},
     "output_type": "display_data"
    }
   ],
   "source": [
    "results = {}\n",
    "\n",
    "for i in range(10):\n",
    "    print('\\rTesting {} channels...'.format(i + 1), end='')\n",
    "    result_i = %timeit -q -o proxy.channel_capacitances(range(i + 1))\n",
    "    results[i] = result_i\n",
    "print('\\r' + 100 * ' ' + '\\r', end='')\n",
    "s_results = pd.Series({k: r.best for k, r in results.items()})\n",
    "s_results.plot(style='x')\n",
    "print('additional time per channel: {}s'\n",
    "      .format(si.si_format(s_results.diff().mean())))"
   ]
  },
  {
   "cell_type": "markdown",
   "metadata": {},
   "source": [
    "# `channels::_update_channels`\n",
    "\n",
    "The `channels::_update_channels` function can be benchmarked using the\n",
    "`channels::_benchmark_channel_update` function through the`Node::_benchmark_channel_update` proxy API."
   ]
  },
  {
   "cell_type": "code",
   "execution_count": 9,
   "metadata": {
    "ExecuteTime": {
     "end_time": "2018-04-13T17:58:03.983000Z",
     "start_time": "2018-04-13T17:57:59.044000Z"
    }
   },
   "outputs": [
    {
     "name": "stdout",
     "output_type": "stream",
     "text": [
      "time per analog read: 4.9 ms\n"
     ]
    }
   ],
   "source": [
    "s_per_update = proxy._benchmark_channel_update(1000)\n",
    "print('time per analog read: {}s'.format(si.si_format(s_per_update)))"
   ]
  },
  {
   "cell_type": "markdown",
   "metadata": {},
   "source": [
    "Each execution of `_update_channels` takes **~5 ms**."
   ]
  },
  {
   "cell_type": "markdown",
   "metadata": {},
   "source": [
    "# `Node::benchmark_analog_read`"
   ]
  },
  {
   "cell_type": "code",
   "execution_count": 6,
   "metadata": {
    "ExecuteTime": {
     "end_time": "2018-04-13T17:57:16.849000Z",
     "start_time": "2018-04-13T17:57:16.807000Z"
    }
   },
   "outputs": [
    {
     "name": "stdout",
     "output_type": "stream",
     "text": [
      "time per analog read: 16.7 µs\n"
     ]
    }
   ],
   "source": [
    "N = 1e3\n",
    "duration = proxy.benchmark_analog_read(11, 1e3)\n",
    "print('time per analog read: {}s'.format(si.si_format(duration / N)))"
   ]
  },
  {
   "cell_type": "markdown",
   "metadata": {},
   "source": [
    "# `Node::benchmmark_u16_percentile_diff`"
   ]
  },
  {
   "cell_type": "code",
   "execution_count": 7,
   "metadata": {
    "ExecuteTime": {
     "end_time": "2018-04-13T17:57:17.822000Z",
     "start_time": "2018-04-13T17:57:16.855000Z"
    }
   },
   "outputs": [
    {
     "name": "stdout",
     "output_type": "stream",
     "text": [
      "time per analog read: 19.0 µs\n"
     ]
    }
   ],
   "source": [
    "N = 1e3\n",
    "n_samples = 50\n",
    "\n",
    "duration = proxy.benchmmark_u16_percentile_diff(11, n_samples, 25, 75, N)\n",
    "print('time per analog read: {}s'.format(si.si_format(duration / N\n",
    "                                                      / n_samples)))"
   ]
  },
  {
   "cell_type": "code",
   "execution_count": 10,
   "metadata": {
    "ExecuteTime": {
     "end_time": "2018-04-13T17:59:07.600000Z",
     "start_time": "2018-04-13T17:58:59.910000Z"
    }
   },
   "outputs": [
    {
     "data": {
      "text/plain": [
       "Text(0,0.5,u'measured capacitance')"
      ]
     },
     "execution_count": 10,
     "metadata": {},
     "output_type": "execute_result"
    },
    {
     "data": {
      "image/png": "[encoded data removed]",
      "text/plain": [
       "<matplotlib.figure.Figure at 0xc1fd630>"
      ]
     },
     "metadata": {},
     "output_type": "display_data"
    }
   ],
   "source": [
    "capacitances = pd.DataFrame()\n",
    "original_n_samples = proxy.config.capacitance_n_samples\n",
    "\n",
    "for capacitance_n_samples in range(25, 71, 5):\n",
    "    proxy.update_config(capacitance_n_samples=capacitance_n_samples)\n",
    "    capacitances_i = pd.Series(proxy.all_channel_capacitances(),\n",
    "                               name='{}'.format(capacitance_n_samples)).sort_values().reset_index(drop=True)\n",
    "    capacitances[capacitance_n_samples] = capacitances_i\n",
    "proxy.update_config(capacitance_n_samples=original_n_samples)\n",
    "\n",
    "axis = capacitances.boxplot()\n",
    "axis.yaxis.set_major_formatter(F_formatter)\n",
    "axis.set_ylim(10e-12, 15.5e-12)\n",
    "axis.set_xlabel('# of samples')\n",
    "axis.set_ylabel('measured capacitance')"
   ]
  }
 ],
 "metadata": {
  "kernelspec": {
   "display_name": "Python 2",
   "language": "python",
   "name": "python2"
  },
  "language_info": {
   "codemirror_mode": {
    "name": "ipython",
    "version": 2
   },
   "file_extension": ".py",
   "mimetype": "text/x-python",
   "name": "python",
   "nbconvert_exporter": "python",
   "pygments_lexer": "ipython2",
   "version": "2.7.14"
  },
  "toc": {
   "base_numbering": 1,
   "nav_menu": {},
   "number_sections": true,
   "sideBar": false,
   "skip_h1_title": false,
   "title_cell": "Table of Contents",
   "title_sidebar": "Contents",
   "toc_cell": false,
   "toc_position": {
    "height": "137px",
    "left": "1097.97px",
    "top": "142.597px",
    "width": "288px"
   },
   "toc_section_display": true,
   "toc_window_display": true
  }
 },
 "nbformat": 4,
 "nbformat_minor": 2
}
