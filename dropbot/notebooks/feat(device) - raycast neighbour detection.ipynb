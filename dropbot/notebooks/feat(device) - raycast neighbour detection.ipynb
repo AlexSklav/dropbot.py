{
 "cells": [
  {
   "cell_type": "code",
   "execution_count": 1,
   "metadata": {
    "ExecuteTime": {
     "end_time": "2018-04-03T18:37:40.959000Z",
     "start_time": "2018-04-03T18:37:39.373000Z"
    }
   },
   "outputs": [],
   "source": [
    "from __future__ import absolute_import, unicode_literals, print_function\n",
    "import itertools as it\n",
    "import logging\n",
    "import warnings\n",
    "\n",
    "import matplotlib as mpl\n",
    "import matplotlib.collections\n",
    "import matplotlib.patches\n",
    "import matplotlib.pyplot as plt\n",
    "import numpy as np\n",
    "import pandas as pd\n",
    "import path_helpers as ph\n",
    "import pint\n",
    "import svg_model\n",
    "\n",
    "# Prevent `RuntimeWarning` messages from printing due to `np.nan` values in\n",
    "# `get_intersections()` comparisons.\n",
    "# warnings.filterwarnings(\"ignore\", category=RuntimeWarning)\n",
    "\n",
    "ureg = pint.UnitRegistry()\n",
    "\n",
    "%matplotlib notebook"
   ]
  },
  {
   "cell_type": "code",
   "execution_count": 2,
   "metadata": {
    "ExecuteTime": {
     "end_time": "2018-04-03T18:37:41.123000Z",
     "start_time": "2018-04-03T18:37:40.965000Z"
    }
   },
   "outputs": [],
   "source": [
    "def get_segments(df_shapes, distance_threshold=0.1 * ureg.mm):\n",
    "    distance_threshold_px = (distance_threshold * 96 *\n",
    "                             ureg.pixels_per_inch).to('pixels')\n",
    "    df_segments = (df_shapes.groupby('id').apply(lambda x: x.iloc[:-1])\n",
    "                   .reset_index(drop=True)\n",
    "                   .join(df_shapes.groupby('id').apply(lambda x: x.iloc[1:])\n",
    "                         .reset_index(drop=True),\n",
    "                         rsuffix='2'))[['id', 'vertex_i', 'vertex_i2',\n",
    "                                        'x', 'y', 'x2', 'y2']]\n",
    "    v = (df_segments[['x2', 'y2']].values - df_segments[['x', 'y']]).values\n",
    "    mid = .5 * v + df_segments[['x', 'y']].values\n",
    "    x_mid = mid[:, 0]\n",
    "    y_mid = mid[:, 1]\n",
    "    length = np.sqrt((v ** 2).sum(axis=1))\n",
    "    v_scaled = distance_threshold_px.magnitude * v / length[:, None]\n",
    "    x_normal = -v_scaled[:, 1]\n",
    "    y_normal = v_scaled[:, 0]\n",
    "\n",
    "    # Create new data frame from scratch and join it to the `df_segments`\n",
    "    # frame since it is **much** faster than adding new columns directly\n",
    "    # the existing `df_segments` frame.\n",
    "    df_normal = pd.DataFrame(np.column_stack([x_mid, y_mid, length, x_normal,\n",
    "                                              y_normal]),\n",
    "                             columns=['x_mid', 'y_mid', 'length', 'x_normal',\n",
    "                                      'y_normal'])\n",
    "    return df_segments.join(df_normal).set_index(['id', 'vertex_i'])\n",
    "\n",
    "\n",
    "def get_intersections(df_segments, p, r):\n",
    "    # See: https://stackoverflow.com/a/565282/345236\n",
    "    q = df_segments[['x', 'y']].values\n",
    "    s = df_segments[['x2', 'y2']].values - q\n",
    "\n",
    "    r_x_s = np.cross(r, s)\n",
    "    r_x_s[r_x_s == 0] = np.NaN\n",
    "    t = np.cross((q - p), s) / r_x_s\n",
    "    u = np.cross((q - p), r) / r_x_s\n",
    "\n",
    "    df_tu = pd.DataFrame(np.column_stack(\n",
    "        [t, u]), columns=list('tu'), index=df_segments.index)\n",
    "    with warnings.catch_warnings():\n",
    "        warnings.filterwarnings(\"ignore\", category=RuntimeWarning)\n",
    "        df_i = df_segments.join(df_tu).loc[(r_x_s != 0)\n",
    "                                           & (t >= 0) & (t <= 1) & (u >= 0)\n",
    "                                           & (u <= 1)]\n",
    "    intersect_points = p + df_i.t.values[:, None] * r\n",
    "    return df_i.join(pd.DataFrame(intersect_points, columns=['x_intersect',\n",
    "                                                             'y_intersect'],\n",
    "                                  index=df_i.index)).drop(['t', 'u'], axis=1)\n",
    "\n",
    "\n",
    "def get_all_intersections(df_shapes, distance_threshold=0.1 * ureg.mm):\n",
    "    df_segments = get_segments(\n",
    "        df_shapes, distance_threshold=distance_threshold)\n",
    "\n",
    "    intersections = []\n",
    "    for i, ((id_i, vertex_i), segment_i) in enumerate(df_segments.iterrows()):\n",
    "        p = segment_i[['x_mid', 'y_mid']].values\n",
    "        r = segment_i[['x_normal', 'y_normal']].values\n",
    "\n",
    "        df_intersections_i = get_intersections(df_segments, p, r)\n",
    "        \n",
    "        # Do not include self electrode in consideration for neighbours.\n",
    "        self_mask = df_intersections_i.index.get_level_values('id') == id_i\n",
    "        df_intersections_i = df_intersections_i.loc[~self_mask]\n",
    "        if df_intersections_i.shape[0]:\n",
    "            intersections.append(((id_i, vertex_i), df_intersections_i))\n",
    "    index, values = zip(*intersections)\n",
    "    df_result = pd.concat(values, keys=index)\n",
    "    df_result.index.names = ['id', 'vertex_i',\n",
    "                             'id_neighbour', 'vertex_i_neighbour']\n",
    "    return df_result"
   ]
  },
  {
   "cell_type": "code",
   "execution_count": 3,
   "metadata": {
    "ExecuteTime": {
     "end_time": "2018-04-03T18:37:41.209000Z",
     "start_time": "2018-04-03T18:37:41.131000Z"
    }
   },
   "outputs": [],
   "source": [
    "def draw(svg_source, ax=None):\n",
    "    '''\n",
    "    Draw the specified device, along with rays casted normal to the electrode\n",
    "    line segments that intersect with a line segment of a neighbouring\n",
    "    electrode.\n",
    "    \n",
    "    \n",
    "    Parameters\n",
    "    ----------\n",
    "    svg_source : str or file-like or pandas.DataFrame\n",
    "        File path, URI, or file-like object for SVG device file.\n",
    "        \n",
    "        If specified as ``pandas.DataFrame``, assume argument is in format\n",
    "        returned by :func:`svg_model.svg_shapes_to_df`.\n",
    "    \n",
    "    Returns\n",
    "    -------\n",
    "    (axis, df_intersections)\n",
    "    \n",
    "    axis : matplotlib.axes._subplots.AxesSubplot\n",
    "        Axis to which the device was drawn\n",
    "    df_intersections : pandas.DataFrame\n",
    "        Indexed by `id, vertex_i, id_neighbour, vertex_i_neighbour`, where\n",
    "        `id` is the corresponding electrode identifier (e.g., `electrode000`),\n",
    "        `vertex_i` is the starting vertex of the line segment, `id_neighbour`\n",
    "        is the identifier of the neighbouring electrode, and `vertex_i` is the\n",
    "        starting vertex of the line segment of the neighbouring electrode.\n",
    "    '''\n",
    "    if not isinstance(svg_source, pd.DataFrame):\n",
    "        df_shapes = svg_model.svg_shapes_to_df(svg_source)\n",
    "    else:\n",
    "        df_shapes = svg_source\n",
    "    electrode_channels = (df_shapes.drop_duplicates(['id', 'data-channels'])\n",
    "                          .set_index('id')['data-channels'].map(int))\n",
    "    channel_electrodes = pd.Series(electrode_channels.index,\n",
    "                                   index=electrode_channels.values)\n",
    "\n",
    "    # Compute center `(x, y)` for each electrode.\n",
    "    electrode_centers = df_shapes.groupby('id')[['x', 'y']].mean()\n",
    "    # Index by **channel number** instead of **electrode id**.\n",
    "    electrode_centers.index = electrode_channels.reindex(electrode_centers\n",
    "                                                         .index)\n",
    "\n",
    "    patches = [mpl.patches.Polygon(df_shape_i[['x', 'y']].values,\n",
    "                                   closed=False, label=id_)\n",
    "               for id_, df_shape_i in df_shapes.groupby('id')]\n",
    "\n",
    "    if ax is None:\n",
    "        fig, ax = plt.subplots(1, 1, figsize=(10, 10))\n",
    "    ax.set_aspect(True)\n",
    "\n",
    "    state_of_channels = np.zeros(120, dtype='uint8')\n",
    "\n",
    "    for patch_i in patches:\n",
    "        patch_i.set_facecolor('blue')\n",
    "        patch_i.set_edgecolor('black')\n",
    "        ax.add_patch(patch_i)\n",
    "\n",
    "    ax.set_xlim(df_shapes.x.min(), df_shapes.x.max())\n",
    "    ax.set_ylim(df_shapes.y.max(), df_shapes.y.min())\n",
    "\n",
    "    distance_threshold = .08 * ureg.mm\n",
    "    distance_threshold_px = (distance_threshold * 96 *\n",
    "                             ureg.pixels_per_inch).to('pixels')\n",
    "\n",
    "    df_segments = get_segments(df_shapes,\n",
    "                               distance_threshold=distance_threshold)\n",
    "    df_intersections = get_all_intersections(df_shapes)\n",
    "\n",
    "    for idx_i, segment_i in (df_intersections.reset_index([2, 3])\n",
    "                             .join(df_segments, lsuffix='_neighbour')\n",
    "                             .iterrows()):\n",
    "        p = segment_i[['x_mid', 'y_mid']].values\n",
    "        r = segment_i[['x_normal', 'y_normal']].values\n",
    "        ax.plot(*zip(p, p + r))\n",
    "\n",
    "    for channel_i, center_i in electrode_centers.iterrows():\n",
    "        ax.text(center_i.x, center_i.y, str(channel_i),\n",
    "                horizontalalignment='center', verticalalignment='center',\n",
    "                color='white', fontsize=9, bbox={'facecolor': 'white',\n",
    "                                                  'alpha':0.2, 'pad':5})\n",
    "        \n",
    "    return ax, df_intersections"
   ]
  },
  {
   "cell_type": "markdown",
   "metadata": {},
   "source": [
    "# Load data frame containing vertices from example SVG file."
   ]
  },
  {
   "cell_type": "code",
   "execution_count": 4,
   "metadata": {
    "ExecuteTime": {
     "end_time": "2018-04-03T18:37:41.235000Z",
     "start_time": "2018-04-03T18:37:41.216000Z"
    }
   },
   "outputs": [],
   "source": [
    "# Load data frame containing vertices from example SVG file.\n",
    "svg_path = ph.path('SCI-BOTS 90-pin array').joinpath('device.svg')\n",
    "df_shapes = svg_model.svg_shapes_to_df(svg_path)"
   ]
  },
  {
   "cell_type": "markdown",
   "metadata": {},
   "source": [
    "# Cast ray from each line segment of each electrode to find neighbour"
   ]
  },
  {
   "cell_type": "code",
   "execution_count": 5,
   "metadata": {
    "ExecuteTime": {
     "end_time": "2018-04-03T18:37:46.429000Z",
     "start_time": "2018-04-03T18:37:41.241000Z"
    }
   },
   "outputs": [],
   "source": [
    "# Cast ray from each line segment of each electrode to find neighbour within\n",
    "# threshold distance (default=0.1 mm).\n",
    "df_intersections = get_all_intersections(df_shapes)"
   ]
  },
  {
   "cell_type": "markdown",
   "metadata": {},
   "source": [
    "# Draw detected neighbours."
   ]
  },
  {
   "cell_type": "code",
   "execution_count": 6,
   "metadata": {
    "ExecuteTime": {
     "end_time": "2018-04-03T18:37:56.548000Z",
     "start_time": "2018-04-03T18:37:46.435000Z"
    },
    "scrolled": false
   },
   "outputs": [
    {
     "data": {
      "image/png": "[encoded data removed]",
      "text/plain": [
       "<matplotlib.figure.Figure at 0xad05610>"
      ]
     },
     "metadata": {},
     "output_type": "display_data"
    }
   ],
   "source": [
    "# Draw detected neighbours.\n",
    "draw(df_shapes); pass"
   ]
  },
  {
   "cell_type": "markdown",
   "metadata": {},
   "source": [
    "# Assign direction labels (i.e., `left`, `right`, `up`, `down`) to neighbours"
   ]
  },
  {
   "cell_type": "code",
   "execution_count": 7,
   "metadata": {
    "ExecuteTime": {
     "end_time": "2018-04-03T18:37:56.614000Z",
     "start_time": "2018-04-03T18:37:56.554000Z"
    }
   },
   "outputs": [],
   "source": [
    "def get_channel_neighbours(svg_source):\n",
    "    '''\n",
    "    Parameters\n",
    "    ----------\n",
    "    svg_source : str or file-like or pandas.DataFrame\n",
    "        File path, URI, or file-like object for SVG device file.\n",
    "        \n",
    "        If specified as ``pandas.DataFrame``, assume argument is in format\n",
    "        returned by :func:`svg_model.svg_shapes_to_df`.\n",
    "    \n",
    "    Returns\n",
    "    -------\n",
    "    pandas.Series\n",
    "        \n",
    "    '''\n",
    "    if not isinstance(svg_source, pd.DataFrame):\n",
    "        df_shapes = svg_model.svg_shapes_to_df(svg_source)\n",
    "    else:\n",
    "        df_shapes = svg_source\n",
    "    df_segments = get_segments(df_shapes)\n",
    "    df_intersections = get_all_intersections(df_shapes)\n",
    "    \n",
    "    df_neighbours = (df_intersections.reset_index([2, 3])\n",
    "                     .join(df_segments, lsuffix='_neighbour'))\n",
    "    df_neighbours.reset_index('id', inplace=True)\n",
    "    df_neighbours.drop_duplicates(['id', 'id_neighbour'], inplace=True)\n",
    "    df_neighbours.insert(0, 'direction', None)\n",
    "\n",
    "    # Assign direction labels\n",
    "    vertical = df_neighbours.x_normal.abs() < df_neighbours.y_normal.abs()\n",
    "    df_neighbours.loc[vertical & (df_neighbours.y_normal < 0),\n",
    "                      'direction'] = 'up'\n",
    "    df_neighbours.loc[vertical & (df_neighbours.y_normal > 0),\n",
    "                      'direction'] = 'down'\n",
    "    df_neighbours.loc[~vertical & (df_neighbours.x_normal < 0),\n",
    "                      'direction'] = 'left'\n",
    "    df_neighbours.loc[~vertical & (df_neighbours.x_normal > 0),\n",
    "                      'direction'] = 'right'\n",
    "    df_neighbours.insert(0, 'normal_magnitude',\n",
    "                           df_neighbours[['x_normal', 'y_normal']].abs()\n",
    "                           .max(axis=1))\n",
    "\n",
    "    df_neighbours.sort_values(['id', 'direction', 'normal_magnitude'],\n",
    "                                inplace=True, ascending=False)\n",
    "    # If multiple neighbours match a direction, only keep the first match.\n",
    "    df_neighbours.drop_duplicates(['id', 'direction'], inplace=True)\n",
    "\n",
    "    electrode_channels = (df_shapes.drop_duplicates(['id', 'data-channels'])\n",
    "                          .set_index('id')['data-channels'].map(int))\n",
    "    channel_electrodes = pd.Series(electrode_channels.index,\n",
    "                                   index=electrode_channels.values)\n",
    "    df_neighbours.insert(0, 'channel',\n",
    "                         electrode_channels.loc[df_neighbours['id']].values)\n",
    "    df_neighbours.insert(0, 'channel_neighbour',\n",
    "                         electrode_channels.loc[df_neighbours['id_neighbour']]\n",
    "                         .values)\n",
    "    df_neighbours.set_index(['channel', 'direction'], inplace=True)\n",
    "    df_neighbours.sort_index(inplace=True)\n",
    "\n",
    "    directions = ['up', 'down', 'left', 'right']\n",
    "    channel_neighbours = (df_neighbours['channel_neighbour']\n",
    "                          .loc[[i for c in range(120)\n",
    "                                for i in zip(it.cycle([c]), directions)]])\n",
    "    return channel_neighbours"
   ]
  },
  {
   "cell_type": "code",
   "execution_count": 8,
   "metadata": {
    "ExecuteTime": {
     "end_time": "2018-04-03T18:38:03.092000Z",
     "start_time": "2018-04-03T18:37:56.624000Z"
    }
   },
   "outputs": [],
   "source": [
    "channel_neighbours = get_channel_neighbours(df_shapes)"
   ]
  },
  {
   "cell_type": "markdown",
   "metadata": {},
   "source": [
    "## Export channel neighbours as `uint8` array\n",
    "\n",
    " - One row per channel\n",
    " - Each row contains channel numbers for the following neighbour directions:\n",
    "   `[ up, down, left, right ]`\n",
    " - If a channel has no neighbour in a direction, the corresponding neighbour\n",
    "   channel number is set to -1 (255 as a `uint8`)."
   ]
  },
  {
   "cell_type": "code",
   "execution_count": 9,
   "metadata": {
    "ExecuteTime": {
     "end_time": "2018-04-03T18:38:03.124000Z",
     "start_time": "2018-04-03T18:38:03.097000Z"
    }
   },
   "outputs": [
    {
     "data": {
      "text/plain": [
       "channel  direction\n",
       "0        up           255\n",
       "         down           1\n",
       "         left           2\n",
       "         right          5\n",
       "1        up             0\n",
       "         down         118\n",
       "         left           2\n",
       "         right          6\n",
       "2        up           255\n",
       "         down         255\n",
       "         left          30\n",
       "         right          1\n",
       "3        up           255\n",
       "         down         255\n",
       "         left         255\n",
       "         right        255\n",
       "Name: channel_neighbour, dtype: uint8"
      ]
     },
     "execution_count": 9,
     "metadata": {},
     "output_type": "execute_result"
    }
   ],
   "source": [
    "channel_neighbours.fillna(-1).astype('uint8').head(16)"
   ]
  }
 ],
 "metadata": {
  "kernelspec": {
   "display_name": "Python 2",
   "language": "python",
   "name": "python2"
  },
  "language_info": {
   "codemirror_mode": {
    "name": "ipython",
    "version": 2
   },
   "file_extension": ".py",
   "mimetype": "text/x-python",
   "name": "python",
   "nbconvert_exporter": "python",
   "pygments_lexer": "ipython2",
   "version": "2.7.14"
  },
  "notify_time": "10",
  "toc": {
   "base_numbering": 1,
   "nav_menu": {
    "height": "12px",
    "width": "252px"
   },
   "number_sections": true,
   "sideBar": false,
   "skip_h1_title": false,
   "title_cell": "Table of Contents",
   "title_sidebar": "Contents",
   "toc_cell": false,
   "toc_position": {
    "height": "47px",
    "left": "1231px",
    "top": "131.389px",
    "width": "159px"
   },
   "toc_section_display": false,
   "toc_window_display": true
  }
 },
 "nbformat": 4,
 "nbformat_minor": 2
}
