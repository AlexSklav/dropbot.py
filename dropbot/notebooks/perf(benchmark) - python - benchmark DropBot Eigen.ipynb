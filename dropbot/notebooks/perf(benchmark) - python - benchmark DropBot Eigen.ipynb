{
 "cells": [
  {
   "cell_type": "code",
   "execution_count": 1,
   "metadata": {
    "ExecuteTime": {
     "end_time": "2018-04-19T19:43:30.553000Z",
     "start_time": "2018-04-19T19:43:26.960000Z"
    }
   },
   "outputs": [],
   "source": [
    "from __future__ import (absolute_import, print_function, unicode_literals,\n",
    "                        division)\n",
    "\n",
    "import dropbot as db\n",
    "import si_prefix as si"
   ]
  },
  {
   "cell_type": "markdown",
   "metadata": {},
   "source": [
    "# Open DropBot connection"
   ]
  },
  {
   "cell_type": "code",
   "execution_count": null,
   "metadata": {
    "ExecuteTime": {
     "end_time": "2018-04-19T19:39:25.598000Z",
     "start_time": "2018-04-19T19:39:25.211000Z"
    }
   },
   "outputs": [],
   "source": [
    "import base_node_rpc as bnr\n",
    "import base_node_rpc.proxy\n",
    "\n",
    "try:\n",
    "    proxy.terminate()\n",
    "except:\n",
    "    pass\n",
    "proxy = db.SerialProxy(ignore=[bnr.proxy.DeviceVersionMismatch])\n",
    "\n",
    "proxy.enable_events()\n",
    "\n",
    "proxy.update_state(hv_output_enabled=True, hv_output_selected=True,\n",
    "                   voltage=100, frequency=10e3)\n",
    "\n",
    "# Disable channels in contact with copper tape.\n",
    "disabled_channels_mask_i = proxy.disabled_channels_mask\n",
    "disabled_channels_mask_i[[89, 30]] = 1\n",
    "proxy.disabled_channels_mask = disabled_channels_mask_i"
   ]
  },
  {
   "cell_type": "markdown",
   "metadata": {},
   "source": [
    "# Benchmark Eigen library for computing $Y = (S^T S)^{-1} S^T M$\n",
    "\n",
    "where:\n",
    "\n",
    " - $S$ is a $N \\times N$ switching matrix encoding the actuation state of\n",
    "   each channel during each measurement window in a measuring sequence,\n",
    "   such that each row of $S$ corresponds to a window within a measurement\n",
    "   period and each column corresponds to a _sensitive_ channel;\n",
    " - $Y$ is a $N \\times 1$ matrix encoding the electrical admittance of\n",
    "   each channel (where admittance is the inverse of the impedance) during\n",
    "   each measurement period;\n",
    " - $M$ is a $N \\times 1$ matrix M, containing a combined measurement for\n",
    "   each row in $S$, corresponding to the _actuated_ channels in the row.\n",
    "   Note that $SY = M$.\n",
    "\n",
    "Benchmarking steps:\n",
    "\n",
    " 1. Create a representative $N \\times N$ switching matrix, $S$.\n",
    " 2. Create a representative electrical admittance $N \\times 1$ matrix, $Y$.\n",
    " 3. Compute a mock capacitance measurement $N \\times 1$ matrix, $M$,\n",
    "    containing simulated a combined measurement for each row in $S$,\n",
    "    corresponding to the actuated channels in the row.\n",
    " 4. Compute transpose of $S$.\n",
    " 5. **Compute the inverse of $S_T S$** in 3 loops, repeating ``repeats``\n",
    "    times in each loop and recording the duration of each loop.\n",
    " 6. Return the minimum duration of a single inverse computation.\n"
   ]
  },
  {
   "cell_type": "markdown",
   "metadata": {},
   "source": [
    "## Maximum $S$ array size\n",
    "\n",
    "### Teensy 3.2 specifications (see [here](https://www.pjrc.com/teensy/teensy31.html#specs))\n",
    "\n",
    "| Feature | Value | units  |\n",
    "|---------|-------|--------|\n",
    "| RAM     |   64  | kbytes |\n",
    "\n",
    "As of `v1.48.1` (no Eigen matrices yet), available RAM is $\\approx 44~kbytes$.  For info on calculating heap size, see [here](https://forum.pjrc.com/threads/25676-Teensy-3-how-to-know-RAM-usage?p=46762&viewfull=1#post46762).\n",
    "\n",
    "Through empirical testing using `proxy._benchmark_eigen_inverse_float` and\n",
    "`proxy._benchmark_eigen_inverse_double`:\n",
    " - **maximum size of $S$ is**:\n",
    "   * **~50x50** when using `float` types for `Y` and `M`.\n",
    "   * **~40x40** when using `double` types for `Y` and `M`.\n",
    " - **$(S^T S)^{-1}$ computation time** is **$\\approx 5~µs$**\n",
    "\n",
    "**In practice, this means that the number of _sensitive_ channels may be limited to $\\le 50$.**"
   ]
  },
  {
   "cell_type": "code",
   "execution_count": null,
   "metadata": {
    "ExecuteTime": {
     "end_time": "2018-04-19T19:39:25.601000Z",
     "start_time": "2018-04-19T19:39:19.711Z"
    }
   },
   "outputs": [],
   "source": [
    "print('Inverse of $S_T S$ (float) took: {}s'\n",
    "      .format(si.si_format(proxy._benchmark_eigen_inverse_float(40, 100))))\n",
    "print('Inverse of $S_T S$ (double) took: {}s'\n",
    "      .format(si.si_format(proxy._benchmark_eigen_inverse_double(40, 100))))"
   ]
  },
  {
   "cell_type": "markdown",
   "metadata": {},
   "source": [
    "## Matrix shapes\n",
    "\n",
    "The following are the sizes of the matrices in the equation $Y = (S^T S)^{-1} S^T M$:\n",
    "\n",
    "$\n",
    "\\begin{array}{}\n",
    "S&: p \\times n \\\\\n",
    "S^T&: n \\times p \\\\\n",
    "Y&: n \\times 1 \\\\\n",
    "M&: n \\times 1 \\\\\n",
    "\\left(S^T S\\right)&: n \\times n \\\\\n",
    "\\left(S^T S\\right)^{-1}&: n \\times n \\\\\n",
    "\\left(S^T S\\right)^{-1} S^T&: n \\times p \\\\\n",
    "\\end{array}\n",
    "$"
   ]
  },
  {
   "cell_type": "code",
   "execution_count": 2,
   "metadata": {
    "ExecuteTime": {
     "end_time": "2018-04-19T19:43:34.945000Z",
     "start_time": "2018-04-19T19:43:34.840000Z"
    }
   },
   "outputs": [
    {
     "data": {
      "text/plain": [
       "array([[0., 1., 1., 1., 1., 1., 1., 1., 1., 1.],\n",
       "       [1., 0., 1., 1., 1., 1., 1., 1., 1., 1.],\n",
       "       [1., 1., 0., 1., 1., 1., 1., 1., 1., 1.],\n",
       "       [1., 1., 1., 0., 1., 1., 1., 1., 1., 1.],\n",
       "       [1., 1., 1., 1., 0., 1., 1., 1., 1., 1.],\n",
       "       [1., 1., 1., 1., 1., 0., 1., 1., 1., 1.],\n",
       "       [1., 1., 1., 1., 1., 1., 0., 1., 1., 1.],\n",
       "       [1., 1., 1., 1., 1., 1., 1., 0., 1., 1.],\n",
       "       [1., 1., 1., 1., 1., 1., 1., 1., 1., 1.],\n",
       "       [1., 1., 1., 1., 1., 1., 1., 1., 1., 1.],\n",
       "       [1., 1., 1., 1., 1., 1., 1., 1., 1., 1.],\n",
       "       [1., 1., 1., 1., 1., 1., 1., 1., 1., 1.],\n",
       "       [1., 1., 1., 1., 1., 1., 1., 1., 1., 1.],\n",
       "       [1., 1., 1., 1., 1., 1., 1., 1., 1., 1.],\n",
       "       [1., 1., 1., 1., 1., 1., 1., 1., 1., 1.],\n",
       "       [1., 1., 1., 1., 1., 1., 1., 1., 1., 1.],\n",
       "       [1., 1., 1., 1., 1., 1., 1., 1., 1., 1.],\n",
       "       [1., 1., 1., 1., 1., 1., 1., 1., 1., 1.],\n",
       "       [1., 1., 1., 1., 1., 1., 1., 1., 0., 1.],\n",
       "       [1., 1., 1., 1., 1., 1., 1., 1., 1., 0.]])"
      ]
     },
     "metadata": {},
     "output_type": "display_data"
    },
    {
     "name": "stdout",
     "output_type": "stream",
     "text": [
      "Y.shape = (u'N',)\n",
      "M.shape = (u'P',)\n",
      "S_T_S.shape = (u'N', u'N')\n",
      "S_TS_INV.shape = (u'N', u'N')\n",
      "S_TS_INV_S_T.shape = (u'N', u'P')\n"
     ]
    },
    {
     "data": {
      "text/plain": [
       "True"
      ]
     },
     "execution_count": 2,
     "metadata": {},
     "output_type": "execute_result"
    }
   ],
   "source": [
    "import numpy as np\n",
    "from IPython.display import display\n",
    "\n",
    "\n",
    "N = 10\n",
    "P = 2 * N\n",
    "\n",
    "\n",
    "def _NP(v):\n",
    "    if v == N:\n",
    "        return 'N'\n",
    "    elif v == P:\n",
    "        return 'P'\n",
    "    return v\n",
    "\n",
    "\n",
    "S = np.ones((P, N))\n",
    "\n",
    "np.fill_diagonal(S, 0)\n",
    "for i in range(1, 3):\n",
    "    S[N - i, -i] = 1\n",
    "    S[-i, -i] = 0\n",
    "np.random.seed(0)\n",
    "display(S)\n",
    "\n",
    "Y = np.random.rand(S.shape[1])\n",
    "print('Y.shape = {}'.format(tuple(map(_NP, Y.shape))))\n",
    "\n",
    "M = S.dot(Y)\n",
    "print('M.shape = {}'.format(tuple(map(_NP, M.shape))))\n",
    "\n",
    "S_T_S = S.T.dot(S)\n",
    "print('S_T_S.shape = {}'.format(tuple(map(_NP, S_T_S.shape))))\n",
    "S_TS_INV = np.linalg.inv(S_T_S)\n",
    "print('S_TS_INV.shape = {}'.format(tuple(map(_NP, S_TS_INV.shape))))\n",
    "Y_result = S_TS_INV.dot(S.T).dot(M)\n",
    "\n",
    "S_TS_INV_S_T = S_TS_INV.dot(S.T)\n",
    "print('S_TS_INV_S_T.shape = {}'.format(tuple(map(_NP, S_TS_INV_S_T.shape))))\n",
    "\n",
    "np.allclose(Y_result, Y)"
   ]
  },
  {
   "cell_type": "markdown",
   "metadata": {},
   "source": [
    "# Actuation levels for _sensitive_ channels\n",
    "\n",
    "For each _sensitive_ electrode, actuation duty cycle can be in the range\n",
    "$\\left[\\frac{1}{p}, \\frac{p - 1}{p}, \\right]$, where $p$ is the number of rows in the switching matrix, $n$ is the number of _sensitive_ channels, and $p \\ge n$.\n",
    "\n",
    "Increasing $p$ can:\n",
    "\n",
    " - Reduce the minimum actuation time for sensitive channels\n",
    " - Increase the actuation level resolution\n",
    "\n",
    "## _Sensitive_ channel $S$ column calculation\n",
    "\n",
    "Let $c_i$ denote the $i^{th}$ column in $S$.\n",
    "\n",
    "Let $d_i \\in [0, 1]$ denote the target duty cycle for the $i^{th}$ sensitive channel.\n",
    "\n",
    "Let $f(d, p) = \\max\\left(1, \\min\\left(dp, p-1\\right)\\right)$, and $a_i = f(d_i, p)$.\n",
    "\n",
    "$\n",
    "\\begin{equation*}\n",
    "c_{i,j} =\n",
    "\\begin{cases}\n",
    "  1 &\\text{if $i = j$ and $a_i \\lt i$,} \\\\\n",
    "  0 &\\text{if $i = j$ and $a_i \\ge i$,} \\\\\n",
    "  1 &\\text{if $i \\le a_i = 1$ and $j \\le a_i$,} \\\\\n",
    "  0 &\\text{if $j \\ge a_i - 1$,} \\\\\n",
    "  1 &\\text{otherwise}\n",
    "\\end{cases}\n",
    "\\end{equation*}\n",
    "$"
   ]
  },
  {
   "cell_type": "code",
   "execution_count": 3,
   "metadata": {
    "ExecuteTime": {
     "end_time": "2018-04-19T19:43:37.239000Z",
     "start_time": "2018-04-19T19:43:37.226000Z"
    }
   },
   "outputs": [],
   "source": [
    "def a(d, p):\n",
    "    return int(max(1, min(np.round(d * p), p - 1)))\n",
    "\n",
    "\n",
    "def c(i, d_i, P):\n",
    "    a_i = a(d_i, P)\n",
    "\n",
    "    def c_(j):\n",
    "        if i == j:\n",
    "            return 1 if a_i < i else 0\n",
    "        elif i <= a_i and j <= a_i:\n",
    "            return 1\n",
    "        elif j >= a_i - 1:\n",
    "            return 0\n",
    "        else:\n",
    "            return 1\n",
    "    return [c_(j) for j in range(P)]"
   ]
  },
  {
   "cell_type": "code",
   "execution_count": 4,
   "metadata": {
    "ExecuteTime": {
     "end_time": "2018-04-19T19:43:38.093000Z",
     "start_time": "2018-04-19T19:43:38.050000Z"
    }
   },
   "outputs": [
    {
     "name": "stdout",
     "output_type": "stream",
     "text": [
      "P = 20\n",
      "Y.shape = (u'N',)\n",
      "M.shape = (u'P',)\n",
      "S_T_S.shape = (u'N', u'N')\n",
      "S_TS_INV.shape = (u'N', u'N')\n",
      "S_TS_INV_S_T.shape = (u'N', u'P')\n"
     ]
    },
    {
     "data": {
      "text/plain": [
       "array([0.79172504, 0.52889492, 0.56804456, 0.92559664, 0.07103606,\n",
       "       0.0871293 , 0.0202184 , 0.83261985, 0.77815675, 0.87001215])"
      ]
     },
     "metadata": {},
     "output_type": "display_data"
    }
   ],
   "source": [
    "import pandas as pd\n",
    "\n",
    "\n",
    "print('P = {}'.format(P))\n",
    "\n",
    "\n",
    "def S_(channel_levels, p=None):\n",
    "    if p is None:\n",
    "        p = len(channel_levels)\n",
    "    return np.column_stack([c(i, d_i, p)\n",
    "                            for i, d_i in channel_levels.iteritems()])\n",
    "\n",
    "channel_levels = pd.Series(np.linspace(.1, 1, 10), index=np.arange(10))\n",
    "S = S_(channel_levels, P)\n",
    "\n",
    "Y = np.random.rand(S.shape[1])\n",
    "print('Y.shape = {}'.format(tuple(map(_NP, Y.shape))))\n",
    "\n",
    "M = S.dot(Y)\n",
    "print('M.shape = {}'.format(tuple(map(_NP, M.shape))))\n",
    "\n",
    "S_T_S = S.T.dot(S)\n",
    "print('S_T_S.shape = {}'.format(tuple(map(_NP, S_T_S.shape))))\n",
    "S_TS_INV = np.linalg.inv(S_T_S)\n",
    "print('S_TS_INV.shape = {}'.format(tuple(map(_NP, S_TS_INV.shape))))\n",
    "Y_result = S_TS_INV.dot(S.T).dot(M)\n",
    "\n",
    "S_TS_INV_S_T = S_TS_INV.dot(S.T)\n",
    "print('S_TS_INV_S_T.shape = {}'.format(tuple(map(_NP, S_TS_INV_S_T.shape))))\n",
    "\n",
    "np.allclose(Y_result, Y)\n",
    "display(Y)"
   ]
  },
  {
   "cell_type": "markdown",
   "metadata": {},
   "source": [
    "## Plot switching matrix"
   ]
  },
  {
   "cell_type": "code",
   "execution_count": 5,
   "metadata": {
    "ExecuteTime": {
     "end_time": "2018-04-19T19:43:40.923000Z",
     "start_time": "2018-04-19T19:43:40.640000Z"
    }
   },
   "outputs": [],
   "source": [
    "%matplotlib inline\n",
    "\n",
    "import itertools as it\n",
    "import matplotlib as mpl\n",
    "import matplotlib.pyplot as plt\n",
    "import matplotlib.ticker\n",
    "\n",
    "\n",
    "def plot_switching_matrix(S, axis=None):\n",
    "    df_S = pd.DataFrame(S)\n",
    "\n",
    "    patterns = it.cycle(('-', '+', 'x', '\\\\', '*',\n",
    "                         'o', 'O', '.', '/'))\n",
    "    if axis is None:\n",
    "        fig, axis = plt.subplots()\n",
    "\n",
    "    offsets = []\n",
    "    for j, c_j in df_S.iteritems():\n",
    "        color_j = axis._get_lines.prop_cycler.next().get('color')\n",
    "\n",
    "        channel_scale = 1\n",
    "        channel_offset = 1\n",
    "        channel_count = df_S.shape[1]\n",
    "        channel_fraction = 0.5\n",
    "\n",
    "        offset = channel_scale * (channel_count - j - 1) + channel_offset\n",
    "        height = channel_fraction * channel_scale\n",
    "        plot_c_j = (c_j * height) + offset\n",
    "\n",
    "        plot_c_j.plot(ax=axis, color=color_j, drawstyle='steps-post',\n",
    "                      label=str(c_j.sum() / c_j.shape[0]))\n",
    "        # Fill background color of plots according to feedback\n",
    "        # resistor index used.\n",
    "        pattern = patterns.next()\n",
    "\n",
    "        hatch = 2 * pattern\n",
    "        axis.fill_between(plot_c_j.index, plot_c_j.min(), plot_c_j,\n",
    "                          step='post',\n",
    "                          interpolate=True,\n",
    "                          alpha=0.25,\n",
    "                          edgecolor='grey',\n",
    "                          facecolor=color_j, hatch=hatch)\n",
    "        axis.plot(c_j.index[[0, -1]], 2 * [offset],\n",
    "                  linestyle='--', color=color_j, linewidth=1)\n",
    "        axis.plot(c_j.index[[0, -1]], 2 * [offset + height],\n",
    "                  linestyle='--', color=color_j, linewidth=1)\n",
    "        offsets.append(offset)\n",
    "    axis.yaxis.set_ticks(offsets)\n",
    "    axis.yaxis.set_ticklabels(map(str, df_S.columns))\n",
    "    axis.set_xlabel('Window')\n",
    "    axis.set_ylabel('Channel')\n",
    "    axis.xaxis.set_major_locator(mpl.ticker.MaxNLocator(integer=True))\n",
    "    return axis"
   ]
  },
  {
   "cell_type": "code",
   "execution_count": 7,
   "metadata": {
    "ExecuteTime": {
     "end_time": "2018-04-19T19:43:44.094000Z",
     "start_time": "2018-04-19T19:43:43.479000Z"
    }
   },
   "outputs": [
    {
     "data": {
      "text/plain": [
       "<matplotlib.legend.Legend at 0xc08bc90>"
      ]
     },
     "execution_count": 7,
     "metadata": {},
     "output_type": "execute_result"
    },
    {
     "data": {
      "image/png": "[encoded data removed]",
      "text/plain": [
       "<matplotlib.figure.Figure at 0x9dc3490>"
      ]
     },
     "metadata": {},
     "output_type": "display_data"
    }
   ],
   "source": [
    "np.random.seed(0)\n",
    "S = S_(pd.Series(np.random.rand(10)), p=20)\n",
    "fig, axis = plt.subplots(1, 1, figsize=(8, 8))\n",
    "axis = plot_switching_matrix(S, axis=axis)\n",
    "axis.legend(loc='upper right', title='duty cycle')"
   ]
  }
 ],
 "metadata": {
  "kernelspec": {
   "display_name": "Python 2",
   "language": "python",
   "name": "python2"
  },
  "language_info": {
   "codemirror_mode": {
    "name": "ipython",
    "version": 2
   },
   "file_extension": ".py",
   "mimetype": "text/x-python",
   "name": "python",
   "nbconvert_exporter": "python",
   "pygments_lexer": "ipython2",
   "version": "2.7.14"
  },
  "toc": {
   "base_numbering": 1,
   "nav_menu": {},
   "number_sections": true,
   "sideBar": false,
   "skip_h1_title": false,
   "title_cell": "Table of Contents",
   "title_sidebar": "Contents",
   "toc_cell": false,
   "toc_position": {
    "height": "137px",
    "left": "1012.97px",
    "top": "136.591px",
    "width": "288px"
   },
   "toc_section_display": true,
   "toc_window_display": true
  }
 },
 "nbformat": 4,
 "nbformat_minor": 2
}
