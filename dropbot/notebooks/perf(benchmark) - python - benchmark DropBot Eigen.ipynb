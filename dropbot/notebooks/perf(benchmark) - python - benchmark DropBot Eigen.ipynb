{
 "cells": [
  {
   "cell_type": "code",
   "execution_count": 1,
   "metadata": {
    "ExecuteTime": {
     "end_time": "2018-04-16T20:54:15.625000Z",
     "start_time": "2018-04-16T20:54:12.260000Z"
    }
   },
   "outputs": [],
   "source": [
    "from __future__ import (absolute_import, print_function, unicode_literals,\n",
    "                        division)\n",
    "\n",
    "import dropbot as db\n",
    "import si_prefix as si"
   ]
  },
  {
   "cell_type": "markdown",
   "metadata": {},
   "source": [
    "# Open DropBot connection"
   ]
  },
  {
   "cell_type": "code",
   "execution_count": 2,
   "metadata": {
    "ExecuteTime": {
     "end_time": "2018-04-16T20:54:16.453000Z",
     "start_time": "2018-04-16T20:54:15.631000Z"
    }
   },
   "outputs": [],
   "source": [
    "import base_node_rpc as bnr\n",
    "import base_node_rpc.proxy\n",
    "\n",
    "try:\n",
    "    proxy.terminate()\n",
    "except:\n",
    "    pass\n",
    "proxy = db.SerialProxy(ignore=[bnr.proxy.DeviceVersionMismatch])\n",
    "\n",
    "proxy.enable_events()\n",
    "\n",
    "proxy.update_state(hv_output_enabled=True, hv_output_selected=True,\n",
    "                   voltage=100, frequency=10e3)\n",
    "\n",
    "# Disable channels in contact with copper tape.\n",
    "disabled_channels_mask_i = proxy.disabled_channels_mask\n",
    "disabled_channels_mask_i[[89, 30]] = 1\n",
    "proxy.disabled_channels_mask = disabled_channels_mask_i"
   ]
  },
  {
   "cell_type": "markdown",
   "metadata": {},
   "source": [
    "# Benchmark Eigen library for computing $Y = (S_T S)^{-1} S_T M$\n",
    "\n",
    "where:\n",
    "\n",
    " - $S$ is a $N \\times N$ switching matrix encoding the actuation state of\n",
    "   each channel during each measurement window in a measuring sequence,\n",
    "   such that each row of $S$ corresponds to a window within a measurement\n",
    "   period and each column corresponds to a _sensitive_ channel;\n",
    " - $Y$ is a $N \\times 1$ matrix encoding the electrical admittance of\n",
    "   each channel (where admittance is the inverse of the impedance) during\n",
    "   each measurement period;\n",
    " - $M$ is a $N \\times 1$ matrix M, containing a combined measurement for\n",
    "   each row in $S$, corresponding to the _actuated_ channels in the row.\n",
    "   Note that $SY = M$.\n",
    "\n",
    "Benchmarking steps:\n",
    "\n",
    " 1. Create a representative $N \\times N$ switching matrix, $S$.\n",
    " 2. Create a representative electrical admittance $N \\times 1$ matrix, $Y$.\n",
    " 3. Compute a mock capacitance measurement $N \\times 1$ matrix, $M$,\n",
    "    containing simulated a combined measurement for each row in $S$,\n",
    "    corresponding to the actuated channels in the row.\n",
    " 4. Compute transpose of $S$.\n",
    " 5. **Compute the inverse of $S_T S$** in 3 loops, repeating ``repeats``\n",
    "    times in each loop and recording the duration of each loop.\n",
    " 6. Return the minimum duration of a single inverse computation.\n"
   ]
  },
  {
   "cell_type": "markdown",
   "metadata": {},
   "source": [
    "## Maximum $S$ array size\n",
    "\n",
    "Through empirical testing using `proxy._benchmark_eigen_inverse_float` and\n",
    "`proxy._benchmark_eigen_inverse_double`:\n",
    " - **maximum size of $S$ is**:\n",
    "   * **~50x50** when using `float` types for `Y` and `M`.\n",
    "   * **~40x40** when using `double` types for `Y` and `M`.\n",
    " - **$(S_T S)^{-1}$ computation time** is **$\\approx 5~µs$**"
   ]
  },
  {
   "cell_type": "code",
   "execution_count": 3,
   "metadata": {
    "ExecuteTime": {
     "end_time": "2018-04-16T20:54:16.500000Z",
     "start_time": "2018-04-16T20:54:16.458000Z"
    }
   },
   "outputs": [
    {
     "name": "stdout",
     "output_type": "stream",
     "text": [
      "Inverse of $S_T S$ (float) took: 5.3 µs\n",
      "Inverse of $S_T S$ (double) took: 5.3 µs\n"
     ]
    }
   ],
   "source": [
    "print('Inverse of $S_T S$ (float) took: {}s'\n",
    "      .format(si.si_format(proxy._benchmark_eigen_inverse_float(40, 100))))\n",
    "print('Inverse of $S_T S$ (double) took: {}s'\n",
    "      .format(si.si_format(proxy._benchmark_eigen_inverse_double(40, 100))))"
   ]
  }
 ],
 "metadata": {
  "kernelspec": {
   "display_name": "Python 2",
   "language": "python",
   "name": "python2"
  },
  "language_info": {
   "codemirror_mode": {
    "name": "ipython",
    "version": 2
   },
   "file_extension": ".py",
   "mimetype": "text/x-python",
   "name": "python",
   "nbconvert_exporter": "python",
   "pygments_lexer": "ipython2",
   "version": "2.7.14"
  },
  "toc": {
   "base_numbering": 1,
   "nav_menu": {},
   "number_sections": true,
   "sideBar": false,
   "skip_h1_title": false,
   "title_cell": "Table of Contents",
   "title_sidebar": "Contents",
   "toc_cell": false,
   "toc_position": {
    "height": "137px",
    "left": "1097.97px",
    "top": "142.597px",
    "width": "288px"
   },
   "toc_section_display": true,
   "toc_window_display": true
  }
 },
 "nbformat": 4,
 "nbformat_minor": 2
}
