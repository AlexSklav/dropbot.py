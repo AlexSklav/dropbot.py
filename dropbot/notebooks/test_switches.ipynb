{
 "cells": [
  {
   "cell_type": "code",
   "execution_count": 9,
   "metadata": {},
   "outputs": [
    {
     "name": "stdout",
     "output_type": "stream",
     "text": [
      "base_node_software_version                                                     \n",
      "package_name                                                            dropbot\n",
      "display_name                                                            DropBot\n",
      "manufacturer                                                        Wheeler Lab\n",
      "url                           http://github.com/wheeler-microfluidics/dropbo...\n",
      "software_version                                                     1.8.post21\n",
      "dtype: object\n",
      "\n",
      "uuid\t\t\t0000a1fa-3300-85a1-1000-2f00454e5337\n",
      "\n",
      "i2c_scan: [10 32 33 34]\n",
      "soft_i2c_scan: [44]\n",
      "number of channels: 120\n",
      "\n",
      "config:\n",
      "max_voltage                        150\n",
      "R7                             9536.95\n",
      "min_frequency                      100\n",
      "switching_board_i2c_address         32\n",
      "max_frequency                    10000\n",
      "pot_max                        47805.5\n",
      "i2c_address                         10\n",
      "id                                    \n",
      "dtype: object\n",
      "rms_error = 2.7%\n"
     ]
    },
    {
     "data": {
      "image/png": "[encoded data removed]",
      "text/plain": [
       "<matplotlib.figure.Figure at 0x8c41ad0>"
      ]
     },
     "metadata": {},
     "output_type": "display_data"
    }
   ],
   "source": [
    "import time\n",
    "import matplotlib.pyplot as plt\n",
    "import numpy as np\n",
    "from dropbot import SerialProxy\n",
    "import pandas as pd\n",
    "\n",
    "%matplotlib inline\n",
    "\n",
    "try:\n",
    "    del proxy\n",
    "except:\n",
    "    pass\n",
    "\n",
    "# Connect to the connected DropBot and print it's properties\n",
    "proxy = SerialProxy()\n",
    "\n",
    "print proxy.properties\n",
    "\n",
    "print \"\\nuuid\\t\\t\\t%s\\n\" % proxy.uuid\n",
    "\n",
    "#proxy.reset_config()\n",
    "proxy.update_config(max_voltage=150, i2c_address=10)\n",
    "\n",
    "print \"i2c_scan:\", proxy.i2c_scan()\n",
    "print \"soft_i2c_scan:\", proxy.soft_i2c_scan()\n",
    "\n",
    "proxy.initialize_switching_boards()\n",
    "\n",
    "print \"number of channels:\", proxy.number_of_channels\n",
    "\n",
    "print \"\\nconfig:\"\n",
    "print proxy.config\n",
    "\n",
    "# test the measured voltage for a range of target voltages\n",
    "proxy.voltage = proxy.min_waveform_voltage\n",
    "proxy.hv_output_enabled = True\n",
    "measured_voltage = []\n",
    "\n",
    "voltage = np.linspace(proxy.min_waveform_voltage,\n",
    "                      proxy.max_waveform_voltage,\n",
    "                      10)[1:-1]\n",
    "for v in voltage:\n",
    "    proxy.voltage = v\n",
    "    time.sleep(.5)\n",
    "    measured_voltage.append(proxy.measured_voltage)\n",
    "\n",
    "measured_voltage = np.array(measured_voltage)\n",
    "proxy.voltage = proxy.min_waveform_voltage + 5\n",
    "\n",
    "plt.figure()\n",
    "# plot the measured vs target votage\n",
    "plt.plot(voltage, measured_voltage, 'o')\n",
    "plt.plot(voltage, voltage, 'k--')\n",
    "plt.xlabel('Target voltage')\n",
    "plt.ylabel('Measured voltage')\n",
    "\n",
    "# calculate the average rms error\n",
    "r = measured_voltage - voltage\n",
    "print 'rms_error = %.1f%%' % (100 * np.sqrt(np.mean((r / voltage)**2)))"
   ]
  },
  {
   "cell_type": "code",
   "execution_count": null,
   "metadata": {
    "scrolled": false
   },
   "outputs": [
    {
     "name": "stdout",
     "output_type": "stream",
     "text": [
      "channel 0: 7.45340515137e-12\n",
      "channel 1: 6.56149864197e-12\n",
      "channel 2: 6.74451782227e-12\n",
      "channel 3: 6.79379081726e-12\n",
      "channel 4: 6.92449378967e-12\n",
      "channel 5: 6.41230773926e-12\n",
      "channel 6: 6.45702072144e-12\n",
      "channel 7: 5.83463287354e-12\n",
      "channel 8: 6.81131744385e-12\n",
      "channel 9: 7.17312057495e-12\n",
      "channel 10: 7.17987167358e-12\n",
      "channel 11: 7.22397422791e-12\n",
      "channel 12: 3.53848068237e-12 (BAD)\n",
      "channel 13: 6.66691589355e-12\n",
      "channel 14: 6.62952804565e-12\n",
      "channel 15: 6.86368240356e-12\n",
      "channel 16: 4.30082473755e-12 (BAD)\n",
      "channel 17: 3.81155204773e-12 (BAD)\n",
      "channel 18: 7.09478187561e-12\n",
      "channel 19: 7.01248809814e-12\n",
      "channel 20: 3.41436813354e-12 (BAD)\n",
      "channel 21: 3.92244529724e-12 (BAD)\n"
     ]
    }
   ],
   "source": [
    "# test channels using the test-board\n",
    "\n",
    "def sample_feedback(i, plot=False, n_samples=50, gain_power=5):\n",
    "    c = proxy.select_on_board_test_capacitor(i)\n",
    "    time.sleep(.5)\n",
    "    sampling_rate, adc_settings, df_volts, df_adc_results = proxy.analog_reads('PGA0', n_samples, gain_power=gain_power)\n",
    "    v_gnd = np.mean(df_volts)\n",
    "    v_rms = np.sqrt(np.mean((df_volts - v_gnd)**2))\n",
    "    v_abs = np.mean(np.abs(df_volts - v_gnd))\n",
    "    c_meas = v_abs.values[0] / proxy.voltage * 0.15e-6\n",
    "    if plot:\n",
    "        plt.figure()\n",
    "        plt.plot(df_volts.values - v_gnd[0])\n",
    "    return c_meas\n",
    "\n",
    "proxy.voltage = 100\n",
    "proxy.hv_output_enabled = True\n",
    "\n",
    "start_time = time.time()\n",
    "threshold = 5e-12\n",
    "c = []\n",
    "for i in range(0, 40):\n",
    "    state = np.zeros(proxy.number_of_channels)\n",
    "    state[i] = 1\n",
    "    proxy.state_of_channels = state\n",
    "    c.append(sample_feedback(-1, n_samples=50))\n",
    "    if c[-1] < threshold:\n",
    "        print \"channel %d: %s (BAD)\" % (i, c[-1])\n",
    "    else:\n",
    "        print \"channel %d: %s\" % (i, c[-1])\n",
    "\n",
    "bad_count = np.count_nonzero(np.array(c) < 5e-12)\n",
    "print \"\\nTest took %.1f s\" % (time.time() - start_time)\n",
    "print \"%d of %d switches bad (%.1f %%)\"  % (bad_count, len(c), float(bad_count) / len(c)*100)\n",
    "\n",
    "plt.title('DropBot system: %s' % str(proxy.uuid)[-8:])\n",
    "plt.bar(range(len(c)), c)"
   ]
  },
  {
   "cell_type": "code",
   "execution_count": null,
   "metadata": {
    "collapsed": true
   },
   "outputs": [],
   "source": []
  }
 ],
 "metadata": {
  "anaconda-cloud": {},
  "kernelspec": {
   "display_name": "Python 2",
   "language": "python",
   "name": "python2"
  },
  "language_info": {
   "codemirror_mode": {
    "name": "ipython",
    "version": 2
   },
   "file_extension": ".py",
   "mimetype": "text/x-python",
   "name": "python",
   "nbconvert_exporter": "python",
   "pygments_lexer": "ipython2",
   "version": "2.7.12"
  }
 },
 "nbformat": 4,
 "nbformat_minor": 1
}
