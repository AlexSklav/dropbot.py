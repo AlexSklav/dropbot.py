{
 "cells": [
  {
   "cell_type": "code",
   "execution_count": 5,
   "metadata": {},
   "outputs": [
    {
     "name": "stderr",
     "output_type": "stream",
     "text": [
      "INFO:base_node_rpc.proxy:Successfully connected to dropbot on port COM16\n"
     ]
    },
    {
     "name": "stdout",
     "output_type": "stream",
     "text": [
      "base_node_software_version                                                     \n",
      "package_name                                                            dropbot\n",
      "display_name                                                            DropBot\n",
      "manufacturer                                                        Wheeler Lab\n",
      "url                           http://github.com/wheeler-microfluidics/dropbo...\n",
      "software_version                                                            1.9\n",
      "dtype: object\n",
      "\n",
      "uuid\t\t\t0000816f-0700-db9e-1640-0f00454e0237\n",
      "\n",
      "i2c_scan: [10 32 33 34 80]\n",
      "soft_i2c_scan: [44]\n",
      "number of channels: 120\n",
      "\n",
      "config:\n",
      "max_voltage                        150\n",
      "R7                             8565.72\n",
      "min_frequency                      100\n",
      "switching_board_i2c_address         32\n",
      "max_frequency                    10000\n",
      "pot_max                        48700.5\n",
      "i2c_address                         10\n",
      "id                                    \n",
      "dtype: object\n",
      "rms_error = 3.5%\n"
     ]
    },
    {
     "data": {
      "image/png": "[encoded data removed]",
      "text/plain": [
       "<matplotlib.figure.Figure at 0x8f00710>"
      ]
     },
     "metadata": {},
     "output_type": "display_data"
    }
   ],
   "source": [
    "import logging; logging.basicConfig(level=logging.DEBUG)\n",
    "import time\n",
    "\n",
    "from dropbot import SerialProxy\n",
    "from ipywidgets import widgets\n",
    "import matplotlib.pyplot as plt\n",
    "import numpy as np\n",
    "import pandas as pd\n",
    "\n",
    "%matplotlib inline\n",
    "\n",
    "try:\n",
    "    del proxy\n",
    "except:\n",
    "    pass\n",
    "\n",
    "# Connect to the connected DropBot and print it's properties\n",
    "proxy = SerialProxy()\n",
    "\n",
    "print proxy.properties\n",
    "\n",
    "print \"\\nuuid\\t\\t\\t%s\\n\" % proxy.uuid\n",
    "\n",
    "#proxy.reset_config()\n",
    "proxy.update_config(max_voltage=150, i2c_address=10)\n",
    "\n",
    "print \"i2c_scan:\", proxy.i2c_scan()\n",
    "print \"soft_i2c_scan:\", proxy.soft_i2c_scan()\n",
    "\n",
    "proxy.initialize_switching_boards()\n",
    "\n",
    "print \"number of channels:\", proxy.number_of_channels\n",
    "\n",
    "print \"\\nconfig:\"\n",
    "print proxy.config\n",
    "\n",
    "# test the measured voltage for a range of target voltages\n",
    "proxy.voltage = proxy.min_waveform_voltage\n",
    "proxy.hv_output_enabled = True\n",
    "measured_voltage = []\n",
    "\n",
    "voltage = np.linspace(proxy.min_waveform_voltage,\n",
    "                      proxy.max_waveform_voltage,\n",
    "                      10)[1:-1]\n",
    "for v in voltage:\n",
    "    proxy.voltage = v\n",
    "    time.sleep(.5)\n",
    "    measured_voltage.append(proxy.measured_voltage)\n",
    "\n",
    "measured_voltage = np.array(measured_voltage)\n",
    "proxy.voltage = proxy.min_waveform_voltage + 5\n",
    "\n",
    "plt.figure()\n",
    "# plot the measured vs target votage\n",
    "plt.plot(voltage, measured_voltage, 'o')\n",
    "plt.plot(voltage, voltage, 'k--')\n",
    "plt.xlabel('Target voltage')\n",
    "plt.ylabel('Measured voltage')\n",
    "\n",
    "# calculate the average rms error\n",
    "r = measured_voltage - voltage\n",
    "print 'rms_error = %.1f%%' % (100 * np.sqrt(np.mean((r / voltage)**2)))"
   ]
  },
  {
   "cell_type": "code",
   "execution_count": 6,
   "metadata": {},
   "outputs": [
    {
     "data": {
      "application/vnd.jupyter.widget-view+json": {
       "model_id": "2a3a67170a2c4897bbd0708b6f721d62"
      }
     },
     "metadata": {},
     "output_type": "display_data"
    }
   ],
   "source": [
    "channel_selection = widgets.SelectMultiple(options=range(proxy.number_of_channels),\n",
    "                                           style={'height': '500px'},\n",
    "                                           description='Channels:',\n",
    "                                           disabled=False)\n",
    "def set_actuated_channels(message):\n",
    "    c = proxy.select_on_board_test_capacitor(-1)\n",
    "    states = np.zeros(proxy.number_of_channels)\n",
    "    states[message.get('new', [])] = 1\n",
    "    proxy.state_of_channels = states\n",
    "    \n",
    "# Start with all channels off.\n",
    "proxy.hv_output_enabled = True\n",
    "proxy.state_of_channels = np.zeros(proxy.number_of_channels)\n",
    "channel_selection.observe(set_actuated_channels, names='value', type='change')\n",
    "\n",
    "channel_selection"
   ]
  },
  {
   "cell_type": "code",
   "execution_count": 155,
   "metadata": {
    "collapsed": true
   },
   "outputs": [],
   "source": [
    "# Turn off all channels\n",
    "proxy.state_of_channels = np.zeros(proxy.number_of_channels)"
   ]
  }
 ],
 "metadata": {
  "anaconda-cloud": {},
  "kernelspec": {
   "display_name": "Python 2",
   "language": "python",
   "name": "python2"
  },
  "language_info": {
   "codemirror_mode": {
    "name": "ipython",
    "version": 2
   },
   "file_extension": ".py",
   "mimetype": "text/x-python",
   "name": "python",
   "nbconvert_exporter": "python",
   "pygments_lexer": "ipython2",
   "version": "2.7.12"
  }
 },
 "nbformat": 4,
 "nbformat_minor": 1
}
