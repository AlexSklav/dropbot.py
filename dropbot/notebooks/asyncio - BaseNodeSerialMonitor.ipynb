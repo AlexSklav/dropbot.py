{
 "cells": [
  {
   "cell_type": "markdown",
   "metadata": {},
   "source": [
    "# Abstract\n",
    "\n",
    "This notebook defines the `BaseNodeSerialMonitor` class to create a\n",
    "connection to a serial port and reconnect when disconnected.\n",
    "\n",
    "The `SerialProxy` class demonstrates how a `BaseNodeSerialMonitor`\n",
    "class can be used with a generated `Proxy` class, e.g., `dropbot.node.Proxy`.\n",
    "\n",
    "\n",
    "# XXX TODO\n",
    "\n",
    " 1. Demux incoming packets based on packet type.\n",
    "     - [ ] Send `blinker` signal when a packet is received.\n",
    " 2. Requests should only complete if a **`DATA`** packet is available.\n",
    " \n",
    "For **(2)**, there could be an [`asyncio.Queue`](https://docs.python.org/3/library/asyncio-queue.html#asyncio.Queue) that the request could `await` on.  The `blinker` signal handler for **`DATA`** packets could push into that queue."
   ]
  },
  {
   "cell_type": "code",
   "execution_count": 1,
   "metadata": {},
   "outputs": [],
   "source": [
    "import logging\n",
    "import platform\n",
    "import sys\n",
    "import time\n",
    "import threading\n",
    "\n",
    "import asyncio\n",
    "import asyncserial\n",
    "import base_node_rpc as bnr\n",
    "import base_node_rpc.async\n",
    "import serial\n",
    "import serial_device as sd\n",
    "import serial_device.threaded\n",
    "\n",
    "\n",
    "logging.basicConfig(level=logging.DEBUG)"
   ]
  },
  {
   "cell_type": "code",
   "execution_count": 2,
   "metadata": {},
   "outputs": [
    {
     "name": "stderr",
     "output_type": "stream",
     "text": [
      "DEBUG:asyncio:Using proactor: IocpProactor\n"
     ]
    },
    {
     "data": {
      "text/html": [
       "<div>\n",
       "<style scoped>\n",
       "    .dataframe tbody tr th:only-of-type {\n",
       "        vertical-align: middle;\n",
       "    }\n",
       "\n",
       "    .dataframe tbody tr th {\n",
       "        vertical-align: top;\n",
       "    }\n",
       "\n",
       "    .dataframe thead th {\n",
       "        text-align: right;\n",
       "    }\n",
       "</style>\n",
       "<table border=\"1\" class=\"dataframe\">\n",
       "  <thead>\n",
       "    <tr style=\"text-align: right;\">\n",
       "      <th></th>\n",
       "      <th>descriptor</th>\n",
       "      <th>hardware_id</th>\n",
       "      <th>vid</th>\n",
       "      <th>pid</th>\n",
       "      <th>available</th>\n",
       "      <th>baudrate</th>\n",
       "      <th>device_name</th>\n",
       "      <th>device_version</th>\n",
       "      <th>timeout</th>\n",
       "    </tr>\n",
       "    <tr>\n",
       "      <th>port</th>\n",
       "      <th></th>\n",
       "      <th></th>\n",
       "      <th></th>\n",
       "      <th></th>\n",
       "      <th></th>\n",
       "      <th></th>\n",
       "      <th></th>\n",
       "      <th></th>\n",
       "      <th></th>\n",
       "    </tr>\n",
       "  </thead>\n",
       "  <tbody>\n",
       "    <tr>\n",
       "      <th>COM8</th>\n",
       "      <td>USB Serial Device (COM8)</td>\n",
       "      <td>USB VID:PID=16C0:0483 SER=2600560 LOCATION=1-2</td>\n",
       "      <td>16c0</td>\n",
       "      <td>0483</td>\n",
       "      <td>True</td>\n",
       "      <td>9600</td>\n",
       "      <td>dropbot</td>\n",
       "      <td>1.46+11.g8c9f11f.dirty</td>\n",
       "      <td>None</td>\n",
       "    </tr>\n",
       "  </tbody>\n",
       "</table>\n",
       "</div>"
      ],
      "text/plain": [
       "                    descriptor  \\\n",
       "port                             \n",
       "COM8  USB Serial Device (COM8)   \n",
       "\n",
       "                                         hardware_id   vid   pid  available  \\\n",
       "port                                                                          \n",
       "COM8  USB VID:PID=16C0:0483 SER=2600560 LOCATION=1-2  16c0  0483       True   \n",
       "\n",
       "      baudrate device_name          device_version timeout  \n",
       "port                                                        \n",
       "COM8      9600     dropbot  1.46+11.g8c9f11f.dirty    None  "
      ]
     },
     "execution_count": 2,
     "metadata": {},
     "output_type": "execute_result"
    }
   ],
   "source": [
    "bnr.available_devices()"
   ]
  },
  {
   "cell_type": "code",
   "execution_count": 5,
   "metadata": {},
   "outputs": [],
   "source": [
    "async def _async_serial_keepalive(parent, *args, **kwargs):\n",
    "    port = None\n",
    "    while not parent.stop_event.wait(.01):\n",
    "        try:\n",
    "            parent.connected_event.clear()\n",
    "            with asyncserial.AsyncSerial(*args, **kwargs) as async_device:\n",
    "                logging.info('connected to %s', async_device.ser.port)\n",
    "                parent.connected_event.set()\n",
    "                parent.device = async_device\n",
    "                port = async_device.ser.port\n",
    "                while async_device.ser.is_open:\n",
    "                    try:\n",
    "                        async_device.ser.in_waiting\n",
    "                    except serial.SerialException:\n",
    "                        break\n",
    "                    else:\n",
    "                        await asyncio.sleep(.01)\n",
    "            logging.info('disconnected from %s', port)\n",
    "        except serial.SerialException as e:\n",
    "            pass\n",
    "        parent.disconnected_event.set()\n",
    "    logging.info('stopped monitoring %s', port)\n",
    "        \n",
    "        \n",
    "@bnr.async.with_loop        \n",
    "def async_serial_monitor(parent, *args, **kwargs):\n",
    "    return _async_serial_keepalive(parent, *args, **kwargs)\n",
    "\n",
    "\n",
    "class AsyncSerialMonitor(threading.Thread):\n",
    "    '''\n",
    "    Thread connects to serial port and automatically tries to\n",
    "    reconnect if disconnected.\n",
    "    \n",
    "    Can be used as a context manager to automatically release\n",
    "    the serial port on exit.\n",
    "    \n",
    "    For example:\n",
    "    \n",
    "    >>> with BaseNodeSerialMonitor(port='COM8') as monitor:\n",
    "    >>>     # Wait for serial device to connect.\n",
    "    >>>     monitor.connected_event.wait()\n",
    "    >>>     print(asyncio.run_coroutine_threadsafe(monitor.device.write('hello, world'), monitor.loop).result())\n",
    "    \n",
    "    Otherwise, the :meth:`stop` method must *explicitly* be called\n",
    "    to release the serial connection before it can be connected to\n",
    "    by other code.  For example:\n",
    "    \n",
    "    >>> monitor = BaseNodeSerialMonitor(port='COM8')\n",
    "    >>> # Wait for serial device to connect.\n",
    "    >>> monitor.connected_event.wait()\n",
    "    >>> print(asyncio.run_coroutine_threadsafe(monitor.device.write('hello, world'), monitor.loop).result())\n",
    "    >>> monitor.stop()\n",
    "    \n",
    "    Attributes\n",
    "    ----------\n",
    "    loop : asyncio event loop\n",
    "        Event loop serial monitor is running under.\n",
    "    device : asyncserial.AsyncSerial\n",
    "        Reference to *active* serial device reference.\n",
    "        \n",
    "        Note that this reference *MAY* change if serial connection\n",
    "        is interrupted and reconnected.\n",
    "    connected_event : threading.Event\n",
    "        Set when serial connection is established.\n",
    "    disconnected_event : threading.Event\n",
    "        Set when serial connection is lost.\n",
    "    '''\n",
    "    def __init__(self, *args, **kwargs):\n",
    "        self.args = args\n",
    "        self.kwargs = kwargs\n",
    "        self.connected_event = threading.Event()\n",
    "        self.disconnected_event = threading.Event()\n",
    "        self.stop_event = threading.Event()\n",
    "        self.loop = None\n",
    "        self.device = None\n",
    "        super(AsyncSerialMonitor, self).__init__()\n",
    "        self.daemon = True\n",
    "        \n",
    "    def run(self):\n",
    "        if platform.system() == 'Windows':\n",
    "            loop = asyncio.ProactorEventLoop()\n",
    "            asyncio.set_event_loop(loop)\n",
    "        else:\n",
    "            loop = asyncio.new_event_loop()\n",
    "        self.loop = loop\n",
    "        self.kwargs['loop'] = loop\n",
    "        async_serial_monitor(self, *self.args, **self.kwargs)\n",
    "    \n",
    "    def stop(self):\n",
    "        self.stop_event.set()\n",
    "        try:\n",
    "            self.device.close()\n",
    "        except:\n",
    "            pass\n",
    "    \n",
    "    def __enter__(self):\n",
    "        self.start()\n",
    "        return self\n",
    "    \n",
    "    def __exit__(self, exc_type, exc_value, traceback):\n",
    "        self.stop()\n",
    "        \n",
    "        \n",
    "class BaseNodeSerialMonitor(AsyncSerialMonitor):\n",
    "    def request(self, request, *args, **kwargs):\n",
    "        return asyncio\\\n",
    "            .run_coroutine_threadsafe(self.arequest(request),\n",
    "                                      loop=self.loop).result(*args, **kwargs)\n",
    "\n",
    "    async def arequest(self, request):\n",
    "        return await bnr._async_py36._request(request, device=self.device)\n"
   ]
  },
  {
   "cell_type": "code",
   "execution_count": 4,
   "metadata": {},
   "outputs": [
    {
     "name": "stderr",
     "output_type": "stream",
     "text": [
      "DEBUG:asyncio:Using proactor: IocpProactor\n",
      "INFO:root:connected to COM8\n"
     ]
    },
    {
     "name": "stdout",
     "output_type": "stream",
     "text": [
      "6.57 ms ± 356 µs per loop (mean ± std. dev. of 7 runs, 100 loops each)\n",
      "6.64 ms ± 52.8 µs per loop (mean ± std. dev. of 7 runs, 100 loops each)\n"
     ]
    },
    {
     "name": "stderr",
     "output_type": "stream",
     "text": [
      "INFO:root:disconnected from COM8\n",
      "INFO:root:stopped monitoring COM8\n"
     ]
    }
   ],
   "source": [
    "result_received = threading.Event()\n",
    "\n",
    "with BaseNodeSerialMonitor(port='COM8') as monitor:\n",
    "    monitor.connected_event.wait()\n",
    "    REQUEST = b'|||\\x00\\x00d\\x00\\x02\\xfc\\x03\\x01\\x01'\n",
    "\n",
    "    %timeit monitor.request(REQUEST)\n",
    "    %timeit asyncio.run_coroutine_threadsafe(monitor.arequest(REQUEST), monitor.loop).result()\n",
    "    # No need to call `monitor.stop()` when as a context manager."
   ]
  },
  {
   "cell_type": "code",
   "execution_count": 11,
   "metadata": {},
   "outputs": [
    {
     "name": "stderr",
     "output_type": "stream",
     "text": [
      "DEBUG:asyncio:taking long time to close proactor\n",
      "DEBUG:asyncio:taking long time to close proactor\n",
      "DEBUG:asyncio:taking long time to close proactor\n"
     ]
    }
   ],
   "source": [
    "import dropbot as db\n",
    "import dropbot.node\n",
    "\n",
    "\n",
    "class SerialProxy(db.node.Proxy):\n",
    "    '''\n",
    "    Example using :class:`BaseNodeSerialMonitor` for DropBot\n",
    "    RPC communication.\n",
    "    '''\n",
    "    def __init__(self, *args, **kwargs):\n",
    "        self.monitor = BaseNodeSerialMonitor(*args, **kwargs)\n",
    "        self.monitor.start()\n",
    "        self.monitor.connected_event.wait()\n",
    "    \n",
    "    def _send_command(self, packet):\n",
    "        return self.monitor.request(packet.tostring())\n",
    "    \n",
    "    def terminate(self):\n",
    "        self.monitor.stop()\n",
    "    \n",
    "    def __enter__(self):\n",
    "        return self\n",
    "    \n",
    "    def __exit__(self, exc_type, exc_value, traceback):\n",
    "        self.terminate()\n",
    "    \n",
    "    def __del__(self):\n",
    "        self.terminate()"
   ]
  },
  {
   "cell_type": "code",
   "execution_count": 16,
   "metadata": {},
   "outputs": [
    {
     "name": "stderr",
     "output_type": "stream",
     "text": [
      "DEBUG:asyncio:Using proactor: IocpProactor\n"
     ]
    },
    {
     "ename": "AttributeError",
     "evalue": "'DataFrame' object has no attribute 'device_name'",
     "output_type": "error",
     "traceback": [
      "\u001b[1;31m---------------------------------------------------------------------------\u001b[0m",
      "\u001b[1;31mAttributeError\u001b[0m                            Traceback (most recent call last)",
      "\u001b[1;32m<ipython-input-16-c68d4a5dbd82>\u001b[0m in \u001b[0;36m<module>\u001b[1;34m()\u001b[0m\n\u001b[0;32m      1\u001b[0m \u001b[1;31m# Find DropBots\u001b[0m\u001b[1;33m\u001b[0m\u001b[1;33m\u001b[0m\u001b[0m\n\u001b[0;32m      2\u001b[0m \u001b[0mdf_devices\u001b[0m \u001b[1;33m=\u001b[0m \u001b[0mbnr\u001b[0m\u001b[1;33m.\u001b[0m\u001b[0mavailable_devices\u001b[0m\u001b[1;33m(\u001b[0m\u001b[0mtimeout\u001b[0m\u001b[1;33m=\u001b[0m\u001b[1;36m.5\u001b[0m\u001b[1;33m)\u001b[0m\u001b[1;33m\u001b[0m\u001b[0m\n\u001b[1;32m----> 3\u001b[1;33m \u001b[0mdf_dropbots\u001b[0m \u001b[1;33m=\u001b[0m \u001b[0mdf_devices\u001b[0m\u001b[1;33m.\u001b[0m\u001b[0mloc\u001b[0m\u001b[1;33m[\u001b[0m\u001b[0mdf_devices\u001b[0m\u001b[1;33m.\u001b[0m\u001b[0mdevice_name\u001b[0m \u001b[1;33m==\u001b[0m \u001b[1;34m'dropbot'\u001b[0m\u001b[1;33m]\u001b[0m\u001b[1;33m\u001b[0m\u001b[0m\n\u001b[0m\u001b[0;32m      4\u001b[0m \u001b[1;32mif\u001b[0m \u001b[1;32mnot\u001b[0m \u001b[0mdf_dropbots\u001b[0m\u001b[1;33m.\u001b[0m\u001b[0mshape\u001b[0m\u001b[1;33m[\u001b[0m\u001b[1;36m0\u001b[0m\u001b[1;33m]\u001b[0m\u001b[1;33m:\u001b[0m\u001b[1;33m\u001b[0m\u001b[0m\n\u001b[0;32m      5\u001b[0m     \u001b[1;32mraise\u001b[0m \u001b[0mIOError\u001b[0m\u001b[1;33m(\u001b[0m\u001b[1;34m'No DropBot available for connection'\u001b[0m\u001b[1;33m)\u001b[0m\u001b[1;33m\u001b[0m\u001b[0m\n",
      "\u001b[1;32m~\\Miniconda2-x86\\conda-bld\\dropbot_1519314846138\\_h_env\\lib\\site-packages\\pandas\\core\\generic.py\u001b[0m in \u001b[0;36m__getattr__\u001b[1;34m(self, name)\u001b[0m\n\u001b[0;32m   3612\u001b[0m             \u001b[1;32mif\u001b[0m \u001b[0mname\u001b[0m \u001b[1;32min\u001b[0m \u001b[0mself\u001b[0m\u001b[1;33m.\u001b[0m\u001b[0m_info_axis\u001b[0m\u001b[1;33m:\u001b[0m\u001b[1;33m\u001b[0m\u001b[0m\n\u001b[0;32m   3613\u001b[0m                 \u001b[1;32mreturn\u001b[0m \u001b[0mself\u001b[0m\u001b[1;33m[\u001b[0m\u001b[0mname\u001b[0m\u001b[1;33m]\u001b[0m\u001b[1;33m\u001b[0m\u001b[0m\n\u001b[1;32m-> 3614\u001b[1;33m             \u001b[1;32mreturn\u001b[0m \u001b[0mobject\u001b[0m\u001b[1;33m.\u001b[0m\u001b[0m__getattribute__\u001b[0m\u001b[1;33m(\u001b[0m\u001b[0mself\u001b[0m\u001b[1;33m,\u001b[0m \u001b[0mname\u001b[0m\u001b[1;33m)\u001b[0m\u001b[1;33m\u001b[0m\u001b[0m\n\u001b[0m\u001b[0;32m   3615\u001b[0m \u001b[1;33m\u001b[0m\u001b[0m\n\u001b[0;32m   3616\u001b[0m     \u001b[1;32mdef\u001b[0m \u001b[0m__setattr__\u001b[0m\u001b[1;33m(\u001b[0m\u001b[0mself\u001b[0m\u001b[1;33m,\u001b[0m \u001b[0mname\u001b[0m\u001b[1;33m,\u001b[0m \u001b[0mvalue\u001b[0m\u001b[1;33m)\u001b[0m\u001b[1;33m:\u001b[0m\u001b[1;33m\u001b[0m\u001b[0m\n",
      "\u001b[1;31mAttributeError\u001b[0m: 'DataFrame' object has no attribute 'device_name'"
     ]
    }
   ],
   "source": [
    "# Find DropBots\n",
    "df_devices = bnr.available_devices(timeout=.5)\n",
    "if not df_devices.shape[0]:\n",
    "    raise IOError('No DropBot available for connection')\n",
    "df_dropbots = df_devices.loc[df_devices.device_name == 'dropbot']\n",
    "if not df_dropbots.shape[0]:\n",
    "    raise IOError('No DropBot available for connection')\n",
    "port = df_dropbots.index[0]\n",
    "\n",
    "with SerialProxy(port=port) as proxy:\n",
    "    print(proxy.ram_free())\n",
    "\n",
    "    print(proxy.digital_read(13))\n",
    "    %timeit proxy.digital_write(13, 0)\n",
    "    print(proxy.digital_read(13))"
   ]
  }
 ],
 "metadata": {
  "kernelspec": {
   "display_name": "Python 3",
   "language": "python",
   "name": "python3"
  },
  "language_info": {
   "codemirror_mode": {
    "name": "ipython",
    "version": 3
   },
   "file_extension": ".py",
   "mimetype": "text/x-python",
   "name": "python",
   "nbconvert_exporter": "python",
   "pygments_lexer": "ipython3",
   "version": "3.6.4"
  }
 },
 "nbformat": 4,
 "nbformat_minor": 2
}
