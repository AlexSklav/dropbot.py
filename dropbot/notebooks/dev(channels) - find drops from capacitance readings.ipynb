{
 "cells": [
  {
   "cell_type": "code",
   "execution_count": 1,
   "metadata": {},
   "outputs": [],
   "source": [
    "#include <algorithm>\n",
    "#include <bitset>\n",
    "#include <iostream>\n",
    "#include <sstream>\n",
    "#include <utility>\n",
    "#include <vector>\n",
    "\n",
    "#include <xcpp/xdisplay.hpp>\n",
    "\n",
    "#include <CArrayDefs/CArrayDefs.h>\n",
    "\n",
    "namespace ht\n",
    "{\n",
    "    struct html\n",
    "    {   \n",
    "        inline html(const std::string& content)\n",
    "        {\n",
    "            m_content = content;\n",
    "        }\n",
    "        std::string m_content;\n",
    "    };\n",
    "\n",
    "    xeus::xjson mime_bundle_repr(const html& a)\n",
    "    {\n",
    "        auto bundle = xeus::xjson::object();\n",
    "        bundle[\"text/html\"] = a.m_content;\n",
    "        return bundle;\n",
    "    }\n",
    "}\n",
    "\n",
    "// Dump contents of \n",
    "template <typename T, typename V>\n",
    "void dump_array(V a, const char *separator=\" \", std::ostream &out=std::cout) {\n",
    "    std::transform(a.data, a.data + a.length,\n",
    "                   std::ostream_iterator<T>(out, separator), [](decltype(*a.data) v) {\n",
    "                     return T(v);\n",
    "                   });\n",
    "}\n",
    "\n",
    "template <typename T, typename V>\n",
    "std::string concat_array(V a, const char *separator=\" \") {\n",
    "    std::stringstream output;\n",
    "    dump_array<T>(a, separator, output);\n",
    "    return output.str();\n",
    "}\n",
    "\n",
    "template <typename T, typename V>\n",
    "auto display_array(V a, const char *separator=\" \") {\n",
    "    return ht::html(R\"(\n",
    "    <div>\n",
    "    <style scoped=\"\">\n",
    "        .dataframe tbody tr th:only-of-type {\n",
    "            vertical-align: middle;\n",
    "        }\n",
    "\n",
    "        .dataframe tbody tr th {\n",
    "            vertical-align: top;\n",
    "        }\n",
    "\n",
    "        .dataframe thead th {\n",
    "            text-align: right;\n",
    "        }\n",
    "    </style>\n",
    "    <table border=\"1\" class=\"dataframe\">\n",
    "      <tbody>\n",
    "        <tr>\n",
    "          <td>\n",
    "             )\" + concat_array<T>(a, \"</td></tr><tr><td>\") +\n",
    "             R\"(\n",
    "          </td>\n",
    "        </tr>\n",
    "      </tbody>\n",
    "    </table>\n",
    "    </div>)\");\n",
    "}\n",
    "\n",
    "\n",
    "struct Switch {\n",
    "  uint8_t board;\n",
    "  uint8_t port;\n",
    "  uint8_t bit;\n",
    "};"
   ]
  },
  {
   "cell_type": "code",
   "execution_count": 2,
   "metadata": {},
   "outputs": [],
   "source": [
    "struct ChannelNeighbours {\n",
    "  uint8_t up;\n",
    "  uint8_t down;\n",
    "  uint8_t left;\n",
    "  uint8_t right;\n",
    "};"
   ]
  },
  {
   "cell_type": "code",
   "execution_count": 3,
   "metadata": {},
   "outputs": [],
   "source": [
    "std::vector<uint8_t> neighbours_raw(480);\n",
    "std::vector<float> capacitances;\n",
    "ChannelNeighbours *neighbours_begin;\n",
    "std::vector<ChannelNeighbours> neighbours;"
   ]
  },
  {
   "cell_type": "code",
   "execution_count": 4,
   "metadata": {},
   "outputs": [],
   "source": [
    "constexpr float C_THRESHOLD = 3e-12;"
   ]
  },
  {
   "cell_type": "code",
   "execution_count": 5,
   "metadata": {},
   "outputs": [],
   "source": [
    "template <typename Neighbours, typename Capacitances>\n",
    "std::vector<std::vector<int> > get_drops(Neighbours &neighbours, Capacitances &capacitances,\n",
    "                                         float c_threshold=C_THRESHOLD) {\n",
    "    std::vector<uint8_t> drop_member(neighbours.size(), 0xFF);\n",
    "\n",
    "    for (auto i = 0; i < capacitances.size(); i++) {\n",
    "        if (capacitances[i] <= C_THRESHOLD) {\n",
    "            continue;\n",
    "        }\n",
    "        const auto &neighbours_i = neighbours[i];\n",
    "        for (auto& x_i : std::vector<uint8_t>({static_cast<uint8_t>(i), neighbours_i.up, neighbours_i.down,\n",
    "                                               neighbours_i.left, neighbours_i.right})) {\n",
    "            if (x_i == 0xFF) { continue; }\n",
    "            if (drop_member[x_i] < 0xFF) {\n",
    "                const auto original_drop_i = drop_member[x_i];\n",
    "                for (auto j = 0; j < drop_member.size(); j++) {\n",
    "                    if (original_drop_i == drop_member[j]) {\n",
    "                        drop_member[j] = i;\n",
    "                    }\n",
    "                }\n",
    "            } else if (capacitances[x_i] > C_THRESHOLD) {\n",
    "                drop_member[x_i] = i;\n",
    "            }\n",
    "        }\n",
    "    }\n",
    "    \n",
    "    std::vector<std::vector<int> > drops;\n",
    "    auto sorted = drop_member;\n",
    "    std::sort(sorted.begin(), sorted.end());\n",
    "    {\n",
    "        auto end = std::unique(sorted.begin(), sorted.end());\n",
    "\n",
    "        for (auto it = sorted.begin(); it != end -1; it++) {\n",
    "            const auto drop_id_i = *it;\n",
    "            std::vector<int> drop_i;\n",
    "\n",
    "            auto j = 0;\n",
    "            for (auto it_j = drop_member.begin(); it_j != drop_member.end(); it_j++, j++) {\n",
    "                const auto drop_id_j = *it_j;\n",
    "                if (drop_id_i == drop_id_j) {\n",
    "                    drop_i.push_back(j);\n",
    "                }\n",
    "            }\n",
    "            drops.push_back(drop_i);\n",
    "        }\n",
    "    }\n",
    "    return drops;\n",
    "}"
   ]
  },
  {
   "cell_type": "code",
   "execution_count": 6,
   "metadata": {
    "scrolled": false
   },
   "outputs": [
    {
     "data": {
      "text/html": [
       "<h2>Drops (sets of connected channels with capacitance > 3 pF)</h2>"
      ]
     },
     "metadata": {},
     "output_type": "display_data"
    },
    {
     "data": {
      "text/plain": [
       "{ 40, 42, 45, 74, 77 }"
      ]
     },
     "metadata": {},
     "output_type": "display_data"
    },
    {
     "data": {
      "text/plain": [
       "{ 16, 18, 101, 103 }"
      ]
     },
     "metadata": {},
     "output_type": "display_data"
    }
   ],
   "source": [
    "// {40L: {40L, 42L, 45L, 74L, 77L}, 101L: {16L, 18L, 101L, 103L}}\n",
    "capacitances = { 1.24667822e-12, 8.27001505e-13, 9.95153744e-13, 1.43268343e-12, 9.47640412e-13, 1.29708930e-13, 8.84316868e-13, 1.18850156e-12, 3.10656892e-13, 1.13740525e-12, 2.06812352e-13, 1.30152273e-12, 4.35249193e-13, 1.29722738e-12, 1.27270368e-12, 2.26044427e-14, 1.65408879e-11, 1.08673570e-12, 1.74066569e-11, 1.75067362e-13, 5.40601666e-13, 1.31088040e-12, 1.05582142e-12, 1.18255329e-12, 1.20343511e-12, 3.95570807e-13, 1.10969972e-13, 2.37078571e-14, 9.88628158e-13, 1.38852165e-12, 7.42327471e-13, 4.62978712e-13, 3.77267290e-13, 2.16225589e-13, 5.62731968e-13, 1.66790779e-14, 1.12166848e-12, 7.94581616e-13, 5.56852782e-13, 3.65395377e-13, 1.34614438e-11, 8.09808518e-13, 6.94362154e-12, 7.21385195e-14, 1.04109251e-12, 8.59589346e-12, 7.02285608e-13, 1.26616767e-12, 1.01989623e-12, 1.09170861e-12, 2.21547777e-13, 7.52629789e-13, 2.73809344e-13, 4.76071996e-13, 7.89181031e-14, 1.26721101e-12, 1.17025382e-12, 1.47050330e-14, 1.43388805e-12, 1.02922159e-12, 7.14176687e-13, 4.30621440e-13, 1.41806620e-12, 8.50601206e-13, 1.43132635e-12, 2.53628787e-13, 1.29381511e-12, 1.25666199e-13, 1.45989178e-12, 1.35720573e-13, 4.91186628e-13, 4.68155098e-13, 7.28003723e-13, 1.17302527e-13, 7.70999435e-12, 8.90601875e-13, 1.32843158e-12, 9.74318195e-12, 1.37122189e-12, 5.20137168e-13, 3.33946516e-13, 2.93442368e-13, 7.27743179e-13, 3.95209294e-13, 5.48976890e-14, 1.42610112e-12, 8.94287873e-13, 6.99918233e-13, 4.66592152e-13, 1.04319268e-13, 5.22581350e-13, 1.72636850e-13, 1.08398245e-12, 1.28676575e-12, 1.27055926e-12, 7.70763542e-13, 4.86687693e-14, 7.14150621e-13, 1.38567143e-12, 5.74144944e-13, 1.48952261e-12, 1.71236873e-11, 2.58594096e-15, 1.61987844e-11, 5.53589159e-13, 4.77702494e-13, 8.16773559e-13, 1.01204912e-12, 3.26579369e-13, 2.86208588e-13, 8.54996656e-13, 6.48789016e-13, 1.45638033e-12, 1.84571994e-13, 1.29371426e-12, 7.18470637e-13, 1.37153317e-12, 1.14362013e-12, 1.45752730e-12, 1.07865564e-12};\n",
    "neighbours_raw = {255,   1,   2,   5,   0, 118,   2,   6, 255, 255,  30,   1, 255, 255, 255, 255,  10,   5, 255, 255,   4,   6,   0,  14,   5, 113, 1,   8, 255, 255, 255, 255,  14, 111,   6,  13, 255, 255,  10, 255,   9,   4, 255, 255, 255, 255, 255, 255, 255,  13,  14,  17, 12, 106,   8,  18, 255,   8,   5,  12, 255, 255, 255, 255,  22, 103,  18,  25, 255,  18,  12,  22,  17, 101,  13,  16, 255, 255, 255, 255,  26,  21, 255, 255,  20,  22, 255, 255,  21,  16,  17, 24, 255, 255, 255, 255, 255,  25,  22,  28,  24,  94,  16,  29, 255, 255,  20, 255, 255, 255, 255, 255, 255,  29,  24,  32,  28, 90,  25,  33, 255, 255,  58,   2, 255, 255, 255, 255, 255,  33, 28,  38,  32,  86,  29,  40, 255, 255,  36, 255, 255, 255, 255, 255,  34,  37, 255, 255,  36,  38, 255, 255,  37,  40,  32,  41, 255, 255, 255, 255,  38,  79,  33,  42, 255,  42,  38,  44,  41, 77,  40,  45, 255, 255, 255, 255, 255,  45,  41,  46,  44,  74, 42,  48, 255,  48,  44,  53, 255, 255, 255, 255,  46,  71,  45, 54, 255, 255,  50, 255,  49,  52, 255, 255, 255, 255, 255, 255, 50,  53, 255, 255,  52,  54,  46,  56,  53,  65,  48,  57, 255, 255, 255, 255, 255,  57,  53,  58,  56,  62,  54,  58, 255, 255, 56,  30, 255, 255, 255, 255, 255, 255, 255, 255, 255, 255,  62, 89,  57,  63,  65,  61,  62, 255,  66,  61, 255, 255, 255, 255, 54,  66,  71,  62,  65,  67,  73,  63,  66,  69, 255, 255, 255, 255, 255, 255,  67, 255,  70, 255,  69, 255, 255, 255,  48,  73, 74,  65, 255, 255, 255, 255,  71, 255,  75,  66,  45,  75,  77, 71,  74, 255,  78,  73, 255, 255, 255, 255,  42,  78,  79,  74, 77, 255,  81,  75,  40,  81,  86,  77, 255, 255, 255, 255,  79, 82,  87,  78,  81,  83, 255, 255,  82, 255,  85, 255, 255, 255, 255, 255,  83, 255, 255, 255,  33,  87,  90,  79,  86, 255,  91, 81, 255, 255, 255, 255, 255, 255,  61, 117,  29,  91,  94,  86, 90, 255,  95,  87, 255, 255, 255, 255,  99, 255, 255, 255,  25, 95, 103,  90,  94, 255,  97,  91, 255, 255, 255, 255, 103,  98, 102,  95,  97,  99, 255, 255,  98, 255,  93, 255, 255, 255, 255, 255,  18, 102, 106, 103, 101, 255, 107,  97,  16,  97, 101,  94, 255, 255, 255, 255, 111, 255, 114, 107,  13, 107, 111, 101, 106, 255, 105, 102, 255, 255, 255, 255, 115, 255, 110, 255, 109, 255, 255, 255,   8, 105, 113, 106, 255, 255, 255, 255,   6, 114, 118, 111, 113, 115, 119, 105, 114, 109, 255, 255, 255, 255, 255, 255, 255, 255,  89, 119,   1, 119, 117, 113, 118, 255, 117, 114};\n",
    "neighbours_begin = reinterpret_cast<ChannelNeighbours *>(&neighbours_raw[0]);\n",
    "neighbours = std::vector<ChannelNeighbours>(neighbours_begin, neighbours_begin + neighbours_raw.size()\n",
    "                                            / sizeof(ChannelNeighbours));\n",
    "\n",
    "{\n",
    "    auto drops = get_drops(neighbours, capacitances, C_THRESHOLD);\n",
    "\n",
    "    xcpp::display(ht::html(\"<h2>Drops (sets of connected channels with capacitance > 3 pF)</h2>\"));\n",
    "    for (auto it_drop = drops.begin(); it_drop != drops.end(); it_drop++) {\n",
    "        auto &drop_i = *it_drop;\n",
    "        xcpp::display(drop_i);\n",
    "    }\n",
    "}"
   ]
  },
  {
   "cell_type": "code",
   "execution_count": 7,
   "metadata": {},
   "outputs": [
    {
     "data": {
      "text/html": [
       "<h2>Channels (including neighbours)</h2>"
      ]
     },
     "metadata": {},
     "output_type": "display_data"
    },
    {
     "data": {
      "text/html": [
       "\n",
       "    <div>\n",
       "    <style scoped=\"\">\n",
       "        .dataframe tbody tr th:only-of-type {\n",
       "            vertical-align: middle;\n",
       "        }\n",
       "        .dataframe tbody tr th {\n",
       "            vertical-align: top;\n",
       "        }\n",
       "        .dataframe thead th {\n",
       "            text-align: right;\n",
       "        }\n",
       "    </style>\n",
       "    <table border=\"1\" class=\"dataframe\">\n",
       "      <tbody>\n",
       "        <tr>\n",
       "          <td>\n",
       "             33</td></tr><tr><td>38</td></tr><tr><td>40</td></tr><tr><td>41</td></tr><tr><td>42</td></tr><tr><td>44</td></tr><tr><td>45</td></tr><tr><td>48</td></tr><tr><td>71</td></tr><tr><td>74</td></tr><tr><td>75</td></tr><tr><td>77</td></tr><tr><td>78</td></tr><tr><td>79</td></tr><tr><td>\n",
       "          </td>\n",
       "        </tr>\n",
       "      </tbody>\n",
       "    </table>\n",
       "    </div>"
      ]
     },
     "metadata": {},
     "output_type": "display_data"
    }
   ],
   "source": [
    "// Neighbours of electrodes\n",
    "{\n",
    "    auto drops = get_drops(neighbours, capacitances, C_THRESHOLD);\n",
    "    std::vector<std::vector<uint8_t>> fringe;\n",
    "\n",
    "    fringe.clear();\n",
    "\n",
    "    for (auto it_drop = drops.begin(); it_drop != drops.end(); it_drop++) {\n",
    "        std::vector<uint8_t> drop_neighbours(neighbours.size());\n",
    "        std::fill(drop_neighbours.begin(), drop_neighbours.end(), 0xFF);\n",
    "        for(auto &channel : *it_drop) {\n",
    "            const auto &neighbours_i = neighbours[channel];\n",
    "            for (auto& x_i : std::array<uint8_t, 4>({neighbours_i.up, neighbours_i.down,\n",
    "                                                     neighbours_i.left, neighbours_i.right})) {\n",
    "                drop_neighbours[x_i] = (*it_drop)[0];\n",
    "            }\n",
    "        }\n",
    "        fringe.push_back(drop_neighbours);\n",
    "    }\n",
    "\n",
    "    auto sorted = fringe[0];\n",
    "    for (auto i = 0; i < sorted.size(); i++) {\n",
    "        if (sorted[i] < 0xFF) { sorted[i] = i; }\n",
    "    }\n",
    "    std::sort(sorted.begin(), sorted.end());\n",
    "    xcpp::display(ht::html(\"<h2>Channels (including neighbours)</h2>\"));\n",
    "    xcpp::display(display_array<int>(UInt8Array_init(std::lower_bound(sorted.begin(),\n",
    "                                                                      std::unique(sorted.begin(),\n",
    "                                                                                  sorted.end()),\n",
    "                                                                      0xFF) - sorted.begin(), &sorted[0])));\n",
    "}"
   ]
  }
 ],
 "metadata": {
  "kernelspec": {
   "display_name": "C++14",
   "language": "C++14",
   "name": "xeus-cling-cpp14"
  },
  "language_info": {
   "codemirror_mode": "text/x-c++src",
   "file_extension": ".cpp",
   "mimetype": "text/x-c++src",
   "name": "c++",
   "version": "14"
  }
 },
 "nbformat": 4,
 "nbformat_minor": 2
}
