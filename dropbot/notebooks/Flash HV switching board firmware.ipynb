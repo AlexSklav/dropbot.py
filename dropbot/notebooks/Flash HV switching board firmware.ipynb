{
 "cells": [
  {
   "cell_type": "code",
   "execution_count": null,
   "metadata": {
    "ExecuteTime": {
     "end_time": "2017-11-22T23:16:29.709000Z",
     "start_time": "2017-11-22T23:16:29.646000Z"
    }
   },
   "outputs": [],
   "source": [
    "import time\n",
    "\n",
    "from IPython.display import display\n",
    "import arrow\n",
    "import base_node\n",
    "import base_node_rpc as bnr\n",
    "import base_node_rpc.bootloader_driver\n",
    "import dropbot as db\n",
    "import hv_switching_board as hv\n",
    "import hv_switching_board.driver\n",
    "import logging; logging.basicConfig(level=logging.DEBUG)\n",
    "import numpy as np\n",
    "import platformio_helpers as pioh\n",
    "import serial_device\n",
    "\n",
    "# Show available COM ports.\n",
    "display(serial_device.comports(only_available=True))\n",
    "\n",
    "try:\n",
    "    proxy.terminate()\n",
    "except:\n",
    "    pass\n",
    "proxy = db.SerialProxy()\n",
    "display(proxy.properties)\n",
    "i2c_devices = proxy.i2c_scan()\n",
    "print 'Found I2C devices at the following addresses: %s' % i2c_devices\n",
    "\n",
    "# Find HV switching board firmware.\n",
    "firmware_path = pioh.conda_bin_path().joinpath('hv-switching-board', 'v3_1',\n",
    "                                               'firmware.hex')\n",
    "print 'Found firmware: %s (%s)' % (firmware_path, arrow.get(firmware_path.mtime).to('local'))\n",
    "\n",
    "\n",
    "def set_uuid(bootloader, value):\n",
    "    '''\n",
    "    Parameters\n",
    "    ----------\n",
    "    value : uuid.UUID\n",
    "    '''\n",
    "    config_bytes = bootloader.read_eeprom(0, base_node.driver.CONFIG_DTYPE.itemsize)\n",
    "    config = np.fromstring(config_bytes.tostring(), dtype=base_node.driver.CONFIG_DTYPE)[0]\n",
    "    config['uuid'] = value.bytes\n",
    "    bootloader.write_eeprom(0, config.tobytes())\n",
    "    \n",
    "    \n",
    "def set_board_uuid(hv_board, value):\n",
    "    bootloader = base_node_rpc.bootloader_driver.TwiBootloader(hv_board.proxy)\n",
    "    hv_board.reboot_recovery()\n",
    "    set_uuid(bootloader, value)\n",
    "    bootloader.start_application()\n",
    "\n",
    "    \n",
    "def write_firmware(proxy):\n",
    "    i2c_devices = proxy.i2c_scan()\n",
    "    switching_board_addrs = [address for address in i2c_devices if address not in [10, 81]]\n",
    "\n",
    "    # Create object to interact with I2C bootloader.\n",
    "    bootloader = bnr.bootloader_driver.TwiBootloader(proxy, bootloader_address=0x29)\n",
    "    if not switching_board_addrs:\n",
    "        raise IOError('No switching boards found on bus.')\n",
    "    elif bootloader.bootloader_address in switching_board_addrs:\n",
    "        print 'I2C bootloader found on bus at address 41.'\n",
    "    else:\n",
    "        selection = None\n",
    "        while selection not in switching_board_addrs:\n",
    "            print ('Please select one of the following switching boards into '\n",
    "                   'recovery mode (or enter \"q\" to quit): %s' %\n",
    "                   switching_board_addrs)\n",
    "\n",
    "            selection = raw_input()\n",
    "            if selection == 'q':\n",
    "                return\n",
    "            try:\n",
    "                selection = int(selection)\n",
    "            except:\n",
    "                pass\n",
    "        if selection in switching_board_addrs:\n",
    "            hv_board = hv.driver.HVSwitchingBoard(proxy, selection)\n",
    "            hv_board.reboot_recovery()\n",
    "            time.sleep(.1)\n",
    "\n",
    "    bootloader.write_firmware(firmware_path)\n",
    "    logging.info('Launch firmware')\n",
    "    bootloader.start_application()\n",
    "    # Wait for switching board firmware to boot.\n",
    "    time.sleep(.1)\n",
    "    i2c_devices = proxy.i2c_scan()\n",
    "    print 'Found I2C devices at the following addresses: %s' % i2c_devices\n",
    "    return selection"
   ]
  },
  {
   "cell_type": "markdown",
   "metadata": {},
   "source": [
    "-----------------------------------------------\n",
    "\n",
    "\n",
    "# Flash firmware"
   ]
  },
  {
   "cell_type": "code",
   "execution_count": null,
   "metadata": {
    "ExecuteTime": {
     "end_time": "2017-11-22T23:16:29.709000Z",
     "start_time": "2017-11-22T23:16:29.646000Z"
    }
   },
   "outputs": [],
   "source": [
    "selection = write_firmware(proxy)"
   ]
  },
  {
   "cell_type": "markdown",
   "metadata": {},
   "source": [
    "-----------------------------------------------\n",
    "\n",
    "\n",
    "# Set switching board UUID"
   ]
  },
  {
   "cell_type": "code",
   "execution_count": null,
   "metadata": {},
   "outputs": [],
   "source": [
    "import uuid\n",
    "\n",
    "assert(selection is not None)\n",
    "hv_board = hv_switching_board.HVSwitchingBoard(proxy, address=selection)\n",
    "hv_uuid = uuid.UUID('XXXXXXXX-XXXX-XXXX-XXXX-XXXXXXXXXXXX')\n",
    "set_board_uuid(hv_board, hv_uuid)\n",
    "time.sleep(.1)\n",
    "print 'Set UUID to:', hv_board.uuid"
   ]
  },
  {
   "cell_type": "markdown",
   "metadata": {},
   "source": [
    "-----------------------------------------------\n",
    "\n",
    "\n",
    "# Set switching board I2C address"
   ]
  },
  {
   "cell_type": "code",
   "execution_count": null,
   "metadata": {},
   "outputs": [],
   "source": [
    "assert(selection is not None)\n",
    "hv_board = hv_switching_board.HVSwitchingBoard(proxy, address=selection)\n",
    "hv_board.set_i2c_address(32)"
   ]
  }
 ],
 "metadata": {
  "kernelspec": {
   "display_name": "Python 2",
   "language": "python",
   "name": "python2"
  },
  "language_info": {
   "codemirror_mode": {
    "name": "ipython",
    "version": 2
   },
   "file_extension": ".py",
   "mimetype": "text/x-python",
   "name": "python",
   "nbconvert_exporter": "python",
   "pygments_lexer": "ipython2",
   "version": "2.7.14"
  },
  "toc": {
   "colors": {
    "hover_highlight": "#DAA520",
    "navigate_num": "#000000",
    "navigate_text": "#333333",
    "running_highlight": "#FF0000",
    "selected_highlight": "#FFD700",
    "sidebar_border": "#EEEEEE",
    "wrapper_background": "#FFFFFF"
   },
   "moveMenuLeft": true,
   "nav_menu": {
    "height": "13px",
    "width": "253px"
   },
   "navigate_menu": true,
   "number_sections": true,
   "sideBar": true,
   "threshold": 4,
   "toc_cell": false,
   "toc_section_display": "block",
   "toc_window_display": false,
   "widenNotebook": false
  }
 },
 "nbformat": 4,
 "nbformat_minor": 2
}
