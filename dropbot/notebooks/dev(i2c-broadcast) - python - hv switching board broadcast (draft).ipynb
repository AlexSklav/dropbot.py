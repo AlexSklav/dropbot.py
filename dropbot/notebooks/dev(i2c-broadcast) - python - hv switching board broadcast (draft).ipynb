{
 "cells": [
  {
   "cell_type": "code",
   "execution_count": 1,
   "metadata": {
    "ExecuteTime": {
     "end_time": "2018-05-02T04:22:49.121000Z",
     "start_time": "2018-05-02T04:22:44.123000Z"
    }
   },
   "outputs": [],
   "source": [
    "from __future__ import (absolute_import, print_function, unicode_literals,\n",
    "                        division)\n",
    "\n",
    "import logging\n",
    "logging.basicConfig(level=logging.DEBUG)\n",
    "\n",
    "import joblib\n",
    "import dropbot as db\n",
    "import dropbot.chip\n",
    "import matplotlib as mpl\n",
    "import matplotlib.cm as cm\n",
    "import matplotlib.ticker\n",
    "import numpy as np\n",
    "import pandas as pd\n",
    "import si_prefix as si\n",
    "\n",
    "# %matplotlib inline\n",
    "\n",
    "F_formatter = mpl.ticker.FuncFormatter(lambda x, *args: si.si_format(x) + 'F')"
   ]
  },
  {
   "cell_type": "markdown",
   "metadata": {},
   "source": [
    "# Open DropBot connection"
   ]
  },
  {
   "cell_type": "code",
   "execution_count": 184,
   "metadata": {
    "ExecuteTime": {
     "end_time": "2018-05-02T05:10:41.044000Z",
     "start_time": "2018-05-02T05:10:40.146000Z"
    }
   },
   "outputs": [
    {
     "name": "stderr",
     "output_type": "stream",
     "text": [
      "DEBUG:base_node_rpc.async:`ProactorEventLoop` required, not `<class 'trollius.windows_events._WindowsSelectorEventLoop'>`loop in background thread.\n",
      "DEBUG:base_node_rpc.async:Execute new loop in background thread.\n",
      "DEBUG:trollius:Using proactor: IocpProactor\n",
      "DEBUG:base_node_rpc.async:`ProactorEventLoop` required, not `<class 'trollius.windows_events._WindowsSelectorEventLoop'>`loop in background thread.\n",
      "DEBUG:base_node_rpc.async:Execute new loop in background thread.\n",
      "DEBUG:trollius:Using proactor: IocpProactor\n",
      "DEBUG:base_node_rpc.proxy:Attempt to connect to device on port COM15 (baudrate=115200)\n",
      "DEBUG:serial_device.threaded:Open `COM15` and monitor connection status\n",
      "DEBUG:serial_device.threaded:connection_made: `COM15` `<ReaderThread(Thread-47, started daemon 4144)>`\n",
      "DEBUG:base_node_rpc.proxy:Wait for connection to port COM15\n",
      "INFO:base_node_rpc.proxy:Successfully connected to dropbot on port COM15\n"
     ]
    },
    {
     "data": {
      "text/plain": [
       "1"
      ]
     },
     "execution_count": 184,
     "metadata": {},
     "output_type": "execute_result"
    }
   ],
   "source": [
    "import base_node_rpc as bnr\n",
    "import base_node_rpc.proxy\n",
    "\n",
    "try:\n",
    "    proxy.terminate()\n",
    "except:\n",
    "    pass\n",
    "proxy = db.SerialProxy(ignore=[bnr.proxy.DeviceVersionMismatch])\n",
    "\n",
    "proxy.enable_events()\n",
    "\n",
    "proxy.update_state(hv_output_enabled=True, hv_output_selected=True,\n",
    "                   voltage=100, frequency=10e3)\n",
    "\n",
    "# Disable channels in contact with copper tape.\n",
    "# disabled_channels_mask_i = proxy.disabled_channels_mask\n",
    "# disabled_channels_mask_i[[89, 30]] = 1\n",
    "# proxy.disabled_channels_mask = disabled_channels_mask_i"
   ]
  },
  {
   "cell_type": "code",
   "execution_count": 185,
   "metadata": {
    "ExecuteTime": {
     "end_time": "2018-05-02T05:10:41.709000Z",
     "start_time": "2018-05-02T05:10:41.675000Z"
    }
   },
   "outputs": [
    {
     "data": {
      "text/plain": [
       "array([31, 32, 33, 34, 80, 81], dtype=uint8)"
      ]
     },
     "execution_count": 185,
     "metadata": {},
     "output_type": "execute_result"
    }
   ],
   "source": [
    "proxy.i2c_scan()"
   ]
  },
  {
   "cell_type": "code",
   "execution_count": 186,
   "metadata": {
    "ExecuteTime": {
     "end_time": "2018-05-02T05:10:42.539000Z",
     "start_time": "2018-05-02T05:10:42.529000Z"
    }
   },
   "outputs": [],
   "source": [
    "import base_node\n",
    "import hv_switching_board as hv"
   ]
  },
  {
   "cell_type": "code",
   "execution_count": 172,
   "metadata": {
    "ExecuteTime": {
     "end_time": "2018-05-02T05:04:44.605000Z",
     "start_time": "2018-05-02T05:04:44.594000Z"
    }
   },
   "outputs": [],
   "source": [
    "# proxy.terminate()"
   ]
  },
  {
   "cell_type": "code",
   "execution_count": 187,
   "metadata": {
    "ExecuteTime": {
     "end_time": "2018-05-02T05:10:43.985000Z",
     "start_time": "2018-05-02T05:10:43.969000Z"
    }
   },
   "outputs": [],
   "source": [
    "CMD_GET_GENERAL_CALL_ENABLED = 0xA5\n",
    "CMD_GET_SENSITIVE_CHANNELS = 0xAA\n",
    "CMD_GET_SWITCHING_MATRIX_ROW = 0xA7\n",
    "CMD_RAM_FREE = 0xA8\n",
    "CMD_REBOOT = 0xA2\n",
    "CMD_RESET_CONFIG = 0xA3\n",
    "CMD_SET_GENERAL_CALL_ENABLED = 0xA4\n",
    "CMD_SET_SENSITIVE_CHANNELS = 0xA9\n",
    "CMD_SET_SWITCHING_MATRIX_ROW = 0xA6\n",
    "PCA9505_CONFIG_IO_REGISTER_ = 0x18\n",
    "PCA9505_OUTPUT_PORT_REGISTER_ = 0x08\n",
    "CMD_GET_SENSITIVE_OFFSET = 0xAB\n"
   ]
  },
  {
   "cell_type": "code",
   "execution_count": 122,
   "metadata": {
    "ExecuteTime": {
     "end_time": "2018-05-02T04:51:59.349000Z",
     "start_time": "2018-05-02T04:51:59.340000Z"
    }
   },
   "outputs": [],
   "source": [
    "# hv_board_i.send_command(CMD_GET_SENSITIVE_OFFSET)\n",
    "# hv_board_i.data\n",
    "# proxy.i2c_read(hv_board_i.address, 5)"
   ]
  },
  {
   "cell_type": "code",
   "execution_count": 57,
   "metadata": {
    "ExecuteTime": {
     "end_time": "2018-05-02T04:39:35.682000Z",
     "start_time": "2018-05-02T04:39:35.672000Z"
    }
   },
   "outputs": [
    {
     "data": {
      "text/plain": [
       "(array([  0,   7,  14,  21,  28,  35,  42,  49,  56,  63,  70,  77,  84,\n",
       "         91,  98, 105, 112, 119]),)"
      ]
     },
     "execution_count": 57,
     "metadata": {},
     "output_type": "execute_result"
    }
   ],
   "source": [
    "np.where(states)"
   ]
  },
  {
   "cell_type": "code",
   "execution_count": 183,
   "metadata": {
    "ExecuteTime": {
     "end_time": "2018-05-02T05:09:12.747000Z",
     "start_time": "2018-05-02T05:09:12.736000Z"
    }
   },
   "outputs": [
    {
     "name": "stderr",
     "output_type": "stream",
     "text": [
      "DEBUG:serial_device.threaded:Connection to port `COM15` closed\n",
      "DEBUG:base_node_rpc.proxy:Connection lost `COM15`\n"
     ]
    }
   ],
   "source": [
    "proxy.terminate()"
   ]
  },
  {
   "cell_type": "code",
   "execution_count": 173,
   "metadata": {
    "ExecuteTime": {
     "end_time": "2018-05-02T04:10:29.566000Z",
     "start_time": "2018-05-02T04:10:29.550000Z"
    }
   },
   "outputs": [
    {
     "data": {
      "text/plain": [
       "array([  4,   2, 129,  64,  32], dtype=uint8)"
      ]
     },
     "execution_count": 173,
     "metadata": {},
     "output_type": "execute_result"
    }
   ],
   "source": [
    "np.packbits(states[::-1])[::-1][5:10]"
   ]
  },
  {
   "cell_type": "code",
   "execution_count": 189,
   "metadata": {
    "ExecuteTime": {
     "end_time": "2018-05-02T05:10:53.291000Z",
     "start_time": "2018-05-02T05:10:53.234000Z"
    }
   },
   "outputs": [],
   "source": [
    "states = np.zeros(proxy.number_of_channels, dtype='bool')\n",
    "# states[::7] = 1\n",
    "proxy.state_of_channels = states"
   ]
  },
  {
   "cell_type": "code",
   "execution_count": 190,
   "metadata": {
    "ExecuteTime": {
     "end_time": "2018-05-02T05:10:54.750000Z",
     "start_time": "2018-05-02T05:10:54.745000Z"
    }
   },
   "outputs": [],
   "source": [
    "hv_board_i = hv.HVSwitchingBoard(proxy, 0)"
   ]
  },
  {
   "cell_type": "code",
   "execution_count": 191,
   "metadata": {
    "ExecuteTime": {
     "end_time": "2018-05-02T05:10:56.751000Z",
     "start_time": "2018-05-02T05:10:56.720000Z"
    }
   },
   "outputs": [],
   "source": [
    "# hv_board_i.write_buffer = np.packbits(states)\n",
    "# hv_board_i.write_buffer[:] = 0\n",
    "states = np.zeros(proxy.number_of_channels, dtype='bool')\n",
    "states[::7] = 1\n",
    "proxy.i2c_write(0, [CMD_SET_SENSITIVE_CHANNELS] + np.packbits(states[::-1])[::-1].tolist())\n",
    "# hv_board_i.send_command(CMD_SET_SENSITIVE_CHANNELS)\n",
    "# proxy.i2c_read(hv_board_i.address, 5)"
   ]
  },
  {
   "cell_type": "code",
   "execution_count": 192,
   "metadata": {
    "ExecuteTime": {
     "end_time": "2018-05-02T05:10:58.084000Z",
     "start_time": "2018-05-02T05:10:57.902000Z"
    }
   },
   "outputs": [
    {
     "name": "stdout",
     "output_type": "stream",
     "text": [
      "[129, 64, 32, 16, 8], [0, 0] [129  64  32  16   8]\n",
      "[4, 2, 129, 64, 32], [6, 0] [  4   2 129  64  32]\n",
      "[16, 8, 4, 2, 129], [12, 0] [ 16   8   4   2 129]\n"
     ]
    }
   ],
   "source": [
    "for board_id in range(3):\n",
    "#     board_id = hv_board_i.address - 32\n",
    "    hv_board_i = hv.HVSwitchingBoard(proxy, 32 + board_id)\n",
    "    hv_board_i.send_command(CMD_GET_SENSITIVE_CHANNELS)\n",
    "    print(hv_board_i.data[:5], end=', ')\n",
    "\n",
    "    hv_board_i.send_command(CMD_GET_SENSITIVE_OFFSET)\n",
    "    print(hv_board_i.data, np.packbits(states[::-1])[::-1][board_id * 5:(board_id + 1) * 5])"
   ]
  },
  {
   "cell_type": "code",
   "execution_count": 98,
   "metadata": {
    "ExecuteTime": {
     "end_time": "2018-05-02T04:45:10.009000Z",
     "start_time": "2018-05-02T04:45:09.982000Z"
    }
   },
   "outputs": [],
   "source": [
    "hv_board_i.send_command??"
   ]
  },
  {
   "cell_type": "code",
   "execution_count": 7,
   "metadata": {
    "ExecuteTime": {
     "end_time": "2018-05-02T03:40:04.783000Z",
     "start_time": "2018-05-02T03:40:04.767000Z"
    }
   },
   "outputs": [],
   "source": [
    "\n",
    "# hv_board_i.serialize_uint8(11)\n",
    "# hv_board_i.send_command(CMD_SET_SWITCHING_MATRIX_ROW)\n",
    "\n",
    "# hv_board_i.send_command(CMD_GET_GENERAL_CALL_ENABLED)\n",
    "# hv_board_i.send_command(CMD_RAM_FREE)\n",
    "# proxy.i2c_read(32, 1)"
   ]
  },
  {
   "cell_type": "code",
   "execution_count": 439,
   "metadata": {
    "ExecuteTime": {
     "end_time": "2018-04-24T16:45:56.152000Z",
     "start_time": "2018-04-24T16:45:56.138000Z"
    }
   },
   "outputs": [],
   "source": [
    "# proxy.i2c_write(0, [CMD_SET_GENERAL_CALL_ENABLED, 1])"
   ]
  },
  {
   "cell_type": "code",
   "execution_count": 204,
   "metadata": {
    "ExecuteTime": {
     "end_time": "2018-05-02T05:13:01.941000Z",
     "start_time": "2018-05-02T05:13:01.852000Z"
    }
   },
   "outputs": [
    {
     "data": {
      "text/plain": [
       "(array([  0,   7,  14,  21,  28,  35,  42,  49,  56,  63,  70,  77,  84,\n",
       "         91,  98, 105, 119]),)"
      ]
     },
     "execution_count": 204,
     "metadata": {},
     "output_type": "execute_result"
    }
   ],
   "source": [
    "proxy.state_of_channels = np.zeros(120)\n",
    "\n",
    "proxy.i2c_write(0, [CMD_SET_SWITCHING_MATRIX_ROW, 16, states.sum()])\n",
    "\n",
    "np.where(proxy.state_of_channels)"
   ]
  },
  {
   "cell_type": "code",
   "execution_count": 166,
   "metadata": {
    "ExecuteTime": {
     "end_time": "2018-05-02T04:56:41.775000Z",
     "start_time": "2018-05-02T04:56:41.729000Z"
    }
   },
   "outputs": [
    {
     "data": {
      "text/plain": [
       "[5, 0]"
      ]
     },
     "execution_count": 166,
     "metadata": {},
     "output_type": "execute_result"
    }
   ],
   "source": [
    "hv_board_i.send_command(CMD_GET_SWITCHING_MATRIX_ROW)\n",
    "hv_board_i.data"
   ]
  },
  {
   "cell_type": "code",
   "execution_count": 364,
   "metadata": {
    "ExecuteTime": {
     "end_time": "2018-04-24T03:06:10.498000Z",
     "start_time": "2018-04-24T03:06:10.482000Z"
    }
   },
   "outputs": [],
   "source": [
    "proxy.i2c_write(0, [CMD_SET_SWITCHING_MATRIX_ROW])"
   ]
  },
  {
   "cell_type": "code",
   "execution_count": 334,
   "metadata": {
    "ExecuteTime": {
     "end_time": "2018-04-23T23:09:55.378000Z",
     "start_time": "2018-04-23T23:09:55.357000Z"
    }
   },
   "outputs": [],
   "source": [
    "proxy.i2c_send_command??"
   ]
  },
  {
   "cell_type": "code",
   "execution_count": null,
   "metadata": {},
   "outputs": [],
   "source": [
    "broadcast.send_command"
   ]
  },
  {
   "cell_type": "code",
   "execution_count": 298,
   "metadata": {
    "ExecuteTime": {
     "end_time": "2018-04-23T23:06:15.501000Z",
     "start_time": "2018-04-23T23:06:15.479000Z"
    }
   },
   "outputs": [],
   "source": [
    "hv_board_i.send_command??"
   ]
  },
  {
   "cell_type": "code",
   "execution_count": 373,
   "metadata": {
    "ExecuteTime": {
     "end_time": "2018-04-24T03:07:41.024000Z",
     "start_time": "2018-04-24T03:07:40.998000Z"
    }
   },
   "outputs": [
    {
     "data": {
      "text/plain": [
       "-1"
      ]
     },
     "execution_count": 373,
     "metadata": {},
     "output_type": "execute_result"
    }
   ],
   "source": [
    "proxy.i2c_write(32, [CMD_GET_SWITCHING_MATRIX_ROW])\n",
    "proxy.i2c_read_byte()"
   ]
  },
  {
   "cell_type": "code",
   "execution_count": 372,
   "metadata": {
    "ExecuteTime": {
     "end_time": "2018-04-24T03:07:35.053000Z",
     "start_time": "2018-04-24T03:07:31.166000Z"
    }
   },
   "outputs": [
    {
     "name": "stdout",
     "output_type": "stream",
     "text": [
      "100 loops, best of 3: 9.4 ms per loop\n"
     ]
    }
   ],
   "source": [
    "%timeit proxy.i2c_write(32, [CMD_SET_SWITCHING_MATRIX_ROW, ])"
   ]
  },
  {
   "cell_type": "code",
   "execution_count": 97,
   "metadata": {
    "ExecuteTime": {
     "end_time": "2018-04-23T21:33:28.414000Z",
     "start_time": "2018-04-23T21:33:28.405000Z"
    }
   },
   "outputs": [],
   "source": [
    "proxy.i2c_read?"
   ]
  },
  {
   "cell_type": "code",
   "execution_count": 15,
   "metadata": {
    "ExecuteTime": {
     "end_time": "2018-04-23T21:23:06.749000Z",
     "start_time": "2018-04-23T21:23:06.743000Z"
    }
   },
   "outputs": [],
   "source": [
    "import numpy as np"
   ]
  },
  {
   "cell_type": "code",
   "execution_count": 35,
   "metadata": {
    "ExecuteTime": {
     "end_time": "2018-04-23T21:28:06.276000Z",
     "start_time": "2018-04-23T21:28:06.270000Z"
    }
   },
   "outputs": [],
   "source": [
    "import base_node as bn"
   ]
  },
  {
   "cell_type": "code",
   "execution_count": 36,
   "metadata": {
    "ExecuteTime": {
     "end_time": "2018-04-23T21:28:34.543000Z",
     "start_time": "2018-04-23T21:28:34.538000Z"
    }
   },
   "outputs": [],
   "source": [
    "board = bn.BaseNode(proxy, address=32)"
   ]
  },
  {
   "cell_type": "code",
   "execution_count": 37,
   "metadata": {
    "ExecuteTime": {
     "end_time": "2018-04-23T21:28:38.937000Z",
     "start_time": "2018-04-23T21:28:38.903000Z"
    }
   },
   "outputs": [
    {
     "data": {
      "text/plain": [
       "'0.10\\x00'"
      ]
     },
     "execution_count": 37,
     "metadata": {},
     "output_type": "execute_result"
    }
   ],
   "source": [
    "board.software_version()"
   ]
  },
  {
   "cell_type": "code",
   "execution_count": 26,
   "metadata": {
    "ExecuteTime": {
     "end_time": "2018-04-23T21:26:43.069000Z",
     "start_time": "2018-04-23T21:26:43.017000Z"
    }
   },
   "outputs": [
    {
     "ename": "ValueError",
     "evalue": "setting an array element with a sequence.",
     "output_type": "error",
     "traceback": [
      "\u001b[1;31m---------------------------------------------------------------------------\u001b[0m",
      "\u001b[1;31mValueError\u001b[0m                                Traceback (most recent call last)",
      "\u001b[1;32m<ipython-input-26-a2825f2aad1e>\u001b[0m in \u001b[0;36m<module>\u001b[1;34m()\u001b[0m\n\u001b[1;32m----> 1\u001b[1;33m \u001b[0mhv_board_i\u001b[0m\u001b[1;33m.\u001b[0m\u001b[0manalog_read\u001b[0m\u001b[1;33m(\u001b[0m\u001b[1;36m13\u001b[0m\u001b[1;33m)\u001b[0m\u001b[1;33m\u001b[0m\u001b[0m\n\u001b[0m",
      "\u001b[1;32mC:\\Users\\chris\\Miniconda2-x86\\envs\\db-dev-copy\\lib\\site-packages\\base_node\\driver.pyc\u001b[0m in \u001b[0;36manalog_read\u001b[1;34m(self, pin)\u001b[0m\n\u001b[0;32m    119\u001b[0m     \u001b[1;32mdef\u001b[0m \u001b[0manalog_read\u001b[0m\u001b[1;33m(\u001b[0m\u001b[0mself\u001b[0m\u001b[1;33m,\u001b[0m \u001b[0mpin\u001b[0m\u001b[1;33m)\u001b[0m\u001b[1;33m:\u001b[0m\u001b[1;33m\u001b[0m\u001b[0m\n\u001b[0;32m    120\u001b[0m         \u001b[0mself\u001b[0m\u001b[1;33m.\u001b[0m\u001b[0mserialize_uint8\u001b[0m\u001b[1;33m(\u001b[0m\u001b[0mpin\u001b[0m\u001b[1;33m)\u001b[0m\u001b[1;33m\u001b[0m\u001b[0m\n\u001b[1;32m--> 121\u001b[1;33m         \u001b[0mself\u001b[0m\u001b[1;33m.\u001b[0m\u001b[0msend_command\u001b[0m\u001b[1;33m(\u001b[0m\u001b[0mCMD_ANALOG_READ\u001b[0m\u001b[1;33m)\u001b[0m\u001b[1;33m\u001b[0m\u001b[0m\n\u001b[0m\u001b[0;32m    122\u001b[0m         \u001b[1;32mreturn\u001b[0m \u001b[0mself\u001b[0m\u001b[1;33m.\u001b[0m\u001b[0mread_uint16\u001b[0m\u001b[1;33m(\u001b[0m\u001b[1;33m)\u001b[0m\u001b[1;33m\u001b[0m\u001b[0m\n\u001b[0;32m    123\u001b[0m \u001b[1;33m\u001b[0m\u001b[0m\n",
      "\u001b[1;32mC:\\Users\\chris\\Miniconda2-x86\\envs\\db-dev-copy\\lib\\site-packages\\base_node\\driver.pyc\u001b[0m in \u001b[0;36msend_command\u001b[1;34m(self, cmd)\u001b[0m\n\u001b[0;32m    195\u001b[0m     \u001b[1;32mdef\u001b[0m \u001b[0msend_command\u001b[0m\u001b[1;33m(\u001b[0m\u001b[0mself\u001b[0m\u001b[1;33m,\u001b[0m \u001b[0mcmd\u001b[0m\u001b[1;33m)\u001b[0m\u001b[1;33m:\u001b[0m\u001b[1;33m\u001b[0m\u001b[0m\n\u001b[0;32m    196\u001b[0m         self.data = (self.proxy.i2c_send_command(self.address, cmd,\n\u001b[1;32m--> 197\u001b[1;33m                                                  self.write_buffer)\n\u001b[0m\u001b[0;32m    198\u001b[0m                      .tolist())\n\u001b[0;32m    199\u001b[0m         \u001b[0mself\u001b[0m\u001b[1;33m.\u001b[0m\u001b[0mwrite_buffer\u001b[0m \u001b[1;33m=\u001b[0m \u001b[1;33m[\u001b[0m\u001b[1;33m]\u001b[0m\u001b[1;33m\u001b[0m\u001b[0m\n",
      "\u001b[1;32mC:\\Users\\chris\\Documents\\GitHub\\dropbot.py\\dropbot\\proxy_py2.pyc\u001b[0m in \u001b[0;36mi2c_send_command\u001b[1;34m(self, address, cmd, data)\u001b[0m\n\u001b[0;32m    230\u001b[0m             \u001b[0mself\u001b[0m\u001b[1;33m.\u001b[0m\u001b[0mi2c_write\u001b[0m\u001b[1;33m(\u001b[0m\u001b[0maddress\u001b[0m\u001b[1;33m,\u001b[0m \u001b[1;33m[\u001b[0m\u001b[0mcmd\u001b[0m\u001b[1;33m]\u001b[0m \u001b[1;33m+\u001b[0m \u001b[0mdata\u001b[0m\u001b[1;33m)\u001b[0m\u001b[1;33m\u001b[0m\u001b[0m\n\u001b[0;32m    231\u001b[0m             \u001b[0mn\u001b[0m \u001b[1;33m=\u001b[0m \u001b[0mself\u001b[0m\u001b[1;33m.\u001b[0m\u001b[0mi2c_read\u001b[0m\u001b[1;33m(\u001b[0m\u001b[0maddress\u001b[0m\u001b[1;33m,\u001b[0m \u001b[1;36m1\u001b[0m\u001b[1;33m)\u001b[0m\u001b[1;33m\u001b[0m\u001b[0m\n\u001b[1;32m--> 232\u001b[1;33m             \u001b[1;32mreturn\u001b[0m \u001b[0mself\u001b[0m\u001b[1;33m.\u001b[0m\u001b[0mi2c_read\u001b[0m\u001b[1;33m(\u001b[0m\u001b[0maddress\u001b[0m\u001b[1;33m,\u001b[0m \u001b[0mn\u001b[0m\u001b[1;33m)\u001b[0m\u001b[1;33m\u001b[0m\u001b[0m\n\u001b[0m\u001b[0;32m    233\u001b[0m \u001b[1;33m\u001b[0m\u001b[0m\n\u001b[0;32m    234\u001b[0m         \u001b[1;32mdef\u001b[0m \u001b[0mmeasure_capacitance\u001b[0m\u001b[1;33m(\u001b[0m\u001b[0mself\u001b[0m\u001b[1;33m,\u001b[0m \u001b[0mn_samples\u001b[0m\u001b[1;33m=\u001b[0m\u001b[1;36m50\u001b[0m\u001b[1;33m,\u001b[0m \u001b[0mamplitude\u001b[0m\u001b[1;33m=\u001b[0m\u001b[1;34m'filtered_mean'\u001b[0m\u001b[1;33m)\u001b[0m\u001b[1;33m:\u001b[0m\u001b[1;33m\u001b[0m\u001b[0m\n",
      "\u001b[1;32mC:\\Users\\chris\\Documents\\GitHub\\dropbot.py\\dropbot\\node.pyc\u001b[0m in \u001b[0;36mi2c_read\u001b[1;34m(self, address, n_bytes_to_read)\u001b[0m\n\u001b[0;32m    779\u001b[0m         \u001b[0mpayload_size\u001b[0m \u001b[1;33m=\u001b[0m \u001b[0mARG_STRUCT_SIZE\u001b[0m \u001b[1;33m+\u001b[0m \u001b[0mlen\u001b[0m\u001b[1;33m(\u001b[0m\u001b[0marray_data\u001b[0m\u001b[1;33m)\u001b[0m\u001b[1;33m\u001b[0m\u001b[0m\n\u001b[0;32m    780\u001b[0m         struct_data = np.array([(address, n_bytes_to_read, )],\n\u001b[1;32m--> 781\u001b[1;33m                                dtype=[('address', 'uint8'), ('n_bytes_to_read', 'uint8'), ])\n\u001b[0m\u001b[0;32m    782\u001b[0m         \u001b[0mpayload_data\u001b[0m \u001b[1;33m=\u001b[0m \u001b[0mstruct_data\u001b[0m\u001b[1;33m.\u001b[0m\u001b[0mtostring\u001b[0m\u001b[1;33m(\u001b[0m\u001b[1;33m)\u001b[0m \u001b[1;33m+\u001b[0m \u001b[0marray_data\u001b[0m\u001b[1;33m\u001b[0m\u001b[0m\n\u001b[0;32m    783\u001b[0m \u001b[1;33m\u001b[0m\u001b[0m\n",
      "\u001b[1;31mValueError\u001b[0m: setting an array element with a sequence."
     ]
    }
   ],
   "source": [
    "hv_board_i.analog_read(13)"
   ]
  },
  {
   "cell_type": "code",
   "execution_count": 34,
   "metadata": {
    "ExecuteTime": {
     "end_time": "2018-04-23T21:27:31.292000Z",
     "start_time": "2018-04-23T21:27:31.268000Z"
    }
   },
   "outputs": [
    {
     "ename": "TypeError",
     "evalue": "data type not understood",
     "output_type": "error",
     "traceback": [
      "\u001b[1;31m---------------------------------------------------------------------------\u001b[0m",
      "\u001b[1;31mTypeError\u001b[0m                                 Traceback (most recent call last)",
      "\u001b[1;32m<ipython-input-34-bc9a81dacfc6>\u001b[0m in \u001b[0;36m<module>\u001b[1;34m()\u001b[0m\n\u001b[0;32m      2\u001b[0m \u001b[0mn_bytes_to_read\u001b[0m \u001b[1;33m=\u001b[0m \u001b[0mnp\u001b[0m\u001b[1;33m.\u001b[0m\u001b[0muint8\u001b[0m\u001b[1;33m(\u001b[0m\u001b[1;36m3\u001b[0m\u001b[1;33m)\u001b[0m\u001b[1;33m\u001b[0m\u001b[0m\n\u001b[0;32m      3\u001b[0m \u001b[1;33m\u001b[0m\u001b[0m\n\u001b[1;32m----> 4\u001b[1;33m \u001b[0mnp\u001b[0m\u001b[1;33m.\u001b[0m\u001b[0marray\u001b[0m\u001b[1;33m(\u001b[0m\u001b[1;33m[\u001b[0m\u001b[1;33m(\u001b[0m\u001b[0maddress\u001b[0m\u001b[1;33m,\u001b[0m \u001b[0mn_bytes_to_read\u001b[0m\u001b[1;33m,\u001b[0m \u001b[1;33m)\u001b[0m\u001b[1;33m]\u001b[0m\u001b[1;33m,\u001b[0m \u001b[0mdtype\u001b[0m\u001b[1;33m=\u001b[0m\u001b[1;33m[\u001b[0m\u001b[1;33m(\u001b[0m\u001b[1;34m'address'\u001b[0m\u001b[1;33m,\u001b[0m \u001b[1;34m'uint8'\u001b[0m\u001b[1;33m)\u001b[0m\u001b[1;33m,\u001b[0m \u001b[1;33m(\u001b[0m\u001b[1;34m'n_bytes_to_read'\u001b[0m\u001b[1;33m,\u001b[0m \u001b[1;34m'uint8'\u001b[0m\u001b[1;33m)\u001b[0m\u001b[1;33m,\u001b[0m \u001b[1;33m]\u001b[0m\u001b[1;33m)\u001b[0m\u001b[1;33m\u001b[0m\u001b[0m\n\u001b[0m",
      "\u001b[1;31mTypeError\u001b[0m: data type not understood"
     ]
    }
   ],
   "source": [
    "address = np.uint8(0x32)\n",
    "n_bytes_to_read = np.uint8(3)\n",
    "\n",
    "np.array([(address, n_bytes_to_read, )], dtype=[('address', 'uint8'), ('n_bytes_to_read', 'uint8'), ])"
   ]
  },
  {
   "cell_type": "code",
   "execution_count": 7,
   "metadata": {
    "ExecuteTime": {
     "end_time": "2018-04-23T21:21:22.366000Z",
     "start_time": "2018-04-23T21:21:22.357000Z"
    }
   },
   "outputs": [],
   "source": [
    "proxy.i2c_request(0x32, )\n"
   ]
  },
  {
   "cell_type": "code",
   "execution_count": 1,
   "metadata": {
    "ExecuteTime": {
     "end_time": "2018-04-25T20:14:56.033000Z",
     "start_time": "2018-04-25T20:14:55.941000Z"
    }
   },
   "outputs": [
    {
     "ename": "NameError",
     "evalue": "name 'proxy' is not defined",
     "output_type": "error",
     "traceback": [
      "\u001b[1;31m---------------------------------------------------------------------------\u001b[0m",
      "\u001b[1;31mNameError\u001b[0m                                 Traceback (most recent call last)",
      "\u001b[1;32m<ipython-input-1-d6a6197ca93f>\u001b[0m in \u001b[0;36m<module>\u001b[1;34m()\u001b[0m\n\u001b[1;32m----> 1\u001b[1;33m \u001b[0mproxy\u001b[0m\u001b[1;33m.\u001b[0m\u001b[0mterminate\u001b[0m\u001b[1;33m(\u001b[0m\u001b[1;33m)\u001b[0m\u001b[1;33m\u001b[0m\u001b[0m\n\u001b[0m",
      "\u001b[1;31mNameError\u001b[0m: name 'proxy' is not defined"
     ]
    }
   ],
   "source": [
    "proxy.terminate()"
   ]
  }
 ],
 "metadata": {
  "kernelspec": {
   "display_name": "Python 2",
   "language": "python",
   "name": "python2"
  },
  "language_info": {
   "codemirror_mode": {
    "name": "ipython",
    "version": 2
   },
   "file_extension": ".py",
   "mimetype": "text/x-python",
   "name": "python",
   "nbconvert_exporter": "python",
   "pygments_lexer": "ipython2",
   "version": "2.7.14"
  },
  "toc": {
   "base_numbering": 1,
   "nav_menu": {},
   "number_sections": true,
   "sideBar": false,
   "skip_h1_title": false,
   "title_cell": "Table of Contents",
   "title_sidebar": "Contents",
   "toc_cell": false,
   "toc_position": {
    "height": "137px",
    "left": "1097.97px",
    "top": "142.597px",
    "width": "288px"
   },
   "toc_section_display": true,
   "toc_window_display": true
  }
 },
 "nbformat": 4,
 "nbformat_minor": 2
}
